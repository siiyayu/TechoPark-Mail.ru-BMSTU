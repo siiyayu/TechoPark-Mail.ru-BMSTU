{
  "nbformat": 4,
  "nbformat_minor": 0,
  "metadata": {
    "kernelspec": {
      "display_name": "Python 3",
      "language": "python",
      "name": "python3"
    },
    "language_info": {
      "codemirror_mode": {
        "name": "ipython",
        "version": 3
      },
      "file_extension": ".py",
      "mimetype": "text/x-python",
      "name": "python",
      "nbconvert_exporter": "python",
      "pygments_lexer": "ipython3",
      "version": "3.6.8"
    },
    "toc": {
      "base_numbering": 1,
      "nav_menu": {},
      "number_sections": true,
      "sideBar": true,
      "skip_h1_title": false,
      "title_cell": "Table of Contents",
      "title_sidebar": "Contents",
      "toc_cell": true,
      "toc_position": {},
      "toc_section_display": true,
      "toc_window_display": false
    },
    "colab": {
      "name": "language_detection.ipynb",
      "provenance": []
    }
  },
  "cells": [
    {
      "cell_type": "markdown",
      "metadata": {
        "toc": true,
        "id": "z4qXfid05H8i"
      },
      "source": [
        "<h1>Table of Contents<span class=\"tocSkip\"></span></h1>\n",
        "<div class=\"toc\"><ul class=\"toc-item\"><li><span><a href=\"#Exploratory-Data-Analysis-and-Metric\" data-toc-modified-id=\"Exploratory-Data-Analysis-and-Metric-1\"><span class=\"toc-item-num\">1&nbsp;&nbsp;</span>Exploratory Data Analysis and Metric</a></span></li><li><span><a href=\"#Model\" data-toc-modified-id=\"Model-2\"><span class=\"toc-item-num\">2&nbsp;&nbsp;</span>Model</a></span></li><li><span><a href=\"#Submit\" data-toc-modified-id=\"Submit-3\"><span class=\"toc-item-num\">3&nbsp;&nbsp;</span>Submit</a></span></li><li><span><a href=\"#Homework\" data-toc-modified-id=\"Homework-4\"><span class=\"toc-item-num\">4&nbsp;&nbsp;</span>Homework</a></span></li></ul></div>"
      ]
    },
    {
      "cell_type": "code",
      "metadata": {
        "ExecuteTime": {
          "end_time": "2020-11-02T16:33:14.441587Z",
          "start_time": "2020-11-02T16:33:11.754975Z"
        },
        "id": "zKGUoaKM5H8j"
      },
      "source": [
        "import pandas as pd\n",
        "import matplotlib.pyplot as plt\n",
        "plt.style.use('ggplot')\n",
        "\n",
        "from sklearn.model_selection import train_test_split\n",
        "from sklearn.preprocessing  import LabelEncoder\n",
        "from sklearn.feature_extraction.text import TfidfVectorizer\n",
        "from sklearn.linear_model import SGDClassifier\n",
        "from sklearn.pipeline import Pipeline\n",
        "from sklearn.metrics import balanced_accuracy_score"
      ],
      "execution_count": null,
      "outputs": []
    },
    {
      "cell_type": "code",
      "metadata": {
        "ExecuteTime": {
          "end_time": "2020-11-02T16:33:18.562804Z",
          "start_time": "2020-11-02T16:33:18.560434Z"
        },
        "id": "lrcg_NxN5H80"
      },
      "source": [
        "SEED = 42"
      ],
      "execution_count": null,
      "outputs": []
    },
    {
      "cell_type": "code",
      "metadata": {
        "ExecuteTime": {
          "end_time": "2020-11-02T16:33:19.185564Z",
          "start_time": "2020-11-02T16:33:19.182543Z"
        },
        "id": "ucMDHqfN5H9C"
      },
      "source": [
        "DATA_PATH = './data/competition_data'"
      ],
      "execution_count": null,
      "outputs": []
    },
    {
      "cell_type": "markdown",
      "metadata": {
        "id": "S38ssuk45H9H"
      },
      "source": [
        "**[Kaggle InClass: Language Detection](https://www.kaggle.com/c/introml2020-3)**"
      ]
    },
    {
      "cell_type": "markdown",
      "metadata": {
        "ExecuteTime": {
          "end_time": "2020-10-30T12:22:00.913789Z",
          "start_time": "2020-10-30T12:22:00.909736Z"
        },
        "id": "Xz9ieska5H9I"
      },
      "source": [
        "# Exploratory Data Analysis and Metric"
      ]
    },
    {
      "cell_type": "code",
      "metadata": {
        "ExecuteTime": {
          "end_time": "2020-11-02T16:33:40.445765Z",
          "start_time": "2020-11-02T16:33:23.606453Z"
        },
        "id": "plYYDjVa5H9J"
      },
      "source": [
        "train_df = pd.read_csv(f'{DATA_PATH}/train.csv.gz')\n",
        "test_df = pd.read_csv(f'{DATA_PATH}/test.csv.gz')"
      ],
      "execution_count": null,
      "outputs": []
    },
    {
      "cell_type": "code",
      "metadata": {
        "ExecuteTime": {
          "end_time": "2020-11-02T16:33:43.169067Z",
          "start_time": "2020-11-02T16:33:43.164005Z"
        },
        "id": "Z0ZardgR5H9R"
      },
      "source": [
        "train_df.shape, test_df.shape"
      ],
      "execution_count": null,
      "outputs": []
    },
    {
      "cell_type": "code",
      "metadata": {
        "ExecuteTime": {
          "end_time": "2020-11-02T16:33:44.060705Z",
          "start_time": "2020-11-02T16:33:44.047083Z"
        },
        "id": "AMVTSaSp5H9W"
      },
      "source": [
        "train_df.head(15)"
      ],
      "execution_count": null,
      "outputs": []
    },
    {
      "cell_type": "code",
      "metadata": {
        "ExecuteTime": {
          "end_time": "2020-11-02T16:33:46.575260Z",
          "start_time": "2020-11-02T16:33:46.285985Z"
        },
        "id": "DyRSD7io5H9b"
      },
      "source": [
        "lang_count = (\n",
        "    train_df.language.value_counts()\n",
        "    .to_frame()\n",
        "    .reset_index()\n",
        ")\n",
        "\n",
        "lang_count.head()"
      ],
      "execution_count": null,
      "outputs": []
    },
    {
      "cell_type": "code",
      "metadata": {
        "ExecuteTime": {
          "end_time": "2020-11-02T16:33:52.339161Z",
          "start_time": "2020-11-02T16:33:51.481475Z"
        },
        "id": "fcFtDgCy5H9i"
      },
      "source": [
        "fig, ax = plt.subplots(figsize=(8,25))\n",
        "\n",
        "ax.barh(lang_count['index'], lang_count['language'])\n",
        "ax.invert_yaxis();"
      ],
      "execution_count": null,
      "outputs": []
    },
    {
      "cell_type": "code",
      "metadata": {
        "ExecuteTime": {
          "end_time": "2020-11-02T16:34:02.411549Z",
          "start_time": "2020-11-02T16:34:02.401279Z"
        },
        "id": "eKFULCy35H9m"
      },
      "source": [
        "lang_count[lang_count['index'].apply(lambda x: x in {\"en\", \"kk\"})]"
      ],
      "execution_count": null,
      "outputs": []
    },
    {
      "cell_type": "markdown",
      "metadata": {
        "id": "xvCM5Dw-5H9t"
      },
      "source": [
        "Датасет сильно не сбалансирован по классам, а требуется хорошее качество для всех языков, поэтому метрика в данном соревновании — взвешенная доля правильных ответов:\n",
        "\n",
        "$$ \n",
        "\\text{WeightedAccuracy}\\left(y, \\hat{y}, w\\right) = \\frac{\\displaystyle{\\sum_{i=1}^{n}} w_i \\cdot \\left(y_i == \\hat{y}_i\\right)}{\\displaystyle\\sum_{i=1}^{n} w_i } \n",
        "$$\n",
        "\n",
        "Веса выбирались обратно пропорционально количеству примеров соответствующего языка:\n",
        "$$\n",
        "w\\left(\\text{\"en\"}\\right) \\sim \\frac{1}{157655}\n",
        "$$\n",
        "$$ \\dots $$\n",
        "$$\n",
        "w\\left(\\text{\"kk\"}\\right) \\sim \\frac{1}{2046}\n",
        "$$\n",
        "\n",
        "Поэтому для валидации можно использовать [sklearn.metrics.balanced_accuracy_score](https://scikit-learn.org/stable/modules/model_evaluation.html#balanced-accuracy-score)"
      ]
    },
    {
      "cell_type": "markdown",
      "metadata": {
        "id": "dDg8sNuC5H9v"
      },
      "source": [
        "# Model"
      ]
    },
    {
      "cell_type": "code",
      "metadata": {
        "ExecuteTime": {
          "end_time": "2020-11-02T16:34:28.973940Z",
          "start_time": "2020-11-02T16:34:26.730083Z"
        },
        "id": "5iJJsfRM5H9v"
      },
      "source": [
        "x = train_df.values[:,  0]\n",
        "label_encoder = LabelEncoder().fit(train_df.values[:, 1])\n",
        "y = label_encoder.transform(train_df.values[:, 1])\n",
        "\n",
        "x_train, x_test, y_train, y_test = train_test_split(x, y, test_size=0.2, random_state=SEED)"
      ],
      "execution_count": null,
      "outputs": []
    },
    {
      "cell_type": "code",
      "metadata": {
        "ExecuteTime": {
          "end_time": "2020-11-02T16:34:33.239320Z",
          "start_time": "2020-11-02T16:34:33.219760Z"
        },
        "id": "lLjxnq115H9z"
      },
      "source": [
        "pipe = Pipeline([\n",
        "    ('vectorizer', TfidfVectorizer()),\n",
        "    ('model', SGDClassifier(random_state=SEED, loss='log'))\n",
        "])"
      ],
      "execution_count": null,
      "outputs": []
    },
    {
      "cell_type": "code",
      "metadata": {
        "ExecuteTime": {
          "end_time": "2020-11-02T16:43:03.433335Z",
          "start_time": "2020-11-02T16:34:35.725425Z"
        },
        "id": "72PwkOzr5H93"
      },
      "source": [
        "pipe.fit(x_train, y_train)"
      ],
      "execution_count": null,
      "outputs": []
    },
    {
      "cell_type": "code",
      "metadata": {
        "ExecuteTime": {
          "end_time": "2020-11-02T17:00:23.673359Z",
          "start_time": "2020-11-02T16:58:38.172304Z"
        },
        "id": "bcaAzhmr5H97"
      },
      "source": [
        "predictions = pipe.predict(x_train)"
      ],
      "execution_count": null,
      "outputs": []
    },
    {
      "cell_type": "code",
      "metadata": {
        "ExecuteTime": {
          "end_time": "2020-11-02T17:00:25.961893Z",
          "start_time": "2020-11-02T17:00:23.689273Z"
        },
        "id": "SrLeCSJd5H-A"
      },
      "source": [
        "balanced_accuracy_score(y_train, predictions)"
      ],
      "execution_count": null,
      "outputs": []
    },
    {
      "cell_type": "code",
      "metadata": {
        "ExecuteTime": {
          "end_time": "2020-11-02T17:01:19.400035Z",
          "start_time": "2020-11-02T17:00:25.967579Z"
        },
        "id": "hlfkRPSi5H-D"
      },
      "source": [
        "test_predictions = pipe.predict(x_test)"
      ],
      "execution_count": null,
      "outputs": []
    },
    {
      "cell_type": "code",
      "metadata": {
        "ExecuteTime": {
          "end_time": "2020-11-02T17:01:20.025496Z",
          "start_time": "2020-11-02T17:01:19.411256Z"
        },
        "id": "r0oOTr9C5H-J"
      },
      "source": [
        "balanced_accuracy_score(y_test, test_predictions)"
      ],
      "execution_count": null,
      "outputs": []
    },
    {
      "cell_type": "markdown",
      "metadata": {
        "id": "CJpOt8Tq5H-M"
      },
      "source": [
        "# Submit"
      ]
    },
    {
      "cell_type": "code",
      "metadata": {
        "ExecuteTime": {
          "end_time": "2020-11-02T17:08:53.605097Z",
          "start_time": "2020-11-02T17:01:37.409400Z"
        },
        "id": "fSdaHXkd5H-O"
      },
      "source": [
        "submit_predictions = pipe.predict(test_df.sentence.values)"
      ],
      "execution_count": null,
      "outputs": []
    },
    {
      "cell_type": "code",
      "metadata": {
        "ExecuteTime": {
          "end_time": "2020-11-02T17:19:48.552352Z",
          "start_time": "2020-11-02T17:19:47.893856Z"
        },
        "id": "q1E7u7Zp5H-R"
      },
      "source": [
        "test_df['language'] = label_encoder.classes_[submit_predictions]\n",
        "\n",
        "test_df.head()"
      ],
      "execution_count": null,
      "outputs": []
    },
    {
      "cell_type": "code",
      "metadata": {
        "ExecuteTime": {
          "end_time": "2020-11-02T17:20:19.971011Z",
          "start_time": "2020-11-02T17:19:57.206165Z"
        },
        "id": "_DjjGI225H-U"
      },
      "source": [
        "(\n",
        "    test_df[['index',  'language']]\n",
        "    .to_csv(f'{DATA_PATH}/sample_submission.csv', index=False)\n",
        ")"
      ],
      "execution_count": null,
      "outputs": []
    },
    {
      "cell_type": "code",
      "metadata": {
        "ExecuteTime": {
          "end_time": "2020-11-02T17:20:23.355594Z",
          "start_time": "2020-11-02T17:20:23.102693Z"
        },
        "id": "WE4Kte4E5H-Y"
      },
      "source": [
        "!head $DATA_PATH/sample_submission.csv"
      ],
      "execution_count": null,
      "outputs": []
    },
    {
      "cell_type": "markdown",
      "metadata": {
        "id": "SVvVwxd95H-b"
      },
      "source": [
        "# Homework\n",
        "\n",
        "- выбить хороший score на private leaderboard'е (8 баллов)\n",
        "- совет: поищите ошибки в train-части датасета"
      ]
    },
    {
      "cell_type": "code",
      "metadata": {
        "id": "fgXaicPR5H-c"
      },
      "source": [
        ""
      ],
      "execution_count": null,
      "outputs": []
    }
  ]
}