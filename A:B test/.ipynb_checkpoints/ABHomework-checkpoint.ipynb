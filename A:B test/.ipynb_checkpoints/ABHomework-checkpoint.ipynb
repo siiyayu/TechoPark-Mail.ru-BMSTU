{
 "cells": [
  {
   "cell_type": "markdown",
   "metadata": {},
   "source": [
    "## AB Tests"
   ]
  },
  {
   "cell_type": "code",
   "execution_count": 13,
   "metadata": {},
   "outputs": [],
   "source": [
    "import pandas as pd\n",
    "import numpy as np\n",
    "import statsmodels\n",
    "import matplotlib.pyplot as plt\n",
    "import scipy\n",
    "import xgboost as xgb\n",
    "import statsmodels.formula.api as smf\n",
    "from matplotlib import pyplot as plt\n",
    "from sklearn.manifold import TSNE\n",
    "from sklearn.linear_model import SGDClassifier\n",
    "from sklearn.model_selection import train_test_split, cross_val_score\n",
    "from causalml.inference.meta import BaseSClassifier, BaseTClassifier, BaseXClassifier"
   ]
  },
  {
   "cell_type": "code",
   "execution_count": 52,
   "metadata": {
    "scrolled": true
   },
   "outputs": [],
   "source": [
    "# !pip3 install causalml"
   ]
  },
  {
   "cell_type": "markdown",
   "metadata": {},
   "source": [
    "### 1. Оценка результатов AB теста"
   ]
  },
  {
   "cell_type": "markdown",
   "metadata": {},
   "source": [
    "В данном задании вам требуется оценить результаты AB теста. Даны результаты на контрольной и тестовой группе после проведения AB теста.\n",
    "Помимо показателей целевой переменной, вам даны также несколько фичей, которые являются характеристиками объектов. Даны целевые показатели (y) и принадлежность к целевой группе (W).\n",
    "\n",
    "</u>Задача:</u>\n",
    "1. Проверьте подходящую для данных гипотезу о равенстве средних в выборках\n",
    "2. Каков treatment effect нашего воздействия? (ATE) \n",
    "3. Примените известные вам методы оценки ATE с учетом особенностей данных.\n",
    "4. Проанализируйте, сравните результаты применения различных методов.\n",
    "5. В явном виде выпишите выводы.\n",
    "\n",
    "</i>Примечание: предположения о рандомизированном эксперименте нуждаются в проверке - независимость treatment от объектов не гарантирована. Все предположения выписывайте явно.</i> \n",
    "\n",
    "Для данной задачи используется dataset:  dataset_part1_students.csv"
   ]
  },
  {
   "cell_type": "code",
   "execution_count": 105,
   "metadata": {},
   "outputs": [
    {
     "data": {
      "text/html": [
       "<div>\n",
       "<style scoped>\n",
       "    .dataframe tbody tr th:only-of-type {\n",
       "        vertical-align: middle;\n",
       "    }\n",
       "\n",
       "    .dataframe tbody tr th {\n",
       "        vertical-align: top;\n",
       "    }\n",
       "\n",
       "    .dataframe thead th {\n",
       "        text-align: right;\n",
       "    }\n",
       "</style>\n",
       "<table border=\"1\" class=\"dataframe\">\n",
       "  <thead>\n",
       "    <tr style=\"text-align: right;\">\n",
       "      <th></th>\n",
       "      <th>y</th>\n",
       "      <th>W</th>\n",
       "      <th>X_1</th>\n",
       "      <th>X_2</th>\n",
       "      <th>X_3</th>\n",
       "      <th>X_4</th>\n",
       "      <th>X_5</th>\n",
       "      <th>X_6</th>\n",
       "      <th>X_7</th>\n",
       "      <th>X_8</th>\n",
       "      <th>X_9</th>\n",
       "      <th>X_10</th>\n",
       "    </tr>\n",
       "  </thead>\n",
       "  <tbody>\n",
       "    <tr>\n",
       "      <th>0</th>\n",
       "      <td>-1.459404</td>\n",
       "      <td>0.0</td>\n",
       "      <td>0.986277</td>\n",
       "      <td>0.873392</td>\n",
       "      <td>0.509746</td>\n",
       "      <td>0.271836</td>\n",
       "      <td>0.336919</td>\n",
       "      <td>0.216954</td>\n",
       "      <td>0.276477</td>\n",
       "      <td>0.343316</td>\n",
       "      <td>0.862159</td>\n",
       "      <td>0.156700</td>\n",
       "    </tr>\n",
       "    <tr>\n",
       "      <th>1</th>\n",
       "      <td>-1.694174</td>\n",
       "      <td>0.0</td>\n",
       "      <td>0.140887</td>\n",
       "      <td>0.757080</td>\n",
       "      <td>0.736325</td>\n",
       "      <td>0.355663</td>\n",
       "      <td>0.341093</td>\n",
       "      <td>0.666803</td>\n",
       "      <td>0.217101</td>\n",
       "      <td>0.561427</td>\n",
       "      <td>0.124179</td>\n",
       "      <td>0.319736</td>\n",
       "    </tr>\n",
       "    <tr>\n",
       "      <th>2</th>\n",
       "      <td>5.378374</td>\n",
       "      <td>0.0</td>\n",
       "      <td>0.953214</td>\n",
       "      <td>0.137357</td>\n",
       "      <td>0.569413</td>\n",
       "      <td>0.975665</td>\n",
       "      <td>0.503367</td>\n",
       "      <td>0.667664</td>\n",
       "      <td>0.034191</td>\n",
       "      <td>0.456119</td>\n",
       "      <td>0.155851</td>\n",
       "      <td>0.476049</td>\n",
       "    </tr>\n",
       "    <tr>\n",
       "      <th>3</th>\n",
       "      <td>2.188189</td>\n",
       "      <td>1.0</td>\n",
       "      <td>0.169702</td>\n",
       "      <td>0.896258</td>\n",
       "      <td>0.373394</td>\n",
       "      <td>0.379693</td>\n",
       "      <td>0.858317</td>\n",
       "      <td>0.646061</td>\n",
       "      <td>0.583462</td>\n",
       "      <td>0.668350</td>\n",
       "      <td>0.177793</td>\n",
       "      <td>0.849248</td>\n",
       "    </tr>\n",
       "    <tr>\n",
       "      <th>4</th>\n",
       "      <td>2.862696</td>\n",
       "      <td>1.0</td>\n",
       "      <td>0.442373</td>\n",
       "      <td>0.831468</td>\n",
       "      <td>0.763921</td>\n",
       "      <td>0.919691</td>\n",
       "      <td>0.070573</td>\n",
       "      <td>0.156165</td>\n",
       "      <td>0.636894</td>\n",
       "      <td>0.555696</td>\n",
       "      <td>0.191929</td>\n",
       "      <td>0.425656</td>\n",
       "    </tr>\n",
       "  </tbody>\n",
       "</table>\n",
       "</div>"
      ],
      "text/plain": [
       "          y    W       X_1       X_2       X_3       X_4       X_5       X_6  \\\n",
       "0 -1.459404  0.0  0.986277  0.873392  0.509746  0.271836  0.336919  0.216954   \n",
       "1 -1.694174  0.0  0.140887  0.757080  0.736325  0.355663  0.341093  0.666803   \n",
       "2  5.378374  0.0  0.953214  0.137357  0.569413  0.975665  0.503367  0.667664   \n",
       "3  2.188189  1.0  0.169702  0.896258  0.373394  0.379693  0.858317  0.646061   \n",
       "4  2.862696  1.0  0.442373  0.831468  0.763921  0.919691  0.070573  0.156165   \n",
       "\n",
       "        X_7       X_8       X_9      X_10  \n",
       "0  0.276477  0.343316  0.862159  0.156700  \n",
       "1  0.217101  0.561427  0.124179  0.319736  \n",
       "2  0.034191  0.456119  0.155851  0.476049  \n",
       "3  0.583462  0.668350  0.177793  0.849248  \n",
       "4  0.636894  0.555696  0.191929  0.425656  "
      ]
     },
     "execution_count": 105,
     "metadata": {},
     "output_type": "execute_result"
    }
   ],
   "source": [
    "df1 = pd.read_csv('data/dataset_part1_students.csv', sep='\\t')\n",
    "df1.head()"
   ]
  },
  {
   "cell_type": "code",
   "execution_count": 106,
   "metadata": {},
   "outputs": [
    {
     "data": {
      "text/plain": [
       "1.0    10446\n",
       "0.0     9554\n",
       "Name: W, dtype: int64"
      ]
     },
     "execution_count": 106,
     "metadata": {},
     "output_type": "execute_result"
    }
   ],
   "source": [
    "df1.W.value_counts()"
   ]
  },
  {
   "cell_type": "code",
   "execution_count": 107,
   "metadata": {},
   "outputs": [
    {
     "data": {
      "text/plain": [
       "0.7634755437767657"
      ]
     },
     "execution_count": 107,
     "metadata": {},
     "output_type": "execute_result"
    }
   ],
   "source": [
    "# проверим независимость treatment от объектов. Для этого можно построить классификатор.\n",
    "# Если получится хорошее качество - зависимость есть.\n",
    "# X_train, X_val, y_train, y_val = train_test_split(df1.iloc[:, 2:], df1.W)\n",
    "clf = SGDClassifier()\n",
    "np.mean(cross_val_score(clf, df1.iloc[:, 2:], df1.W, scoring='f1'))"
   ]
  },
  {
   "cell_type": "code",
   "execution_count": 108,
   "metadata": {},
   "outputs": [],
   "source": [
    "# Таким образом, классификатор явно лучше, чем случайный. Поэтому зависимость распределения treatment от признаков есть.\n",
    "# Построим гистограммы распределения целевой переменной в группах."
   ]
  },
  {
   "cell_type": "code",
   "execution_count": 109,
   "metadata": {},
   "outputs": [
    {
     "data": {
      "text/plain": [
       "<matplotlib.axes._subplots.AxesSubplot at 0x128c0c0d0>"
      ]
     },
     "execution_count": 109,
     "metadata": {},
     "output_type": "execute_result"
    },
    {
     "data": {
      "image/png": "[encoded data removed]",
      "text/plain": [
       "<Figure size 432x288 with 1 Axes>"
      ]
     },
     "metadata": {},
     "output_type": "display_data"
    }
   ],
   "source": [
    "df1[df1.W == 0].y.hist() # распределение похоже на нормальное."
   ]
  },
  {
   "cell_type": "code",
   "execution_count": 110,
   "metadata": {},
   "outputs": [
    {
     "data": {
      "text/plain": [
       "<matplotlib.axes._subplots.AxesSubplot at 0x12912a9d0>"
      ]
     },
     "execution_count": 110,
     "metadata": {},
     "output_type": "execute_result"
    },
    {
     "data": {
      "image/png": "[encoded data removed]",
      "text/plain": [
       "<Figure size 432x288 with 1 Axes>"
      ]
     },
     "metadata": {},
     "output_type": "display_data"
    }
   ],
   "source": [
    "df1[df1.W == 1].y.hist()# распределение похоже на нормальное."
   ]
  },
  {
   "cell_type": "code",
   "execution_count": 111,
   "metadata": {},
   "outputs": [
    {
     "name": "stdout",
     "output_type": "stream",
     "text": [
      "Shapiro-Wilk normality test for control, W-statistic: 0.999855, p-value: 0.837330\n",
      "Shapiro-Wilk normality test for treatment, W-statistic: 0.999871, p-value: 0.859909\n"
     ]
    },
    {
     "name": "stderr",
     "output_type": "stream",
     "text": [
      "p-value may not be accurate for N > 5000.\n"
     ]
    }
   ],
   "source": [
    "# Проверим, что таргет контрольной и treatment групп распределен нормально.\n",
    "print(\"Shapiro-Wilk normality test for control, W-statistic: %f, p-value: %f\" % scipy.stats.shapiro(df1[df1.W == 0].y))\n",
    "print(\"Shapiro-Wilk normality test for treatment, W-statistic: %f, p-value: %f\" % scipy.stats.shapiro(df1[df1.W == 1].y))"
   ]
  },
  {
   "cell_type": "code",
   "execution_count": 112,
   "metadata": {},
   "outputs": [
    {
     "name": "stdout",
     "output_type": "stream",
     "text": [
      "Statistic: -9.332 p-value: 1.1400916649505329e-20\n"
     ]
    }
   ],
   "source": [
    "# Да, распределения нормальные. Значит, применим t-критерий для проверки равенства среднего.\n",
    "stat, p_value = scipy.stats.ttest_ind(df1[df1.W == 0].y, df1[df1.W == 1].y)\n",
    "print('Statistic:', round(stat, 3), 'p-value:', p_value)"
   ]
  },
  {
   "cell_type": "code",
   "execution_count": 113,
   "metadata": {},
   "outputs": [],
   "source": [
    "# Видим, что нулевая гипотеза о равенстве средних treatment и control групп отвергается на уровне значимости 0.05."
   ]
  },
  {
   "cell_type": "code",
   "execution_count": 114,
   "metadata": {},
   "outputs": [
    {
     "name": "stdout",
     "output_type": "stream",
     "text": [
      "0.4001\n"
     ]
    }
   ],
   "source": [
    "# Оценим ATE, однако, это будет смещенная оценка.\n",
    "ate = np.mean(df1[df1.W == 1].y) - np.mean(df1[df1.W == 0].y)\n",
    "print(round(ate, 4))"
   ]
  },
  {
   "cell_type": "code",
   "execution_count": 117,
   "metadata": {},
   "outputs": [
    {
     "name": "stdout",
     "output_type": "stream",
     "text": [
      "0.3535818796285679\n"
     ]
    }
   ],
   "source": [
    "# Оценим ATE с учетом особенностей данных. Применим Propensity Score для устранения смещения оценке ATE.\n",
    "# Для применения примем предположение об unconfoundedness данных.\n",
    "X = df1.iloc[:, 2:]\n",
    "W = df1.W\n",
    "xgb_clf = xgb.XGBClassifier()\n",
    "xgb_clf.fit(X, W)\n",
    "e_X = xgb_clf.predict_proba(X)[:, 1]\n",
    "y = df1.y\n",
    "ps_ate = ((W - e_X)/((1 - e_X)*e_X))*y\n",
    "print(ps_ate.mean())"
   ]
  },
  {
   "cell_type": "code",
   "execution_count": 57,
   "metadata": {},
   "outputs": [
    {
     "name": "stdout",
     "output_type": "stream",
     "text": [
      "                            OLS Regression Results                            \n",
      "==============================================================================\n",
      "Dep. Variable:                      y   R-squared:                       0.016\n",
      "Model:                            OLS   Adj. R-squared:                  0.015\n",
      "Method:                 Least Squares   F-statistic:                     28.94\n",
      "Date:                Tue, 08 Dec 2020   Prob (F-statistic):           3.99e-61\n",
      "Time:                        21:41:48   Log-Likelihood:                -50425.\n",
      "No. Observations:               20000   AIC:                         1.009e+05\n",
      "Df Residuals:                   19988   BIC:                         1.010e+05\n",
      "Df Model:                          11                                         \n",
      "Covariance Type:            nonrobust                                         \n",
      "==============================================================================\n",
      "                 coef    std err          t      P>|t|      [0.025      0.975]\n",
      "------------------------------------------------------------------------------\n",
      "Intercept      1.4198      0.119     11.981      0.000       1.188       1.652\n",
      "W              0.5134      0.049     10.467      0.000       0.417       0.610\n",
      "X_1           -0.2255      0.080     -2.832      0.005      -0.382      -0.069\n",
      "X_2           -0.3571      0.079     -4.502      0.000      -0.513      -0.202\n",
      "X_3           -0.0980      0.073     -1.333      0.183      -0.242       0.046\n",
      "X_4            0.9345      0.074     12.637      0.000       0.790       1.079\n",
      "X_5            0.4214      0.074      5.707      0.000       0.277       0.566\n",
      "X_6            0.1857      0.074      2.519      0.012       0.041       0.330\n",
      "X_7            0.0839      0.074      1.134      0.257      -0.061       0.229\n",
      "X_8           -0.1041      0.074     -1.409      0.159      -0.249       0.041\n",
      "X_9           -0.1173      0.074     -1.587      0.112      -0.262       0.028\n",
      "X_10           0.0494      0.074      0.667      0.505      -0.096       0.194\n",
      "==============================================================================\n",
      "Omnibus:                        0.441   Durbin-Watson:                   1.998\n",
      "Prob(Omnibus):                  0.802   Jarque-Bera (JB):                0.460\n",
      "Skew:                          -0.009   Prob(JB):                        0.795\n",
      "Kurtosis:                       2.984   Cond. No.                         12.9\n",
      "==============================================================================\n",
      "\n",
      "Warnings:\n",
      "[1] Standard Errors assume that the covariance matrix of the errors is correctly specified.\n"
     ]
    }
   ],
   "source": [
    "# Попробуем оценить АТЕ также с помощью регрессии\n",
    "model1 = smf.ols('y ~ W + X_1 + X_2 + X_3 + X_4 + X_5 + X_6 + X_7 + X_8 + X_9 + X_10', data=df1)\n",
    "fitted1 = model1.fit()\n",
    "print(fitted1.summary())"
   ]
  },
  {
   "cell_type": "code",
   "execution_count": 58,
   "metadata": {},
   "outputs": [],
   "source": [
    "# Коэффициент при W и есть АТЕ: 0.5134. \n",
    "# Таким образом, были получены оценки разными методами: наивным, с помощью PS, а также с помощью регрессии. Оценкам, \n",
    "# полученным методоми регрессии и PS можно доверять больше, так как они учитывают особоеености данных, а эти методы \n",
    "# обладают большей мощность."
   ]
  },
  {
   "cell_type": "markdown",
   "metadata": {},
   "source": [
    "### 2. Оценка результатов AB теста с показателями до начала эксперимента"
   ]
  },
  {
   "cell_type": "markdown",
   "metadata": {},
   "source": [
    "Необходимо как и ранее оценить результаты AB теста, а именно ATE. Вы располагаете результатами до и после проведения теста (y_0 и y_1), а также вам дан treatment assignment (W). \n",
    "\n",
    "Необходимо: \n",
    "1. Проверить все требуемые гипотезы\n",
    "2. Оценить ATE подходящим для этого случая методом (примените несколько методов)\n",
    "3. Сравнить и проанализировать результаты оценок\n",
    "4. Явно выписать выводы.\n",
    "\n",
    "Как и прежде, все предположения должны быть указаны. Визуализация результатов приветствуется.\n",
    "\n",
    "dataset_part2_students.csv"
   ]
  },
  {
   "cell_type": "code",
   "execution_count": 58,
   "metadata": {},
   "outputs": [
    {
     "data": {
      "text/html": [
       "<div>\n",
       "<style scoped>\n",
       "    .dataframe tbody tr th:only-of-type {\n",
       "        vertical-align: middle;\n",
       "    }\n",
       "\n",
       "    .dataframe tbody tr th {\n",
       "        vertical-align: top;\n",
       "    }\n",
       "\n",
       "    .dataframe thead th {\n",
       "        text-align: right;\n",
       "    }\n",
       "</style>\n",
       "<table border=\"1\" class=\"dataframe\">\n",
       "  <thead>\n",
       "    <tr style=\"text-align: right;\">\n",
       "      <th></th>\n",
       "      <th>y_1</th>\n",
       "      <th>y_0</th>\n",
       "      <th>W</th>\n",
       "      <th>X_1</th>\n",
       "      <th>X_2</th>\n",
       "      <th>X_3</th>\n",
       "      <th>X_4</th>\n",
       "      <th>X_5</th>\n",
       "      <th>X_6</th>\n",
       "      <th>X_7</th>\n",
       "      <th>X_8</th>\n",
       "      <th>X_9</th>\n",
       "      <th>X_10</th>\n",
       "    </tr>\n",
       "  </thead>\n",
       "  <tbody>\n",
       "    <tr>\n",
       "      <th>0</th>\n",
       "      <td>5.887156</td>\n",
       "      <td>2.785060</td>\n",
       "      <td>1.0</td>\n",
       "      <td>0.605978</td>\n",
       "      <td>0.733369</td>\n",
       "      <td>0.138947</td>\n",
       "      <td>0.312673</td>\n",
       "      <td>0.997243</td>\n",
       "      <td>0.128162</td>\n",
       "      <td>0.178993</td>\n",
       "      <td>0.752925</td>\n",
       "      <td>0.662161</td>\n",
       "      <td>0.784310</td>\n",
       "    </tr>\n",
       "    <tr>\n",
       "      <th>1</th>\n",
       "      <td>2.232601</td>\n",
       "      <td>5.533515</td>\n",
       "      <td>0.0</td>\n",
       "      <td>0.096894</td>\n",
       "      <td>0.058571</td>\n",
       "      <td>0.962396</td>\n",
       "      <td>0.616557</td>\n",
       "      <td>0.086630</td>\n",
       "      <td>0.561272</td>\n",
       "      <td>0.616525</td>\n",
       "      <td>0.963843</td>\n",
       "      <td>0.574304</td>\n",
       "      <td>0.371161</td>\n",
       "    </tr>\n",
       "    <tr>\n",
       "      <th>2</th>\n",
       "      <td>0.144419</td>\n",
       "      <td>0.095546</td>\n",
       "      <td>1.0</td>\n",
       "      <td>0.452145</td>\n",
       "      <td>0.201850</td>\n",
       "      <td>0.569305</td>\n",
       "      <td>0.195096</td>\n",
       "      <td>0.583704</td>\n",
       "      <td>0.476313</td>\n",
       "      <td>0.517814</td>\n",
       "      <td>0.823099</td>\n",
       "      <td>0.732225</td>\n",
       "      <td>0.069056</td>\n",
       "    </tr>\n",
       "    <tr>\n",
       "      <th>3</th>\n",
       "      <td>-2.446425</td>\n",
       "      <td>3.590472</td>\n",
       "      <td>1.0</td>\n",
       "      <td>0.672129</td>\n",
       "      <td>0.643485</td>\n",
       "      <td>0.828014</td>\n",
       "      <td>0.204469</td>\n",
       "      <td>0.617489</td>\n",
       "      <td>0.617701</td>\n",
       "      <td>0.301069</td>\n",
       "      <td>0.871741</td>\n",
       "      <td>0.589654</td>\n",
       "      <td>0.981770</td>\n",
       "    </tr>\n",
       "    <tr>\n",
       "      <th>4</th>\n",
       "      <td>2.163090</td>\n",
       "      <td>1.365405</td>\n",
       "      <td>0.0</td>\n",
       "      <td>0.442232</td>\n",
       "      <td>0.126318</td>\n",
       "      <td>0.508831</td>\n",
       "      <td>0.431786</td>\n",
       "      <td>0.915940</td>\n",
       "      <td>0.709016</td>\n",
       "      <td>0.890655</td>\n",
       "      <td>0.588886</td>\n",
       "      <td>0.636830</td>\n",
       "      <td>0.342209</td>\n",
       "    </tr>\n",
       "  </tbody>\n",
       "</table>\n",
       "</div>"
      ],
      "text/plain": [
       "        y_1       y_0    W       X_1       X_2       X_3       X_4       X_5  \\\n",
       "0  5.887156  2.785060  1.0  0.605978  0.733369  0.138947  0.312673  0.997243   \n",
       "1  2.232601  5.533515  0.0  0.096894  0.058571  0.962396  0.616557  0.086630   \n",
       "2  0.144419  0.095546  1.0  0.452145  0.201850  0.569305  0.195096  0.583704   \n",
       "3 -2.446425  3.590472  1.0  0.672129  0.643485  0.828014  0.204469  0.617489   \n",
       "4  2.163090  1.365405  0.0  0.442232  0.126318  0.508831  0.431786  0.915940   \n",
       "\n",
       "        X_6       X_7       X_8       X_9      X_10  \n",
       "0  0.128162  0.178993  0.752925  0.662161  0.784310  \n",
       "1  0.561272  0.616525  0.963843  0.574304  0.371161  \n",
       "2  0.476313  0.517814  0.823099  0.732225  0.069056  \n",
       "3  0.617701  0.301069  0.871741  0.589654  0.981770  \n",
       "4  0.709016  0.890655  0.588886  0.636830  0.342209  "
      ]
     },
     "execution_count": 58,
     "metadata": {},
     "output_type": "execute_result"
    }
   ],
   "source": [
    "df2 = pd.read_csv('data/dataset_part2_students.csv', sep='\\t')\n",
    "df2.head()"
   ]
  },
  {
   "cell_type": "code",
   "execution_count": 59,
   "metadata": {},
   "outputs": [
    {
     "data": {
      "text/plain": [
       "<matplotlib.axes._subplots.AxesSubplot at 0x1294dcfd0>"
      ]
     },
     "execution_count": 59,
     "metadata": {},
     "output_type": "execute_result"
    },
    {
     "data": {
      "image/png": "[encoded data removed]",
      "text/plain": [
       "<Figure size 432x288 with 1 Axes>"
      ]
     },
     "metadata": {},
     "output_type": "display_data"
    }
   ],
   "source": [
    "# Проверим гипотезу о равенстве средних значений целевой переменной для групп treatment и c control \n",
    "# до начала экспeримента. Для использования t-теста нам необходимо проверить нормальность распределения данной \n",
    "# переменной по группам.\n",
    "df2[df2.W == 0].y_0.hist()"
   ]
  },
  {
   "cell_type": "code",
   "execution_count": 60,
   "metadata": {},
   "outputs": [
    {
     "data": {
      "text/plain": [
       "<matplotlib.axes._subplots.AxesSubplot at 0x128f1f110>"
      ]
     },
     "execution_count": 60,
     "metadata": {},
     "output_type": "execute_result"
    },
    {
     "data": {
      "image/png": "[encoded data removed]",
      "text/plain": [
       "<Figure size 432x288 with 1 Axes>"
      ]
     },
     "metadata": {},
     "output_type": "display_data"
    }
   ],
   "source": [
    "df2[df2.W == 1].y_0.hist()"
   ]
  },
  {
   "cell_type": "code",
   "execution_count": 61,
   "metadata": {},
   "outputs": [
    {
     "name": "stdout",
     "output_type": "stream",
     "text": [
      "Shapiro-Wilk normality test for control, W-statistic: 0.999615, p-value: 0.501196\n",
      "Shapiro-Wilk normality test for treatment, W-statistic: 0.999710, p-value: 0.700539\n"
     ]
    },
    {
     "name": "stderr",
     "output_type": "stream",
     "text": [
      "p-value may not be accurate for N > 5000.\n"
     ]
    }
   ],
   "source": [
    "# Распределения похожи на нормальные. Убедимся в этом статистически.\n",
    "print(\"Shapiro-Wilk normality test for control, W-statistic: %f, p-value: %f\" % scipy.stats.shapiro(df2[df2.W == 0].y_0))\n",
    "print(\"Shapiro-Wilk normality test for treatment, W-statistic: %f, p-value: %f\" % scipy.stats.shapiro(df2[df2.W == 1].y_0))"
   ]
  },
  {
   "cell_type": "code",
   "execution_count": 62,
   "metadata": {},
   "outputs": [
    {
     "name": "stdout",
     "output_type": "stream",
     "text": [
      "Statistic: 2.695 p-value: 0.007056118548053932\n"
     ]
    }
   ],
   "source": [
    "# Получаем, что гипотезы нормальности на уровне значимости 0.05 не отвергаем. Можем применить t-test.\n",
    "stat, p_value = scipy.stats.ttest_ind(df2[df2.W == 0].y_0, df2[df2.W == 1].y_0)\n",
    "print('Statistic:', round(stat, 3), 'p-value:', p_value)"
   ]
  },
  {
   "cell_type": "code",
   "execution_count": 63,
   "metadata": {},
   "outputs": [],
   "source": [
    "# Результаты t-теста говорят о том, что на уровне значимости 0.05 гипотеза о равенстве средних в контрольной\n",
    "# и treatment группах до начала эксперимента отвергается."
   ]
  },
  {
   "cell_type": "code",
   "execution_count": 64,
   "metadata": {},
   "outputs": [
    {
     "name": "stdout",
     "output_type": "stream",
     "text": [
      "Shapiro-Wilk normality test for control, W-statistic: 0.999442, p-value: 0.166777\n",
      "Shapiro-Wilk normality test for treatment, W-statistic: 0.999408, p-value: 0.088233\n"
     ]
    }
   ],
   "source": [
    "# Повторим действия для значений, полученных после эксперимента.\n",
    "print(\"Shapiro-Wilk normality test for control, W-statistic: %f, p-value: %f\" % scipy.stats.shapiro(df2[df2.W == 0].y_1))\n",
    "print(\"Shapiro-Wilk normality test for treatment, W-statistic: %f, p-value: %f\" % scipy.stats.shapiro(df2[df2.W == 1].y_1))"
   ]
  },
  {
   "cell_type": "code",
   "execution_count": 65,
   "metadata": {},
   "outputs": [
    {
     "name": "stdout",
     "output_type": "stream",
     "text": [
      "Statistic: -10.434 p-value: 2.3383131389683154e-25\n"
     ]
    }
   ],
   "source": [
    "stat, p_value = scipy.stats.ttest_ind(df2[df2.W == 0].y_1, df2[df2.W == 1].y_1)\n",
    "print('Statistic:', round(stat, 3), 'p-value:', p_value)"
   ]
  },
  {
   "cell_type": "code",
   "execution_count": 66,
   "metadata": {},
   "outputs": [],
   "source": [
    "# По результатам t-теста можно сделать вывод о том, что на уровне значимости 0.05 гипотеза о равенстве средних в \n",
    "# контрольной и treatment группах в конце эксперимента отвергается."
   ]
  },
  {
   "cell_type": "code",
   "execution_count": 67,
   "metadata": {
    "scrolled": false
   },
   "outputs": [
    {
     "name": "stderr",
     "output_type": "stream",
     "text": [
      "\n",
      "A value is trying to be set on a copy of a slice from a DataFrame.\n",
      "Try using .loc[row_indexer,col_indexer] = value instead\n",
      "\n",
      "See the caveats in the documentation: https://pandas.pydata.org/pandas-docs/stable/user_guide/indexing.html#returning-a-view-versus-a-copy\n",
      "\n",
      "A value is trying to be set on a copy of a slice from a DataFrame.\n",
      "Try using .loc[row_indexer,col_indexer] = value instead\n",
      "\n",
      "See the caveats in the documentation: https://pandas.pydata.org/pandas-docs/stable/user_guide/indexing.html#returning-a-view-versus-a-copy\n",
      "\n",
      "A value is trying to be set on a copy of a slice from a DataFrame\n",
      "\n",
      "See the caveats in the documentation: https://pandas.pydata.org/pandas-docs/stable/user_guide/indexing.html#returning-a-view-versus-a-copy\n"
     ]
    }
   ],
   "source": [
    "# В данном случае, оценить АТЕ поможет метод DID (Diffenernce in differencies).\n",
    "y_0 = df2[['y_0', 'W']]\n",
    "y_1 = df2[['y_1', 'W']]\n",
    "y_0['I_post'] = [0]*y_0.shape[0]\n",
    "y_1['I_post'] = [1]*y_1.shape[0]\n",
    "y_0.rename(columns={'y_0': 'y'}, inplace=True)\n",
    "y_1.rename(columns={'y_1': 'y'}, inplace=True)\n",
    "df_did = pd.concat([y_0, y_1], axis = 0)"
   ]
  },
  {
   "cell_type": "code",
   "execution_count": 68,
   "metadata": {},
   "outputs": [
    {
     "data": {
      "text/html": [
       "<div>\n",
       "<style scoped>\n",
       "    .dataframe tbody tr th:only-of-type {\n",
       "        vertical-align: middle;\n",
       "    }\n",
       "\n",
       "    .dataframe tbody tr th {\n",
       "        vertical-align: top;\n",
       "    }\n",
       "\n",
       "    .dataframe thead th {\n",
       "        text-align: right;\n",
       "    }\n",
       "</style>\n",
       "<table border=\"1\" class=\"dataframe\">\n",
       "  <thead>\n",
       "    <tr style=\"text-align: right;\">\n",
       "      <th></th>\n",
       "      <th>y</th>\n",
       "      <th>W</th>\n",
       "      <th>I_post</th>\n",
       "    </tr>\n",
       "  </thead>\n",
       "  <tbody>\n",
       "    <tr>\n",
       "      <th>0</th>\n",
       "      <td>2.785060</td>\n",
       "      <td>1.0</td>\n",
       "      <td>0</td>\n",
       "    </tr>\n",
       "    <tr>\n",
       "      <th>1</th>\n",
       "      <td>5.533515</td>\n",
       "      <td>0.0</td>\n",
       "      <td>0</td>\n",
       "    </tr>\n",
       "    <tr>\n",
       "      <th>2</th>\n",
       "      <td>0.095546</td>\n",
       "      <td>1.0</td>\n",
       "      <td>0</td>\n",
       "    </tr>\n",
       "    <tr>\n",
       "      <th>3</th>\n",
       "      <td>3.590472</td>\n",
       "      <td>1.0</td>\n",
       "      <td>0</td>\n",
       "    </tr>\n",
       "    <tr>\n",
       "      <th>4</th>\n",
       "      <td>1.365405</td>\n",
       "      <td>0.0</td>\n",
       "      <td>0</td>\n",
       "    </tr>\n",
       "  </tbody>\n",
       "</table>\n",
       "</div>"
      ],
      "text/plain": [
       "          y    W  I_post\n",
       "0  2.785060  1.0       0\n",
       "1  5.533515  0.0       0\n",
       "2  0.095546  1.0       0\n",
       "3  3.590472  1.0       0\n",
       "4  1.365405  0.0       0"
      ]
     },
     "execution_count": 68,
     "metadata": {},
     "output_type": "execute_result"
    }
   ],
   "source": [
    "df_did.head()"
   ]
  },
  {
   "cell_type": "code",
   "execution_count": 69,
   "metadata": {},
   "outputs": [
    {
     "name": "stdout",
     "output_type": "stream",
     "text": [
      "                            OLS Regression Results                            \n",
      "==============================================================================\n",
      "Dep. Variable:                      y   R-squared:                       0.092\n",
      "Model:                            OLS   Adj. R-squared:                  0.092\n",
      "Method:                 Least Squares   F-statistic:                     676.8\n",
      "Date:                Wed, 09 Dec 2020   Prob (F-statistic):               0.00\n",
      "Time:                        18:30:24   Log-Likelihood:                -43972.\n",
      "No. Observations:               20000   AIC:                         8.795e+04\n",
      "Df Residuals:                   19996   BIC:                         8.798e+04\n",
      "Df Model:                           3                                         \n",
      "Covariance Type:            nonrobust                                         \n",
      "==============================================================================\n",
      "                 coef    std err          t      P>|t|      [0.025      0.975]\n",
      "------------------------------------------------------------------------------\n",
      "Intercept      0.8162      0.032     25.820      0.000       0.754       0.878\n",
      "I_post         1.0624      0.045     23.764      0.000       0.975       1.150\n",
      "W             -0.1237      0.044     -2.832      0.005      -0.209      -0.038\n",
      "I_post:W       0.5549      0.062      8.985      0.000       0.434       0.676\n",
      "==============================================================================\n",
      "Omnibus:                        0.070   Durbin-Watson:                   1.985\n",
      "Prob(Omnibus):                  0.966   Jarque-Bera (JB):                0.059\n",
      "Skew:                          -0.002   Prob(JB):                        0.971\n",
      "Kurtosis:                       3.007   Cond. No.                         7.01\n",
      "==============================================================================\n",
      "\n",
      "Warnings:\n",
      "[1] Standard Errors assume that the covariance matrix of the errors is correctly specified.\n"
     ]
    }
   ],
   "source": [
    "model2 = smf.ols('y ~ I_post + W + I_post*W', data=df_did)\n",
    "fitted2 = model2.fit()\n",
    "print(fitted2.summary())"
   ]
  },
  {
   "cell_type": "code",
   "execution_count": 70,
   "metadata": {},
   "outputs": [
    {
     "name": "stdout",
     "output_type": "stream",
     "text": [
      "Cuped variance:  4.303410659410891 , y_1 variance: 4.306339749101802\n"
     ]
    }
   ],
   "source": [
    "# Получили оценку ATE 0.5549. Далее, применим метод CUPED для оценки АТЕ.\n",
    "theta = np.cov(df2.y_1, df2.y_0)[0][1]/np.var(df2.y_0)\n",
    "cuped = df2.y_1 - (df2.y_0 - np.mean(df2.y_0))*theta\n",
    "print('Cuped variance: ', np.var(cuped), ', y_1 variance:', np.var(df2.y_1))"
   ]
  },
  {
   "cell_type": "code",
   "execution_count": 74,
   "metadata": {},
   "outputs": [
    {
     "data": {
      "image/png": "[encoded data removed]",
      "text/plain": [
       "<Figure size 432x288 with 1 Axes>"
      ]
     },
     "metadata": {},
     "output_type": "display_data"
    },
    {
     "data": {
      "image/png": "[encoded data removed]",
      "text/plain": [
       "<Figure size 432x288 with 1 Axes>"
      ]
     },
     "metadata": {},
     "output_type": "display_data"
    }
   ],
   "source": [
    "# На гистограммах ниже можно видеть, что метод cuped не сработал, так как распределение не изменилось.\n",
    "df2.y_1.hist()\n",
    "plt.show()\n",
    "plt.hist(cuped)\n",
    "plt.show()"
   ]
  },
  {
   "cell_type": "code",
   "execution_count": 71,
   "metadata": {},
   "outputs": [
    {
     "name": "stdout",
     "output_type": "stream",
     "text": [
      "                            OLS Regression Results                            \n",
      "==============================================================================\n",
      "Dep. Variable:                    y_1   R-squared:                       0.012\n",
      "Model:                            OLS   Adj. R-squared:                  0.011\n",
      "Method:                 Least Squares   F-statistic:                     58.70\n",
      "Date:                Wed, 09 Dec 2020   Prob (F-statistic):           4.54e-26\n",
      "Time:                        18:30:26   Log-Likelihood:                -21431.\n",
      "No. Observations:               10000   AIC:                         4.287e+04\n",
      "Df Residuals:                    9997   BIC:                         4.289e+04\n",
      "Df Model:                           2                                         \n",
      "Covariance Type:            nonrobust                                         \n",
      "==============================================================================\n",
      "                 coef    std err          t      P>|t|      [0.025      0.975]\n",
      "------------------------------------------------------------------------------\n",
      "Intercept      1.8572      0.031     60.304      0.000       1.797       1.918\n",
      "y_0            0.0262      0.009      2.905      0.004       0.009       0.044\n",
      "W              0.4345      0.041     10.512      0.000       0.353       0.516\n",
      "==============================================================================\n",
      "Omnibus:                        2.348   Durbin-Watson:                   1.973\n",
      "Prob(Omnibus):                  0.309   Jarque-Bera (JB):                2.338\n",
      "Skew:                           0.037   Prob(JB):                        0.311\n",
      "Kurtosis:                       3.005   Cond. No.                         5.69\n",
      "==============================================================================\n",
      "\n",
      "Warnings:\n",
      "[1] Standard Errors assume that the covariance matrix of the errors is correctly specified.\n"
     ]
    }
   ],
   "source": [
    "# Как мы можем заметить, применение данного метода незначительно снизило дисперсию нашей целевой метрики. Теперь \n",
    "# попробуем использовать метод ANCOVA (Analysis of Covariation).\n",
    "model3 = smf.ols('y_1 ~ y_0 + W', data=df2)\n",
    "fitted3 = model3.fit()\n",
    "print(fitted3.summary()) "
   ]
  },
  {
   "cell_type": "code",
   "execution_count": 75,
   "metadata": {},
   "outputs": [],
   "source": [
    "# Получили оценку ATE 0.4345."
   ]
  },
  {
   "cell_type": "code",
   "execution_count": 76,
   "metadata": {},
   "outputs": [],
   "source": [
    "# Таким образом, для данного датасета были применены следующие методы: DID, Cuped, а также ANCOVA. Метод CUPED не\n",
    "# сработал на наших данных. Результаты получились слудедующие: DID - 0.5549, ANCOVA - 0.4345."
   ]
  },
  {
   "cell_type": "markdown",
   "metadata": {},
   "source": [
    "### 3. Построение uplift модели по результатам AB теста."
   ]
  },
  {
   "cell_type": "markdown",
   "metadata": {},
   "source": [
    "Вам даны результаты AB теста для модели конверсии клиента в продукте (conversion). Конверсия может принимать значения 1 или 0, что значит - клиент подключил услугу, либо не подключил соответственно.\n",
    "\n",
    "Задача:\n",
    "1. Оцените ATE по данным.\n",
    "2. Оцените CATE для каждого наблюдения.\n",
    "3. Проставьте рекомендации к воздействию на каждый объект.\n",
    "4. Какая ожидаемая конверсия при оптимальном воздействии?\n",
    "5. Все выводы, предпосылки и методы представляйте в явном виде в ноутбуке.\n",
    "\n",
    "Визуализация результатов также будет приветствоваться.\n",
    "\n",
    "dataset_part3_students.csv"
   ]
  },
  {
   "cell_type": "code",
   "execution_count": 25,
   "metadata": {},
   "outputs": [
    {
     "data": {
      "text/html": [
       "<div>\n",
       "<style scoped>\n",
       "    .dataframe tbody tr th:only-of-type {\n",
       "        vertical-align: middle;\n",
       "    }\n",
       "\n",
       "    .dataframe tbody tr th {\n",
       "        vertical-align: top;\n",
       "    }\n",
       "\n",
       "    .dataframe thead th {\n",
       "        text-align: right;\n",
       "    }\n",
       "</style>\n",
       "<table border=\"1\" class=\"dataframe\">\n",
       "  <thead>\n",
       "    <tr style=\"text-align: right;\">\n",
       "      <th></th>\n",
       "      <th>treatment</th>\n",
       "      <th>X_1</th>\n",
       "      <th>X_2</th>\n",
       "      <th>X_3</th>\n",
       "      <th>X_4</th>\n",
       "      <th>X_5</th>\n",
       "      <th>X_6</th>\n",
       "      <th>X_7</th>\n",
       "      <th>X_8</th>\n",
       "      <th>X_9</th>\n",
       "      <th>...</th>\n",
       "      <th>X_14</th>\n",
       "      <th>X_15</th>\n",
       "      <th>X_16</th>\n",
       "      <th>X_17</th>\n",
       "      <th>X_18</th>\n",
       "      <th>X_19</th>\n",
       "      <th>X_20</th>\n",
       "      <th>X_21</th>\n",
       "      <th>X_22</th>\n",
       "      <th>conversion</th>\n",
       "    </tr>\n",
       "  </thead>\n",
       "  <tbody>\n",
       "    <tr>\n",
       "      <th>0</th>\n",
       "      <td>control</td>\n",
       "      <td>0.034351</td>\n",
       "      <td>0.550725</td>\n",
       "      <td>-1.348524</td>\n",
       "      <td>-0.029591</td>\n",
       "      <td>0.499535</td>\n",
       "      <td>-0.412464</td>\n",
       "      <td>0.933588</td>\n",
       "      <td>-0.522954</td>\n",
       "      <td>-0.029591</td>\n",
       "      <td>...</td>\n",
       "      <td>-0.314573</td>\n",
       "      <td>-0.879456</td>\n",
       "      <td>0.640264</td>\n",
       "      <td>1.165722</td>\n",
       "      <td>0.570495</td>\n",
       "      <td>0.529443</td>\n",
       "      <td>0.227962</td>\n",
       "      <td>1.929914</td>\n",
       "      <td>0.798664</td>\n",
       "      <td>0</td>\n",
       "    </tr>\n",
       "    <tr>\n",
       "      <th>1</th>\n",
       "      <td>control</td>\n",
       "      <td>-1.059404</td>\n",
       "      <td>0.299404</td>\n",
       "      <td>0.220273</td>\n",
       "      <td>-1.569660</td>\n",
       "      <td>1.084204</td>\n",
       "      <td>-2.167118</td>\n",
       "      <td>1.216469</td>\n",
       "      <td>-0.744547</td>\n",
       "      <td>-1.569660</td>\n",
       "      <td>...</td>\n",
       "      <td>0.303664</td>\n",
       "      <td>1.080643</td>\n",
       "      <td>2.646483</td>\n",
       "      <td>-0.329690</td>\n",
       "      <td>1.725636</td>\n",
       "      <td>1.434649</td>\n",
       "      <td>-2.064893</td>\n",
       "      <td>0.188000</td>\n",
       "      <td>-1.134651</td>\n",
       "      <td>0</td>\n",
       "    </tr>\n",
       "    <tr>\n",
       "      <th>2</th>\n",
       "      <td>control</td>\n",
       "      <td>0.051934</td>\n",
       "      <td>2.338729</td>\n",
       "      <td>-0.341017</td>\n",
       "      <td>-1.099362</td>\n",
       "      <td>0.693090</td>\n",
       "      <td>-2.424267</td>\n",
       "      <td>1.572066</td>\n",
       "      <td>-0.212798</td>\n",
       "      <td>-1.099362</td>\n",
       "      <td>...</td>\n",
       "      <td>-0.083721</td>\n",
       "      <td>-1.981712</td>\n",
       "      <td>0.224777</td>\n",
       "      <td>2.038004</td>\n",
       "      <td>2.516398</td>\n",
       "      <td>2.324280</td>\n",
       "      <td>-3.182196</td>\n",
       "      <td>-0.888490</td>\n",
       "      <td>-1.402561</td>\n",
       "      <td>0</td>\n",
       "    </tr>\n",
       "    <tr>\n",
       "      <th>3</th>\n",
       "      <td>treatment</td>\n",
       "      <td>0.667770</td>\n",
       "      <td>0.539316</td>\n",
       "      <td>0.468719</td>\n",
       "      <td>-0.840885</td>\n",
       "      <td>-0.708331</td>\n",
       "      <td>0.126634</td>\n",
       "      <td>1.275854</td>\n",
       "      <td>-0.954919</td>\n",
       "      <td>-0.840885</td>\n",
       "      <td>...</td>\n",
       "      <td>-0.752011</td>\n",
       "      <td>-0.347319</td>\n",
       "      <td>-1.659402</td>\n",
       "      <td>-0.871980</td>\n",
       "      <td>-0.893513</td>\n",
       "      <td>-0.658078</td>\n",
       "      <td>-2.704997</td>\n",
       "      <td>-0.390745</td>\n",
       "      <td>-1.578004</td>\n",
       "      <td>1</td>\n",
       "    </tr>\n",
       "    <tr>\n",
       "      <th>4</th>\n",
       "      <td>control</td>\n",
       "      <td>-1.416158</td>\n",
       "      <td>2.486628</td>\n",
       "      <td>0.496402</td>\n",
       "      <td>-1.174618</td>\n",
       "      <td>2.738267</td>\n",
       "      <td>-4.756755</td>\n",
       "      <td>-0.180918</td>\n",
       "      <td>-1.281432</td>\n",
       "      <td>-1.174618</td>\n",
       "      <td>...</td>\n",
       "      <td>-1.198151</td>\n",
       "      <td>-0.232961</td>\n",
       "      <td>0.948875</td>\n",
       "      <td>1.210523</td>\n",
       "      <td>1.536723</td>\n",
       "      <td>1.548610</td>\n",
       "      <td>-0.926435</td>\n",
       "      <td>0.972459</td>\n",
       "      <td>-0.711251</td>\n",
       "      <td>0</td>\n",
       "    </tr>\n",
       "  </tbody>\n",
       "</table>\n",
       "<p>5 rows × 24 columns</p>\n",
       "</div>"
      ],
      "text/plain": [
       "   treatment       X_1       X_2       X_3       X_4       X_5       X_6  \\\n",
       "0    control  0.034351  0.550725 -1.348524 -0.029591  0.499535 -0.412464   \n",
       "1    control -1.059404  0.299404  0.220273 -1.569660  1.084204 -2.167118   \n",
       "2    control  0.051934  2.338729 -0.341017 -1.099362  0.693090 -2.424267   \n",
       "3  treatment  0.667770  0.539316  0.468719 -0.840885 -0.708331  0.126634   \n",
       "4    control -1.416158  2.486628  0.496402 -1.174618  2.738267 -4.756755   \n",
       "\n",
       "        X_7       X_8       X_9  ...      X_14      X_15      X_16      X_17  \\\n",
       "0  0.933588 -0.522954 -0.029591  ... -0.314573 -0.879456  0.640264  1.165722   \n",
       "1  1.216469 -0.744547 -1.569660  ...  0.303664  1.080643  2.646483 -0.329690   \n",
       "2  1.572066 -0.212798 -1.099362  ... -0.083721 -1.981712  0.224777  2.038004   \n",
       "3  1.275854 -0.954919 -0.840885  ... -0.752011 -0.347319 -1.659402 -0.871980   \n",
       "4 -0.180918 -1.281432 -1.174618  ... -1.198151 -0.232961  0.948875  1.210523   \n",
       "\n",
       "       X_18      X_19      X_20      X_21      X_22  conversion  \n",
       "0  0.570495  0.529443  0.227962  1.929914  0.798664           0  \n",
       "1  1.725636  1.434649 -2.064893  0.188000 -1.134651           0  \n",
       "2  2.516398  2.324280 -3.182196 -0.888490 -1.402561           0  \n",
       "3 -0.893513 -0.658078 -2.704997 -0.390745 -1.578004           1  \n",
       "4  1.536723  1.548610 -0.926435  0.972459 -0.711251           0  \n",
       "\n",
       "[5 rows x 24 columns]"
      ]
     },
     "execution_count": 25,
     "metadata": {},
     "output_type": "execute_result"
    }
   ],
   "source": [
    "df3 = pd.read_csv('data/dataset_part3_students.csv', sep='\\t')\n",
    "df3.head()"
   ]
  },
  {
   "cell_type": "code",
   "execution_count": 26,
   "metadata": {},
   "outputs": [],
   "source": [
    "df3.loc[:, 'W'] = df3.treatment.apply(lambda x: 1 if x == 'treatment' else 0)"
   ]
  },
  {
   "cell_type": "code",
   "execution_count": 27,
   "metadata": {},
   "outputs": [
    {
     "name": "stdout",
     "output_type": "stream",
     "text": [
      "0.05907\n"
     ]
    }
   ],
   "source": [
    "# Оценим ATE наивным способом.\n",
    "ate = np.mean(df3[df3.treatment == 'treatment'].conversion) - np.mean(df3[df3.treatment == 'control'].conversion)\n",
    "print(ate)"
   ]
  },
  {
   "cell_type": "code",
   "execution_count": 28,
   "metadata": {},
   "outputs": [
    {
     "name": "stdout",
     "output_type": "stream",
     "text": [
      "                            OLS Regression Results                            \n",
      "==============================================================================\n",
      "Dep. Variable:             conversion   R-squared:                       0.314\n",
      "Model:                            OLS   Adj. R-squared:                  0.314\n",
      "Method:                 Least Squares   F-statistic:                     4825.\n",
      "Date:                Wed, 09 Dec 2020   Prob (F-statistic):               0.00\n",
      "Time:                        18:02:27   Log-Likelihood:                -41679.\n",
      "No. Observations:              200000   AIC:                         8.340e+04\n",
      "Df Residuals:                  199980   BIC:                         8.360e+04\n",
      "Df Model:                          19                                         \n",
      "Covariance Type:            nonrobust                                         \n",
      "==============================================================================\n",
      "                 coef    std err          t      P>|t|      [0.025      0.975]\n",
      "------------------------------------------------------------------------------\n",
      "Intercept      0.3266      0.002    170.810      0.000       0.323       0.330\n",
      "W              0.0602      0.001     45.194      0.000       0.058       0.063\n",
      "X_1           -0.2227      0.002   -144.716      0.000      -0.226      -0.220\n",
      "X_2           -0.0855      0.001   -108.540      0.000      -0.087      -0.084\n",
      "X_3           -0.0044      0.001     -7.983      0.000      -0.006      -0.003\n",
      "X_4            0.1053      0.000    216.661      0.000       0.104       0.106\n",
      "X_5           -0.1303      0.002    -85.523      0.000      -0.133      -0.127\n",
      "X_6           -0.0743      0.001   -107.277      0.000      -0.076      -0.073\n",
      "X_7            0.0450      0.001     56.603      0.000       0.043       0.047\n",
      "X_8           -0.0009      0.001     -1.383      0.167      -0.002       0.000\n",
      "X_9            0.1053      0.000    216.661      0.000       0.104       0.106\n",
      "X_10          -0.0003      0.001     -0.441      0.659      -0.002       0.001\n",
      "X_11          -0.0004      0.001     -0.530      0.596      -0.002       0.001\n",
      "X_12          -0.0004      0.001     -0.543      0.587      -0.002       0.001\n",
      "X_13           0.0009      0.001      1.338      0.181      -0.000       0.002\n",
      "X_14          -0.0006      0.001     -0.967      0.333      -0.002       0.001\n",
      "X_15          -0.0005      0.001     -0.718      0.473      -0.002       0.001\n",
      "X_16          -0.0700      0.001    -95.130      0.000      -0.071      -0.069\n",
      "X_17          -0.0798      0.001   -124.475      0.000      -0.081      -0.079\n",
      "X_18           0.0097      0.000     23.770      0.000       0.009       0.011\n",
      "X_19          -0.0025      0.000     -7.687      0.000      -0.003      -0.002\n",
      "X_20          -0.0206      0.000    -51.072      0.000      -0.021      -0.020\n",
      "X_21           0.0295      0.001     58.713      0.000       0.028       0.030\n",
      "X_22          -0.0080      0.000    -29.284      0.000      -0.008      -0.007\n",
      "==============================================================================\n",
      "Omnibus:                    35454.174   Durbin-Watson:                   2.005\n",
      "Prob(Omnibus):                  0.000   Jarque-Bera (JB):            60519.088\n",
      "Skew:                           1.171   Prob(JB):                         0.00\n",
      "Kurtosis:                       4.335   Cond. No.                     1.68e+16\n",
      "==============================================================================\n",
      "\n",
      "Warnings:\n",
      "[1] Standard Errors assume that the covariance matrix of the errors is correctly specified.\n",
      "[2] The smallest eigenvalue is 1.15e-26. This might indicate that there are\n",
      "strong multicollinearity problems or that the design matrix is singular.\n"
     ]
    }
   ],
   "source": [
    "# Оценим ATE с помощью регрессии.\n",
    "model4 = smf.ols('conversion ~ W + X_1 + X_2 + X_3 + X_4 + X_5 + X_6 + X_7 + X_8 + X_9 + X_10 + X_11 + X_12 + X_13 + X_14 + X_15 + X_16 + X_17 + X_18 + X_19 + X_20 + X_21 + X_22', data=df3)\n",
    "fitted4 = model4.fit()\n",
    "print(fitted4.summary())"
   ]
  },
  {
   "cell_type": "code",
   "execution_count": 32,
   "metadata": {},
   "outputs": [
    {
     "name": "stdout",
     "output_type": "stream",
     "text": [
      "[0.05956081]\n"
     ]
    }
   ],
   "source": [
    "# Получили ATE равным 0.0602. Теперь посчитаем оценку ATE c помощью S-learner'а.\n",
    "s_clf = BaseSClassifier(learner=xgb.XGBClassifier())\n",
    "ate = s_clf.estimate_ate(X=df3.iloc[:, 1:-2], treatment=df3.W, y=df3.conversion)\n",
    "print(ate_s)"
   ]
  },
  {
   "cell_type": "code",
   "execution_count": 33,
   "metadata": {},
   "outputs": [],
   "source": [
    "#Conditional ATE (CATE) с помощью S-learner'а.\n",
    "cate_s = s_clf.fit_predict(X=df3.iloc[:, 1:-2], treatment=df3.W, y=df3.conversion)"
   ]
  },
  {
   "cell_type": "code",
   "execution_count": 34,
   "metadata": {},
   "outputs": [
    {
     "data": {
      "text/plain": [
       "(array([  3602.,    927.,    729.,   1438.,  69169., 106006.,    676.,\n",
       "           474.,    961.,  16018.]),\n",
       " array([-9.96222198e-01, -7.96783000e-01, -5.97343802e-01, -3.97904605e-01,\n",
       "        -1.98465407e-01,  9.73790884e-04,  2.00412989e-01,  3.99852186e-01,\n",
       "         5.99291384e-01,  7.98730582e-01,  9.98169780e-01]),\n",
       " <a list of 10 Patch objects>)"
      ]
     },
     "execution_count": 34,
     "metadata": {},
     "output_type": "execute_result"
    },
    {
     "data": {
      "image/png": "[encoded data removed]",
      "text/plain": [
       "<Figure size 432x288 with 1 Axes>"
      ]
     },
     "metadata": {},
     "output_type": "display_data"
    }
   ],
   "source": [
    "# Таким образом, CATE\n",
    "plt.hist(cate_s)"
   ]
  },
  {
   "cell_type": "code",
   "execution_count": 80,
   "metadata": {},
   "outputs": [
    {
     "data": {
      "text/plain": [
       "0.152935"
      ]
     },
     "execution_count": 80,
     "metadata": {},
     "output_type": "execute_result"
    }
   ],
   "source": [
    "np.mean(df3.conversion)"
   ]
  },
  {
   "cell_type": "code",
   "execution_count": 85,
   "metadata": {},
   "outputs": [
    {
     "data": {
      "text/plain": [
       "5.438189749356015"
      ]
     },
     "execution_count": 85,
     "metadata": {},
     "output_type": "execute_result"
    }
   ],
   "source": [
    "np.mean(ate_s_do)/np.mean(cate_s)"
   ]
  },
  {
   "cell_type": "code",
   "execution_count": 35,
   "metadata": {},
   "outputs": [],
   "source": [
    "# Таким образом, можно применять воздействие только на пользователей, похожих на пользователей с СATE выше \n",
    "# некоторого порога (скажем, 0.5).\n",
    "df3.loc[:, 'cate'] = cate_s\n",
    "df3.loc[:, 'do'] = df3.cate.apply(lambda x: 1 if x > 0.5 else 0)"
   ]
  },
  {
   "cell_type": "code",
   "execution_count": 77,
   "metadata": {},
   "outputs": [
    {
     "name": "stdout",
     "output_type": "stream",
     "text": [
      "0.3239030051734904\n"
     ]
    }
   ],
   "source": [
    "# Посчититаем CATE в случае воздействия только на \"Persuadable\" пользователей.\n",
    "ate_s_do = s_clf.predict(X=df3.iloc[:, 1:-4], treatment=df3.do)\n",
    "print(np.mean(ate_s_do))"
   ]
  },
  {
   "cell_type": "code",
   "execution_count": 82,
   "metadata": {},
   "outputs": [
    {
     "data": {
      "text/plain": [
       "(array([1.8000e+01, 9.7000e+01, 3.1800e+02, 1.8100e+03, 1.8700e+04,\n",
       "        4.5911e+04, 6.9604e+04, 4.9129e+04, 1.3584e+04, 8.2900e+02]),\n",
       " array([-0.76400071, -0.59505463, -0.42610855, -0.25716247, -0.08821639,\n",
       "         0.08072969,  0.24967577,  0.41862186,  0.58756794,  0.75651402,\n",
       "         0.9254601 ]),\n",
       " <a list of 10 Patch objects>)"
      ]
     },
     "execution_count": 82,
     "metadata": {},
     "output_type": "execute_result"
    },
    {
     "data": {
      "image/png": "[encoded data removed]",
      "text/plain": [
       "<Figure size 432x288 with 1 Axes>"
      ]
     },
     "metadata": {},
     "output_type": "display_data"
    }
   ],
   "source": [
    "plt.hist(ate_s_do)"
   ]
  },
  {
   "cell_type": "code",
   "execution_count": 42,
   "metadata": {},
   "outputs": [],
   "source": [
    "# CATE получился намного больше (примерно в 5 раз)"
   ]
  },
  {
   "cell_type": "code",
   "execution_count": 9,
   "metadata": {},
   "outputs": [],
   "source": [
    "# Примерно также будет работать T-learner.\n",
    "t_clf = BaseTClassifier(learner=xgb.XGBClassifier())\n",
    "cate_t = t_clf.fit_predict(X=df3.iloc[:, 1:-2], treatment=df3.W, y=df3.conversion)"
   ]
  },
  {
   "cell_type": "code",
   "execution_count": 16,
   "metadata": {},
   "outputs": [
    {
     "data": {
      "text/plain": [
       "(array([  3602.,    927.,    729.,   1438.,  69169., 106006.,    676.,\n",
       "           474.,    961.,  16018.]),\n",
       " array([-9.96222198e-01, -7.96783000e-01, -5.97343802e-01, -3.97904605e-01,\n",
       "        -1.98465407e-01,  9.73790884e-04,  2.00412989e-01,  3.99852186e-01,\n",
       "         5.99291384e-01,  7.98730582e-01,  9.98169780e-01]),\n",
       " <a list of 10 Patch objects>)"
      ]
     },
     "execution_count": 16,
     "metadata": {},
     "output_type": "execute_result"
    },
    {
     "data": {
      "image/png": "[encoded data removed]",
      "text/plain": [
       "<Figure size 432x288 with 1 Axes>"
      ]
     },
     "metadata": {},
     "output_type": "display_data"
    }
   ],
   "source": [
    "plt.hist(cate_t)"
   ]
  },
  {
   "cell_type": "code",
   "execution_count": null,
   "metadata": {},
   "outputs": [],
   "source": [
    "# Таким образом, применение UPLIFT моделирования позволяет добиться увеличения конверсии пользователей,\n",
    "# к которым применено воздействие. Это происходит потому, что мы отделили три группы пользователей: пользователи,\n",
    "# которые негативно реагируют на воздействие; пользователей, не реагирующиe на воздействие без конверсии; а также \n",
    "# пользователй, не реагирующие на воздействие, которые все равно \"сконверсируются\". Благодаря тому, что воздействие будет \n",
    "# направлено только на тех пользователей, которые сконверсируются только при воздействии, эффективность такого метода\n",
    "# позволяет эффективности программы воздействий увеличится, а ее стоимости уменьшится."
   ]
  }
 ],
 "metadata": {
  "kernelspec": {
   "display_name": "Python 3",
   "language": "python",
   "name": "python3"
  },
  "language_info": {
   "codemirror_mode": {
    "name": "ipython",
    "version": 3
   },
   "file_extension": ".py",
   "mimetype": "text/x-python",
   "name": "python",
   "nbconvert_exporter": "python",
   "pygments_lexer": "ipython3",
   "version": "3.7.7"
  }
 },
 "nbformat": 4,
 "nbformat_minor": 4
}
