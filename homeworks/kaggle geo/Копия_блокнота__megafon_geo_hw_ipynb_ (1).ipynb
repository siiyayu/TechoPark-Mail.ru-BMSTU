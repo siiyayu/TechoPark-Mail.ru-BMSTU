{
 "cells": [
  {
   "cell_type": "code",
   "execution_count": 278,
   "metadata": {
    "id": "9rzf86LXHAgZ"
   },
   "outputs": [],
   "source": [
    "import warnings\n",
    "warnings.filterwarnings('ignore')\n",
    "\n",
    "import pandas as pd\n",
    "import numpy as np\n",
    "import geopandas as gpd\n",
    "import requests\n",
    "import json\n",
    "\n",
    "from sklearn.model_selection import train_test_split\n",
    "from sklearn.metrics import mean_absolute_error\n",
    "from sklearn.linear_model import LinearRegression\n",
    "from geopy.geocoders import Nominatim\n",
    "import overpass\n",
    "from keplergl import KeplerGl\n",
    "from shapely.geometry import Point, LineString, Polygon, MultiPoint, MultiLineString, MultiPolygon\n",
    "from geopy import distance\n",
    "from sklearn.preprocessing import OneHotEncoder\n",
    "from sklearn.model_selection import cross_val_score"
   ]
  },
  {
   "cell_type": "code",
   "execution_count": 2,
   "metadata": {
    "id": "Dvdefqa3Kpf6"
   },
   "outputs": [],
   "source": [
    "# !pip3 install pandas\n",
    "# !pip3 install numpy\n",
    "# !pip3 install geopandas\n",
    "# !pip3 install sklearn\n",
    "# !pip3 install geopy\n",
    "# !pip3 install overpass\n",
    "# !pip3 install keplergl\n",
    "# !pip3 install shapely\n",
    "# !pip3 install pygeos"
   ]
  },
  {
   "cell_type": "code",
   "execution_count": null,
   "metadata": {
    "id": "9FIVVV7NKTUF"
   },
   "outputs": [],
   "source": [
    "# !apt install libspatialindex-dev"
   ]
  },
  {
   "cell_type": "markdown",
   "metadata": {
    "id": "LfhbmoXkHAga"
   },
   "source": [
    "### Задача:\n",
    "\n",
    "Прогноз продаж одной из популярных моделей [фичерфонов](https://ru.wikipedia.org/wiki/%D0%A4%D0%B8%D1%87%D0%B5%D1%80%D1%84%D0%BE%D0%BD) (на картинке ниже пример похожего устройства) в салонах МегаФона\n",
    "![](https://39.img.avito.st/640x480/8468720439.jpg)"
   ]
  },
  {
   "cell_type": "markdown",
   "metadata": {
    "id": "SRO_sugmHAga"
   },
   "source": [
    "### Исходные данные:\n",
    "\n",
    "Датасет содержит следующие поля:\n",
    "\n",
    "1. `point_id` - Индентификатор салона\n",
    "2. `lon` - Долгота точки\n",
    "3. `lat` - Широта точки\n",
    "4. `target` - Значение таргета, усредненное за несколько месяцев и отнормированное"
   ]
  },
  {
   "cell_type": "markdown",
   "metadata": {
    "id": "20ZaD2XFHAga"
   },
   "source": [
    "### Требования к решению и советы:\n",
    "\n",
    "Ниже приведен список из нескольких важных пунктов, необходимых для решения задания. Выполнение каждого из пунктов влияет на итоговую оценку. Вы можете выполнить каждый из пунктов разными способами, самым лучшим будет считаться вариант, когда всё получение и обработка данных будут реализованы на Питоне (пример: вы можете скачать данные из OSM через интерфейс на сайте overpass-turbo или с помощью библиотек `overpass`/`requests`. Оба варианта будут зачтены, но больше баллов можно заработать во втором случае)\n",
    "\n",
    "\n",
    "\n",
    "1. Салоны расположены в нескольких разных городах, вам необходимо **определить город для каждого салона** (это понадобится во многих частях задания). К этому есть разные подходы. Вы можете провести [обратное геокодирование](https://en.wikipedia.org/wiki/Reverse_geocoding) с помощью геокодера [Nominatim](https://nominatim.org/), доступного через библиотеку `geopy` примерно вот так:\n",
    "```python\n",
    "from geopy.geocoders import Nominatim\n",
    "geolocator = Nominatim(user_agent=\"specify_your_app_name_here\")\n",
    "location = geolocator.reverse(\"52.509669, 13.376294\")\n",
    "print(location.address)\n",
    "```\n",
    "В таком случае, вам придется обрабатывать полученную строку адреса, чтобы извлечь название города. Также вы можете скачать из OSM или найти в любом другом источнике границы административно территориальных границ России и пересечь с ними датасет с помощью `geopandas.sjoin` (этот вариант более надежный, но нужно будет разобраться с тем, как устроены границы АТД в OSM, обратите внимание на [этот тег](https://wiki.openstreetmap.org/wiki/Key:admin_level))"
   ]
  },
  {
   "cell_type": "markdown",
   "metadata": {
    "id": "RTZfI_xnHAga"
   },
   "source": [
    "\n",
    "2. **Используйте данные OSM**: подумайте, какие объекты могут влиять на продажи фичерфонов. Гипотеза: такие телефоны покупают люди, приезжающие в город или страну ненадолго, чтобы вставить туда отдельную симкарту для роуминга. Можно попробовать использовать местоположения железнодорожных вокзалов (изучите [этот тег](https://wiki.openstreetmap.org/wiki/Tag:railway%3Dstation)). Необходимо использовать хотя бы 5 разных типов объектов из OSM. Скорее всего, вам придется качать данные OSM отдельно для разных городов (см. пример для Нью-Йорка из лекции)\n",
    "\n",
    "\n",
    "3. **Используйте разные способы генерации признаков**: описать положение салона МегаФона относительно станций метро можно разными способами - найти ***расстояние до ближайшей станции***, или же посчитать, сколько станций попадает в ***500 метровую буферную зону*** вокруг салона. Такие признаки будут нести разную информацию. Так же попробуйте поэкспериментировать с размерами буферных зон (представьте, что значат в реальности радиусы 100, 500, 1000 метров). Попробуйте посчитать расстояние до центра города, до других объектов."
   ]
  },
  {
   "cell_type": "markdown",
   "metadata": {
    "id": "RSanMwz8HAga"
   },
   "source": [
    "4. **Сделайте визуализации**: постройте 2-3 карты для какого нибудь из городов - как распределен в пространстве таргет, где находятся объекты, полученные вами из OSM. Можете использовать любой инструмент - обычный `plot()`, `folium`, `keplergl`. Если выберете Кеплер, обязательно сохраните в файл конфиг карты, чтобы ее можно было воспроизвести. Сделать это можно вот так:\n",
    "\n",
    "```python\n",
    "import json\n",
    "json_data = kepler_map.config\n",
    "with open('kepler_config.json', 'w') as outfile:\n",
    "    json.dump(json_data, outfile)\n",
    "```\n",
    "5. Задание не ограничено приведенными выше пунктами, попробуйте нагенерировать интересных признаков, найти в интернете дополнительные данные (в таком случае в комментарии к коду укажите ссылку на ресурс, откуда взяли данные)\n",
    "\n",
    "\n",
    "\n",
    "6. Это довольно сложная задача - датасет очень маленький, данные по своей природе довольно случайны. Поэтому место и скор на Kaggle не будут играть решающую роль в оценке, но позволят заработать дополнительные баллы"
   ]
  },
  {
   "cell_type": "markdown",
   "metadata": {
    "id": "oScyNF00HAga"
   },
   "source": [
    "### Read data"
   ]
  },
  {
   "cell_type": "code",
   "execution_count": null,
   "metadata": {
    "colab": {
     "base_uri": "https://localhost:8080/",
     "height": 178,
     "resources": {
      "http://localhost:8080/nbextensions/google.colab/files.js": {
       "data": "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",
       "headers": [
        [
         "content-type",
         "application/javascript"
        ]
       ],
       "ok": true,
       "status": 200,
       "status_text": ""
      }
     }
    },
    "id": "Mgiysd17Nips",
    "outputId": "39ab6444-9a11-468e-ed59-3ed1b5d0927a",
    "scrolled": false
   },
   "outputs": [
    {
     "data": {
      "text/html": [
       "\n",
       "     <input type=\"file\" id=\"files-c9722dc8-57e5-492a-8633-241ea6a5916c\" name=\"files[]\" multiple disabled\n",
       "        style=\"border:none\" />\n",
       "     <output id=\"result-c9722dc8-57e5-492a-8633-241ea6a5916c\">\n",
       "      Upload widget is only available when the cell has been executed in the\n",
       "      current browser session. Please rerun this cell to enable.\n",
       "      </output>\n",
       "      <script src=\"/nbextensions/google.colab/files.js\"></script> "
      ],
      "text/plain": [
       "<IPython.core.display.HTML object>"
      ]
     },
     "metadata": {
      "tags": []
     },
     "output_type": "display_data"
    },
    {
     "name": "stdout",
     "output_type": "stream",
     "text": [
      "Saving boundaries4.geojson to boundaries4.geojson\n",
      "Saving boundaries.geojson to boundaries.geojson\n",
      "Saving mf_geo_test.csv to mf_geo_test (1).csv\n",
      "Saving mf_geo_train.csv to mf_geo_train (1).csv\n"
     ]
    }
   ],
   "source": [
    "# from google.colab import files\n",
    "# uploaded = files.upload()"
   ]
  },
  {
   "cell_type": "code",
   "execution_count": null,
   "metadata": {
    "colab": {
     "base_uri": "https://localhost:8080/"
    },
    "id": "ZnLoyj9THAga",
    "outputId": "b7abf5cc-e7e6-435d-ff88-d5c849df9a0d",
    "scrolled": true
   },
   "outputs": [
    {
     "name": "stdout",
     "output_type": "stream",
     "text": [
      "--2020-12-03 10:43:35--  https://raw.githubusercontent.com/andreytyu/mf-geo-hw/main/data/mf_geo_train.csv\n",
      "Resolving raw.githubusercontent.com (raw.githubusercontent.com)... 151.101.0.133, 151.101.64.133, 151.101.128.133, ...\n",
      "Connecting to raw.githubusercontent.com (raw.githubusercontent.com)|151.101.0.133|:443... connected.\n",
      "HTTP request sent, awaiting response... 200 OK\n",
      "Length: 23272 (23K) [text/plain]\n",
      "Saving to: ‘./data/train.csv’\n",
      "\n",
      "\r",
      "./data/train.csv      0%[                    ]       0  --.-KB/s               \r",
      "./data/train.csv    100%[===================>]  22.73K  --.-KB/s    in 0.001s  \n",
      "\n",
      "2020-12-03 10:43:35 (16.5 MB/s) - ‘./data/train.csv’ saved [23272/23272]\n",
      "\n",
      "--2020-12-03 10:43:35--  https://raw.githubusercontent.com/andreytyu/mf-geo-hw/main/data/mf_geo_test.csv\n",
      "Resolving raw.githubusercontent.com (raw.githubusercontent.com)... 151.101.0.133, 151.101.64.133, 151.101.128.133, ...\n",
      "Connecting to raw.githubusercontent.com (raw.githubusercontent.com)|151.101.0.133|:443... connected.\n",
      "HTTP request sent, awaiting response... 200 OK\n",
      "Length: 4462 (4.4K) [text/plain]\n",
      "Saving to: ‘./data/test.csv’\n",
      "\n",
      "./data/test.csv     100%[===================>]   4.36K  --.-KB/s    in 0s      \n",
      "\n",
      "2020-12-03 10:43:35 (38.5 MB/s) - ‘./data/test.csv’ saved [4462/4462]\n",
      "\n"
     ]
    }
   ],
   "source": [
    "# train = pd.read_csv('data/mf_geo_train.csv')\n",
    "# test = pd.read_csv('data/mf_geo_test.csv')\n",
    "# !mkdir ./data\n",
    "# !wget https://raw.githubusercontent.com/andreytyu/mf-geo-hw/main/data/mf_geo_train.csv -O ./data/train.csv\n",
    "# !wget https://raw.githubusercontent.com/andreytyu/mf-geo-hw/main/data/mf_geo_test.csv -O ./data/test.csv\n",
    "# train = pd.read_csv('mf_geo_train.csv')\n",
    "# test = pd.read_csv('mf_geo_test.csv')"
   ]
  },
  {
   "cell_type": "code",
   "execution_count": 130,
   "metadata": {
    "id": "ZehWS_B8M6ZW"
   },
   "outputs": [],
   "source": [
    "train = pd.read_csv('data/mf_geo_train.csv')\n",
    "test = pd.read_csv('data/mf_geo_test.csv')"
   ]
  },
  {
   "cell_type": "code",
   "execution_count": 131,
   "metadata": {
    "colab": {
     "base_uri": "https://localhost:8080/",
     "height": 111
    },
    "id": "3HOVfi1xHAga",
    "outputId": "0c6c58cf-73eb-4e40-ea84-eabdf958652c"
   },
   "outputs": [
    {
     "data": {
      "text/html": [
       "<div>\n",
       "<style scoped>\n",
       "    .dataframe tbody tr th:only-of-type {\n",
       "        vertical-align: middle;\n",
       "    }\n",
       "\n",
       "    .dataframe tbody tr th {\n",
       "        vertical-align: top;\n",
       "    }\n",
       "\n",
       "    .dataframe thead th {\n",
       "        text-align: right;\n",
       "    }\n",
       "</style>\n",
       "<table border=\"1\" class=\"dataframe\">\n",
       "  <thead>\n",
       "    <tr style=\"text-align: right;\">\n",
       "      <th></th>\n",
       "      <th>point_id</th>\n",
       "      <th>lon</th>\n",
       "      <th>lat</th>\n",
       "      <th>target</th>\n",
       "    </tr>\n",
       "  </thead>\n",
       "  <tbody>\n",
       "    <tr>\n",
       "      <th>0</th>\n",
       "      <td>ommNZCUV</td>\n",
       "      <td>37.590776</td>\n",
       "      <td>55.848630</td>\n",
       "      <td>-0.348157</td>\n",
       "    </tr>\n",
       "    <tr>\n",
       "      <th>1</th>\n",
       "      <td>nMe2LHPb</td>\n",
       "      <td>37.784210</td>\n",
       "      <td>55.750271</td>\n",
       "      <td>1.294206</td>\n",
       "    </tr>\n",
       "  </tbody>\n",
       "</table>\n",
       "</div>"
      ],
      "text/plain": [
       "   point_id        lon        lat    target\n",
       "0  ommNZCUV  37.590776  55.848630 -0.348157\n",
       "1  nMe2LHPb  37.784210  55.750271  1.294206"
      ]
     },
     "execution_count": 131,
     "metadata": {},
     "output_type": "execute_result"
    }
   ],
   "source": [
    "train.head(2)"
   ]
  },
  {
   "cell_type": "code",
   "execution_count": 6,
   "metadata": {
    "colab": {
     "base_uri": "https://localhost:8080/"
    },
    "id": "CRhhdEWyQdpP",
    "outputId": "ba077b98-87ed-4a3f-db6f-c4abccc29d08"
   },
   "outputs": [
    {
     "data": {
      "text/plain": [
       "(425, 4)"
      ]
     },
     "execution_count": 6,
     "metadata": {},
     "output_type": "execute_result"
    }
   ],
   "source": [
    "train.shape"
   ]
  },
  {
   "cell_type": "code",
   "execution_count": 7,
   "metadata": {
    "colab": {
     "base_uri": "https://localhost:8080/",
     "height": 111
    },
    "id": "djTt3NyqHAga",
    "outputId": "29ffd794-4b46-4e5c-91a3-176d1f70cb9f"
   },
   "outputs": [
    {
     "data": {
      "text/html": [
       "<div>\n",
       "<style scoped>\n",
       "    .dataframe tbody tr th:only-of-type {\n",
       "        vertical-align: middle;\n",
       "    }\n",
       "\n",
       "    .dataframe tbody tr th {\n",
       "        vertical-align: top;\n",
       "    }\n",
       "\n",
       "    .dataframe thead th {\n",
       "        text-align: right;\n",
       "    }\n",
       "</style>\n",
       "<table border=\"1\" class=\"dataframe\">\n",
       "  <thead>\n",
       "    <tr style=\"text-align: right;\">\n",
       "      <th></th>\n",
       "      <th>point_id</th>\n",
       "      <th>lon</th>\n",
       "      <th>lat</th>\n",
       "      <th>target</th>\n",
       "    </tr>\n",
       "  </thead>\n",
       "  <tbody>\n",
       "    <tr>\n",
       "      <th>0</th>\n",
       "      <td>F4lXR1cG</td>\n",
       "      <td>37.681242</td>\n",
       "      <td>55.74804</td>\n",
       "      <td>0.0091</td>\n",
       "    </tr>\n",
       "    <tr>\n",
       "      <th>1</th>\n",
       "      <td>4LJu4GTf</td>\n",
       "      <td>60.580910</td>\n",
       "      <td>56.79586</td>\n",
       "      <td>0.0091</td>\n",
       "    </tr>\n",
       "  </tbody>\n",
       "</table>\n",
       "</div>"
      ],
      "text/plain": [
       "   point_id        lon       lat  target\n",
       "0  F4lXR1cG  37.681242  55.74804  0.0091\n",
       "1  4LJu4GTf  60.580910  56.79586  0.0091"
      ]
     },
     "execution_count": 7,
     "metadata": {},
     "output_type": "execute_result"
    }
   ],
   "source": [
    "test.head(2)"
   ]
  },
  {
   "cell_type": "code",
   "execution_count": 8,
   "metadata": {},
   "outputs": [
    {
     "data": {
      "text/plain": [
       "(107, 4)"
      ]
     },
     "execution_count": 8,
     "metadata": {},
     "output_type": "execute_result"
    }
   ],
   "source": [
    "test.shape"
   ]
  },
  {
   "cell_type": "markdown",
   "metadata": {
    "id": "VNQ1Gpe2HAga"
   },
   "source": [
    "### Fit model"
   ]
  },
  {
   "cell_type": "code",
   "execution_count": null,
   "metadata": {
    "id": "zabM57-qHAga"
   },
   "outputs": [],
   "source": [
    "X_train, X_valid, y_train, y_valid = train_test_split(train.drop('target', axis=1), train[['target']])\n",
    "model = LinearRegression().fit(X_train.drop('point_id', axis=1), y_train)"
   ]
  },
  {
   "cell_type": "code",
   "execution_count": null,
   "metadata": {
    "id": "yAuozS4IHAga",
    "outputId": "74581c4a-37e7-492f-a274-ba335697514d"
   },
   "outputs": [
    {
     "data": {
      "text/plain": [
       "0.6399230367128608"
      ]
     },
     "execution_count": 17,
     "metadata": {
      "tags": []
     },
     "output_type": "execute_result"
    }
   ],
   "source": [
    "mean_absolute_error(y_valid, model.predict(X_valid.drop('point_id', axis=1)))"
   ]
  },
  {
   "cell_type": "markdown",
   "metadata": {
    "id": "aYMgu32QHAgb"
   },
   "source": [
    "### Make submission"
   ]
  },
  {
   "cell_type": "code",
   "execution_count": null,
   "metadata": {
    "id": "qtckSh69HAgb"
   },
   "outputs": [],
   "source": [
    "submission = pd.read_csv('data/sample_submission.csv')\n",
    "submission['target'] = model.predict(X_valid.drop('point_id', axis=1))\n",
    "submission.to_csv('data/my_submission_01.csv', index=False)"
   ]
  },
  {
   "cell_type": "markdown",
   "metadata": {
    "id": "-NjYn5tRHAgb"
   },
   "source": [
    "### Improvements"
   ]
  },
  {
   "cell_type": "markdown",
   "metadata": {
    "id": "aKUQk3BscQ5X"
   },
   "source": [
    "## 1)"
   ]
  },
  {
   "cell_type": "code",
   "execution_count": 9,
   "metadata": {
    "id": "8M5OolC0HAgb",
    "scrolled": true
   },
   "outputs": [
    {
     "ename": "DriverError",
     "evalue": "boundaries4.geojson: No such file or directory",
     "output_type": "error",
     "traceback": [
      "\u001b[0;31m---------------------------------------------------------------------------\u001b[0m",
      "\u001b[0;31mCPLE_OpenFailedError\u001b[0m                      Traceback (most recent call last)",
      "\u001b[0;32mfiona/_shim.pyx\u001b[0m in \u001b[0;36mfiona._shim.gdal_open_vector\u001b[0;34m()\u001b[0m\n",
      "\u001b[0;32mfiona/_err.pyx\u001b[0m in \u001b[0;36mfiona._err.exc_wrap_pointer\u001b[0;34m()\u001b[0m\n",
      "\u001b[0;31mCPLE_OpenFailedError\u001b[0m: boundaries4.geojson: No such file or directory",
      "\nDuring handling of the above exception, another exception occurred:\n",
      "\u001b[0;31mDriverError\u001b[0m                               Traceback (most recent call last)",
      "\u001b[0;32m<ipython-input-9-448e7f29c886>\u001b[0m in \u001b[0;36m<module>\u001b[0;34m\u001b[0m\n\u001b[0;32m----> 1\u001b[0;31m \u001b[0mboundaries\u001b[0m \u001b[0;34m=\u001b[0m \u001b[0mgpd\u001b[0m\u001b[0;34m.\u001b[0m\u001b[0mread_file\u001b[0m\u001b[0;34m(\u001b[0m\u001b[0;34m'boundaries4.geojson'\u001b[0m\u001b[0;34m)\u001b[0m \u001b[0;31m#данные скачаны с сайта boundaries.osm ,  admin_level=4\u001b[0m\u001b[0;34m\u001b[0m\u001b[0;34m\u001b[0m\u001b[0m\n\u001b[0m",
      "\u001b[0;32m/usr/local/lib/python3.7/site-packages/geopandas/io/file.py\u001b[0m in \u001b[0;36m_read_file\u001b[0;34m(filename, bbox, mask, rows, **kwargs)\u001b[0m\n\u001b[1;32m     94\u001b[0m \u001b[0;34m\u001b[0m\u001b[0m\n\u001b[1;32m     95\u001b[0m     \u001b[0;32mwith\u001b[0m \u001b[0mfiona_env\u001b[0m\u001b[0;34m(\u001b[0m\u001b[0;34m)\u001b[0m\u001b[0;34m:\u001b[0m\u001b[0;34m\u001b[0m\u001b[0;34m\u001b[0m\u001b[0m\n\u001b[0;32m---> 96\u001b[0;31m         \u001b[0;32mwith\u001b[0m \u001b[0mreader\u001b[0m\u001b[0;34m(\u001b[0m\u001b[0mpath_or_bytes\u001b[0m\u001b[0;34m,\u001b[0m \u001b[0;34m**\u001b[0m\u001b[0mkwargs\u001b[0m\u001b[0;34m)\u001b[0m \u001b[0;32mas\u001b[0m \u001b[0mfeatures\u001b[0m\u001b[0;34m:\u001b[0m\u001b[0;34m\u001b[0m\u001b[0;34m\u001b[0m\u001b[0m\n\u001b[0m\u001b[1;32m     97\u001b[0m \u001b[0;34m\u001b[0m\u001b[0m\n\u001b[1;32m     98\u001b[0m             \u001b[0;31m# In a future Fiona release the crs attribute of features will\u001b[0m\u001b[0;34m\u001b[0m\u001b[0;34m\u001b[0m\u001b[0;34m\u001b[0m\u001b[0m\n",
      "\u001b[0;32m/usr/local/lib/python3.7/site-packages/fiona/env.py\u001b[0m in \u001b[0;36mwrapper\u001b[0;34m(*args, **kwargs)\u001b[0m\n\u001b[1;32m    398\u001b[0m     \u001b[0;32mdef\u001b[0m \u001b[0mwrapper\u001b[0m\u001b[0;34m(\u001b[0m\u001b[0;34m*\u001b[0m\u001b[0margs\u001b[0m\u001b[0;34m,\u001b[0m \u001b[0;34m**\u001b[0m\u001b[0mkwargs\u001b[0m\u001b[0;34m)\u001b[0m\u001b[0;34m:\u001b[0m\u001b[0;34m\u001b[0m\u001b[0;34m\u001b[0m\u001b[0m\n\u001b[1;32m    399\u001b[0m         \u001b[0;32mif\u001b[0m \u001b[0mlocal\u001b[0m\u001b[0;34m.\u001b[0m\u001b[0m_env\u001b[0m\u001b[0;34m:\u001b[0m\u001b[0;34m\u001b[0m\u001b[0;34m\u001b[0m\u001b[0m\n\u001b[0;32m--> 400\u001b[0;31m             \u001b[0;32mreturn\u001b[0m \u001b[0mf\u001b[0m\u001b[0;34m(\u001b[0m\u001b[0;34m*\u001b[0m\u001b[0margs\u001b[0m\u001b[0;34m,\u001b[0m \u001b[0;34m**\u001b[0m\u001b[0mkwargs\u001b[0m\u001b[0;34m)\u001b[0m\u001b[0;34m\u001b[0m\u001b[0;34m\u001b[0m\u001b[0m\n\u001b[0m\u001b[1;32m    401\u001b[0m         \u001b[0;32melse\u001b[0m\u001b[0;34m:\u001b[0m\u001b[0;34m\u001b[0m\u001b[0;34m\u001b[0m\u001b[0m\n\u001b[1;32m    402\u001b[0m             \u001b[0;32mif\u001b[0m \u001b[0misinstance\u001b[0m\u001b[0;34m(\u001b[0m\u001b[0margs\u001b[0m\u001b[0;34m[\u001b[0m\u001b[0;36m0\u001b[0m\u001b[0;34m]\u001b[0m\u001b[0;34m,\u001b[0m \u001b[0mstr\u001b[0m\u001b[0;34m)\u001b[0m\u001b[0;34m:\u001b[0m\u001b[0;34m\u001b[0m\u001b[0;34m\u001b[0m\u001b[0m\n",
      "\u001b[0;32m/usr/local/lib/python3.7/site-packages/fiona/__init__.py\u001b[0m in \u001b[0;36mopen\u001b[0;34m(fp, mode, driver, schema, crs, encoding, layer, vfs, enabled_drivers, crs_wkt, **kwargs)\u001b[0m\n\u001b[1;32m    255\u001b[0m         \u001b[0;32mif\u001b[0m \u001b[0mmode\u001b[0m \u001b[0;32min\u001b[0m \u001b[0;34m(\u001b[0m\u001b[0;34m'a'\u001b[0m\u001b[0;34m,\u001b[0m \u001b[0;34m'r'\u001b[0m\u001b[0;34m)\u001b[0m\u001b[0;34m:\u001b[0m\u001b[0;34m\u001b[0m\u001b[0;34m\u001b[0m\u001b[0m\n\u001b[1;32m    256\u001b[0m             c = Collection(path, mode, driver=driver, encoding=encoding,\n\u001b[0;32m--> 257\u001b[0;31m                            layer=layer, enabled_drivers=enabled_drivers, **kwargs)\n\u001b[0m\u001b[1;32m    258\u001b[0m         \u001b[0;32melif\u001b[0m \u001b[0mmode\u001b[0m \u001b[0;34m==\u001b[0m \u001b[0;34m'w'\u001b[0m\u001b[0;34m:\u001b[0m\u001b[0;34m\u001b[0m\u001b[0;34m\u001b[0m\u001b[0m\n\u001b[1;32m    259\u001b[0m             \u001b[0;32mif\u001b[0m \u001b[0mschema\u001b[0m\u001b[0;34m:\u001b[0m\u001b[0;34m\u001b[0m\u001b[0;34m\u001b[0m\u001b[0m\n",
      "\u001b[0;32m/usr/local/lib/python3.7/site-packages/fiona/collection.py\u001b[0m in \u001b[0;36m__init__\u001b[0;34m(self, path, mode, driver, schema, crs, encoding, layer, vsi, archive, enabled_drivers, crs_wkt, ignore_fields, ignore_geometry, **kwargs)\u001b[0m\n\u001b[1;32m    160\u001b[0m             \u001b[0;32mif\u001b[0m \u001b[0mself\u001b[0m\u001b[0;34m.\u001b[0m\u001b[0mmode\u001b[0m \u001b[0;34m==\u001b[0m \u001b[0;34m'r'\u001b[0m\u001b[0;34m:\u001b[0m\u001b[0;34m\u001b[0m\u001b[0;34m\u001b[0m\u001b[0m\n\u001b[1;32m    161\u001b[0m                 \u001b[0mself\u001b[0m\u001b[0;34m.\u001b[0m\u001b[0msession\u001b[0m \u001b[0;34m=\u001b[0m \u001b[0mSession\u001b[0m\u001b[0;34m(\u001b[0m\u001b[0;34m)\u001b[0m\u001b[0;34m\u001b[0m\u001b[0;34m\u001b[0m\u001b[0m\n\u001b[0;32m--> 162\u001b[0;31m                 \u001b[0mself\u001b[0m\u001b[0;34m.\u001b[0m\u001b[0msession\u001b[0m\u001b[0;34m.\u001b[0m\u001b[0mstart\u001b[0m\u001b[0;34m(\u001b[0m\u001b[0mself\u001b[0m\u001b[0;34m,\u001b[0m \u001b[0;34m**\u001b[0m\u001b[0mkwargs\u001b[0m\u001b[0;34m)\u001b[0m\u001b[0;34m\u001b[0m\u001b[0;34m\u001b[0m\u001b[0m\n\u001b[0m\u001b[1;32m    163\u001b[0m             \u001b[0;32melif\u001b[0m \u001b[0mself\u001b[0m\u001b[0;34m.\u001b[0m\u001b[0mmode\u001b[0m \u001b[0;32min\u001b[0m \u001b[0;34m(\u001b[0m\u001b[0;34m'a'\u001b[0m\u001b[0;34m,\u001b[0m \u001b[0;34m'w'\u001b[0m\u001b[0;34m)\u001b[0m\u001b[0;34m:\u001b[0m\u001b[0;34m\u001b[0m\u001b[0;34m\u001b[0m\u001b[0m\n\u001b[1;32m    164\u001b[0m                 \u001b[0mself\u001b[0m\u001b[0;34m.\u001b[0m\u001b[0msession\u001b[0m \u001b[0;34m=\u001b[0m \u001b[0mWritingSession\u001b[0m\u001b[0;34m(\u001b[0m\u001b[0;34m)\u001b[0m\u001b[0;34m\u001b[0m\u001b[0;34m\u001b[0m\u001b[0m\n",
      "\u001b[0;32mfiona/ogrext.pyx\u001b[0m in \u001b[0;36mfiona.ogrext.Session.start\u001b[0;34m()\u001b[0m\n",
      "\u001b[0;32mfiona/_shim.pyx\u001b[0m in \u001b[0;36mfiona._shim.gdal_open_vector\u001b[0;34m()\u001b[0m\n",
      "\u001b[0;31mDriverError\u001b[0m: boundaries4.geojson: No such file or directory"
     ]
    }
   ],
   "source": [
    "# boundaries = gpd.read_file('boundaries4.geojson') #данные скачаны с сайта boundaries.osm ,  admin_level=4\n",
    "# boundaries.head(2)"
   ]
  },
  {
   "cell_type": "code",
   "execution_count": null,
   "metadata": {
    "colab": {
     "base_uri": "https://localhost:8080/",
     "height": 483
    },
    "id": "QdGRxOC4ZU8t",
    "outputId": "274857e9-8141-4115-c9b8-87ab8a691a5d"
   },
   "outputs": [
    {
     "data": {
      "text/html": [
       "<div>\n",
       "<style scoped>\n",
       "    .dataframe tbody tr th:only-of-type {\n",
       "        vertical-align: middle;\n",
       "    }\n",
       "\n",
       "    .dataframe tbody tr th {\n",
       "        vertical-align: top;\n",
       "    }\n",
       "\n",
       "    .dataframe thead th {\n",
       "        text-align: right;\n",
       "    }\n",
       "</style>\n",
       "<table border=\"1\" class=\"dataframe\">\n",
       "  <thead>\n",
       "    <tr style=\"text-align: right;\">\n",
       "      <th></th>\n",
       "      <th>id</th>\n",
       "      <th>admin_level</th>\n",
       "      <th>parents</th>\n",
       "      <th>name</th>\n",
       "      <th>local_name</th>\n",
       "      <th>name_en</th>\n",
       "      <th>geometry</th>\n",
       "    </tr>\n",
       "  </thead>\n",
       "  <tbody>\n",
       "    <tr>\n",
       "      <th>5</th>\n",
       "      <td>-1574364</td>\n",
       "      <td>4</td>\n",
       "      <td>-1059500,-60189</td>\n",
       "      <td>Sevastopol</td>\n",
       "      <td>Севастополь</td>\n",
       "      <td>Sevastopol</td>\n",
       "      <td>None</td>\n",
       "    </tr>\n",
       "    <tr>\n",
       "      <th>6</th>\n",
       "      <td>-3788485</td>\n",
       "      <td>4</td>\n",
       "      <td>-1059500,-60189</td>\n",
       "      <td>Sevastopol</td>\n",
       "      <td>Севастополь</td>\n",
       "      <td>Sevastopol</td>\n",
       "      <td>None</td>\n",
       "    </tr>\n",
       "    <tr>\n",
       "      <th>9</th>\n",
       "      <td>-253252</td>\n",
       "      <td>4</td>\n",
       "      <td>-389344,-60189</td>\n",
       "      <td>Ingushetia</td>\n",
       "      <td>Ингушетия</td>\n",
       "      <td>Ingushetia</td>\n",
       "      <td>None</td>\n",
       "    </tr>\n",
       "    <tr>\n",
       "      <th>16</th>\n",
       "      <td>-103906</td>\n",
       "      <td>4</td>\n",
       "      <td>-1216601,-60189</td>\n",
       "      <td>Kaliningrad</td>\n",
       "      <td>Калининградская область</td>\n",
       "      <td>Kaliningrad</td>\n",
       "      <td>None</td>\n",
       "    </tr>\n",
       "    <tr>\n",
       "      <th>22</th>\n",
       "      <td>-72223</td>\n",
       "      <td>4</td>\n",
       "      <td>-1029256,-60189</td>\n",
       "      <td>Kursk Oblast</td>\n",
       "      <td>Курская область</td>\n",
       "      <td>Kursk Oblast</td>\n",
       "      <td>None</td>\n",
       "    </tr>\n",
       "    <tr>\n",
       "      <th>23</th>\n",
       "      <td>-72224</td>\n",
       "      <td>4</td>\n",
       "      <td>-1029256,-60189</td>\n",
       "      <td>Oryol Oblast</td>\n",
       "      <td>Орловская область</td>\n",
       "      <td>Oryol Oblast</td>\n",
       "      <td>None</td>\n",
       "    </tr>\n",
       "    <tr>\n",
       "      <th>34</th>\n",
       "      <td>-337422</td>\n",
       "      <td>4</td>\n",
       "      <td>-1216601,-60189</td>\n",
       "      <td>Saint Petersburg</td>\n",
       "      <td>Санкт-Петербург</td>\n",
       "      <td>Saint Petersburg</td>\n",
       "      <td>None</td>\n",
       "    </tr>\n",
       "    <tr>\n",
       "      <th>37</th>\n",
       "      <td>-85617</td>\n",
       "      <td>4</td>\n",
       "      <td>-1029256,-60189</td>\n",
       "      <td>Ivanovo Oblast</td>\n",
       "      <td>Ивановская область</td>\n",
       "      <td>Ivanovo Oblast</td>\n",
       "      <td>None</td>\n",
       "    </tr>\n",
       "    <tr>\n",
       "      <th>42</th>\n",
       "      <td>-80513</td>\n",
       "      <td>4</td>\n",
       "      <td>-1075831,-60189</td>\n",
       "      <td>Chuvashia</td>\n",
       "      <td>Чувашия</td>\n",
       "      <td>Chuvashia</td>\n",
       "      <td>None</td>\n",
       "    </tr>\n",
       "    <tr>\n",
       "      <th>46</th>\n",
       "      <td>-115114</td>\n",
       "      <td>4</td>\n",
       "      <td>-1075831,-60189</td>\n",
       "      <td>Mari El</td>\n",
       "      <td>Марий Эл</td>\n",
       "      <td>Mari El</td>\n",
       "      <td>None</td>\n",
       "    </tr>\n",
       "    <tr>\n",
       "      <th>66</th>\n",
       "      <td>-72196</td>\n",
       "      <td>4</td>\n",
       "      <td>-1075831,-60189</td>\n",
       "      <td>Republic of Mordovia</td>\n",
       "      <td>Мордовия</td>\n",
       "      <td>Republic of Mordovia</td>\n",
       "      <td>None</td>\n",
       "    </tr>\n",
       "    <tr>\n",
       "      <th>68</th>\n",
       "      <td>-110032</td>\n",
       "      <td>4</td>\n",
       "      <td>-389344,-60189</td>\n",
       "      <td>Republic of North Ossetia-Alania</td>\n",
       "      <td>Северная Осетия — Алания</td>\n",
       "      <td>Republic of North Ossetia-Alania</td>\n",
       "      <td>None</td>\n",
       "    </tr>\n",
       "    <tr>\n",
       "      <th>69</th>\n",
       "      <td>-109879</td>\n",
       "      <td>4</td>\n",
       "      <td>-389344,-60189</td>\n",
       "      <td>Kabardino-Balkaria</td>\n",
       "      <td>Кабардино-Балкария</td>\n",
       "      <td>Kabardino-Balkaria</td>\n",
       "      <td>None</td>\n",
       "    </tr>\n",
       "    <tr>\n",
       "      <th>73</th>\n",
       "      <td>-102269</td>\n",
       "      <td>4</td>\n",
       "      <td>-1029256,-60189</td>\n",
       "      <td>Moscow</td>\n",
       "      <td>Москва</td>\n",
       "      <td>Moscow</td>\n",
       "      <td>None</td>\n",
       "    </tr>\n",
       "  </tbody>\n",
       "</table>\n",
       "</div>"
      ],
      "text/plain": [
       "         id  admin_level  ...                           name_en geometry\n",
       "5  -1574364            4  ...                        Sevastopol     None\n",
       "6  -3788485            4  ...                        Sevastopol     None\n",
       "9   -253252            4  ...                        Ingushetia     None\n",
       "16  -103906            4  ...                       Kaliningrad     None\n",
       "22   -72223            4  ...                      Kursk Oblast     None\n",
       "23   -72224            4  ...                      Oryol Oblast     None\n",
       "34  -337422            4  ...                  Saint Petersburg     None\n",
       "37   -85617            4  ...                    Ivanovo Oblast     None\n",
       "42   -80513            4  ...                         Chuvashia     None\n",
       "46  -115114            4  ...                           Mari El     None\n",
       "66   -72196            4  ...              Republic of Mordovia     None\n",
       "68  -110032            4  ...  Republic of North Ossetia-Alania     None\n",
       "69  -109879            4  ...                Kabardino-Balkaria     None\n",
       "73  -102269            4  ...                            Moscow     None\n",
       "\n",
       "[14 rows x 7 columns]"
      ]
     },
     "execution_count": 76,
     "metadata": {
      "tags": []
     },
     "output_type": "execute_result"
    }
   ],
   "source": [
    "# boundaries[boundaries.geometry.isnull()] #отсутствуют границы важных нам городов, поэтому использовать будем Nominatim"
   ]
  },
  {
   "cell_type": "code",
   "execution_count": null,
   "metadata": {
    "colab": {
     "base_uri": "https://localhost:8080/",
     "height": 111
    },
    "id": "8BbY1BiJHAgb",
    "outputId": "e90fda44-1744-4d07-d139-b71560779cf0"
   },
   "outputs": [
    {
     "data": {
      "text/html": [
       "<div>\n",
       "<style scoped>\n",
       "    .dataframe tbody tr th:only-of-type {\n",
       "        vertical-align: middle;\n",
       "    }\n",
       "\n",
       "    .dataframe tbody tr th {\n",
       "        vertical-align: top;\n",
       "    }\n",
       "\n",
       "    .dataframe thead th {\n",
       "        text-align: right;\n",
       "    }\n",
       "</style>\n",
       "<table border=\"1\" class=\"dataframe\">\n",
       "  <thead>\n",
       "    <tr style=\"text-align: right;\">\n",
       "      <th></th>\n",
       "      <th>point_id</th>\n",
       "      <th>lon</th>\n",
       "      <th>lat</th>\n",
       "      <th>target</th>\n",
       "      <th>geometry</th>\n",
       "    </tr>\n",
       "  </thead>\n",
       "  <tbody>\n",
       "    <tr>\n",
       "      <th>0</th>\n",
       "      <td>ommNZCUV</td>\n",
       "      <td>37.590776</td>\n",
       "      <td>55.848630</td>\n",
       "      <td>-0.348157</td>\n",
       "      <td>POINT (55.84863 37.59078)</td>\n",
       "    </tr>\n",
       "    <tr>\n",
       "      <th>1</th>\n",
       "      <td>nMe2LHPb</td>\n",
       "      <td>37.784210</td>\n",
       "      <td>55.750271</td>\n",
       "      <td>1.294206</td>\n",
       "      <td>POINT (55.75027 37.78421)</td>\n",
       "    </tr>\n",
       "  </tbody>\n",
       "</table>\n",
       "</div>"
      ],
      "text/plain": [
       "   point_id        lon        lat    target                   geometry\n",
       "0  ommNZCUV  37.590776  55.848630 -0.348157  POINT (55.84863 37.59078)\n",
       "1  nMe2LHPb  37.784210  55.750271  1.294206  POINT (55.75027 37.78421)"
      ]
     },
     "execution_count": 45,
     "metadata": {
      "tags": []
     },
     "output_type": "execute_result"
    }
   ],
   "source": [
    "# train['geometry'] = [Point(x, y) for x, y in zip(train.lat, train.lon)]\n",
    "# train = gpd.GeoDataFrame(train)\n",
    "# train = gpd.sjoin(train, boundaries[['name', 'geometry']], op='within')\n",
    "# train = train.rename(columns={'name':'region'})"
   ]
  },
  {
   "cell_type": "code",
   "execution_count": 298,
   "metadata": {},
   "outputs": [],
   "source": [
    "train = pd.read_csv('data/mf_geo_train.csv')\n",
    "test = pd.read_csv('data/mf_geo_test.csv')"
   ]
  },
  {
   "cell_type": "code",
   "execution_count": 299,
   "metadata": {
    "id": "VrUzOEELYg2N"
   },
   "outputs": [],
   "source": [
    "train['geometry'] = [Point(x, y) for x, y in zip(train.lat, train.lon)]\n",
    "test['geometry'] = [Point(x, y) for x, y in zip(test.lat, test.lon)]"
   ]
  },
  {
   "cell_type": "code",
   "execution_count": 300,
   "metadata": {
    "colab": {
     "base_uri": "https://localhost:8080/"
    },
    "id": "ywC5_yAZcl2V",
    "outputId": "35953570-9c89-41e5-fc20-9a37e98cde44"
   },
   "outputs": [
    {
     "name": "stdout",
     "output_type": "stream",
     "text": [
      "{'road': 'Potsdamer Platz', 'suburb': 'Tiergarten', 'borough': 'Mitte', 'city': 'Berlin', 'district': 'Rixdorf', 'state': 'Berlin', 'postcode': '10117', 'country': 'Deutschland', 'country_code': 'de'}\n"
     ]
    }
   ],
   "source": [
    "geolocator = Nominatim(user_agent=\"65\")\n",
    "location = geolocator.reverse('52.5094982,13.3765983')\n",
    "loc_dict = location.raw\n",
    "print(loc_dict['address'])\n",
    "def get_city(lon, lat):\n",
    "    geolocator = Nominatim(user_agent=\"65\")\n",
    "    location = geolocator.reverse(str(lat) + ', ' + str(lon))\n",
    "    location = location.raw['address']\n",
    "    result = ''\n",
    "    try:\n",
    "        result = location['city']\n",
    "    except:\n",
    "        result = location['state']\n",
    "    if len(result.split(' ')) > 1:\n",
    "        result = location['state']\n",
    "    return result"
   ]
  },
  {
   "cell_type": "code",
   "execution_count": 303,
   "metadata": {
    "colab": {
     "base_uri": "https://localhost:8080/"
    },
    "id": "vtuWfL0lHAgc",
    "outputId": "6ec28d4b-636a-488a-db00-0c0181388373"
   },
   "outputs": [
    {
     "name": "stdout",
     "output_type": "stream",
     "text": [
      "CPU times: user 10.3 s, sys: 652 ms, total: 10.9 s\n",
      "Wall time: 4min 32s\n"
     ]
    }
   ],
   "source": [
    "%%time\n",
    "train['city'] = train.apply(lambda x: get_city(x.lon, x.lat), axis=1)\n",
    "test['city'] = test.apply(lambda x: get_city(x.lon, x.lat), axis=1)"
   ]
  },
  {
   "cell_type": "code",
   "execution_count": 304,
   "metadata": {
    "colab": {
     "base_uri": "https://localhost:8080/"
    },
    "id": "ULJs6-aqcqHb",
    "outputId": "156c3fc7-8f18-4910-d1ed-5ec5ae0b519a"
   },
   "outputs": [
    {
     "data": {
      "text/plain": [
       "Москва                   157\n",
       "Санкт-Петербург           78\n",
       "Самарская область         22\n",
       "Екатеринбург              22\n",
       "Ростов-на-Дону            21\n",
       "Нижегородская область     21\n",
       "Красноярск                20\n",
       "Уфа                       19\n",
       "Татарстан                 16\n",
       "Новосибирская область     14\n",
       "Новосибирск               12\n",
       "Казань                     9\n",
       "Самара                     5\n",
       "Колпино                    4\n",
       "Зеленоград                 3\n",
       "Балашиха                   1\n",
       "Пушкин                     1\n",
       "Name: city, dtype: int64"
      ]
     },
     "execution_count": 304,
     "metadata": {},
     "output_type": "execute_result"
    }
   ],
   "source": [
    "train['city'].value_counts()"
   ]
  },
  {
   "cell_type": "code",
   "execution_count": 305,
   "metadata": {
    "id": "X5o0zZLBdvgr"
   },
   "outputs": [],
   "source": [
    "train.loc[train['city'] == 'Нижегородская область', 'city'] = 'Нижний Новгород'\n",
    "train.loc[train['city'] == 'Колпино', 'city'] = 'Санкт-Петербург'\n",
    "train.loc[train['city'] == 'Зеленоград', 'city'] = 'Москва'\n",
    "train.loc[train['city'] == 'Пушкин', 'city'] = 'Санкт-Петербург'\n",
    "train.loc[train['city'] == 'Балашиха', 'city'] = 'Москва'\n",
    "train.loc[train['city'] == 'Новосибирская область', 'city'] = 'Новосибирск'\n",
    "train.loc[train['city'] == 'Татарстан', 'city'] = 'Казань'"
   ]
  },
  {
   "cell_type": "code",
   "execution_count": 306,
   "metadata": {
    "colab": {
     "base_uri": "https://localhost:8080/"
    },
    "id": "PhvaTJpTeiuq",
    "outputId": "66087174-149b-4308-be50-0b78e96c2d7c"
   },
   "outputs": [
    {
     "data": {
      "text/plain": [
       "Москва               161\n",
       "Санкт-Петербург       83\n",
       "Новосибирск           26\n",
       "Казань                25\n",
       "Самарская область     22\n",
       "Екатеринбург          22\n",
       "Нижний Новгород       21\n",
       "Ростов-на-Дону        21\n",
       "Красноярск            20\n",
       "Уфа                   19\n",
       "Самара                 5\n",
       "Name: city, dtype: int64"
      ]
     },
     "execution_count": 306,
     "metadata": {},
     "output_type": "execute_result"
    }
   ],
   "source": [
    "train['city'].value_counts()"
   ]
  },
  {
   "cell_type": "code",
   "execution_count": 307,
   "metadata": {
    "colab": {
     "base_uri": "https://localhost:8080/"
    },
    "id": "ncksfL8_fjAJ",
    "outputId": "6d65f6ce-b8e9-4be2-9c17-3c9159903c22"
   },
   "outputs": [
    {
     "data": {
      "text/plain": [
       "Москва                   39\n",
       "Санкт-Петербург          21\n",
       "Самарская область         7\n",
       "Красноярск                5\n",
       "Ростов-на-Дону            5\n",
       "Уфа                       5\n",
       "Екатеринбург              5\n",
       "Нижегородская область     5\n",
       "Новосибирск               4\n",
       "Казань                    4\n",
       "Татарстан                 3\n",
       "Новосибирская область     3\n",
       "Зеленоград                1\n",
       "Name: city, dtype: int64"
      ]
     },
     "execution_count": 307,
     "metadata": {},
     "output_type": "execute_result"
    }
   ],
   "source": [
    "test['city'].value_counts()"
   ]
  },
  {
   "cell_type": "code",
   "execution_count": 308,
   "metadata": {
    "id": "5_LMiUmifmpF"
   },
   "outputs": [],
   "source": [
    "test.loc[test['city'] == 'Нижегородская область', 'city'] = 'Нижний Новгород'\n",
    "test.loc[test['city'] == 'Зеленоград', 'city'] = 'Москва'\n",
    "test.loc[test['city'] == 'Новосибирская область', 'city'] = 'Новосибирск'\n",
    "test.loc[test['city'] == 'Татарстан', 'city'] = 'Казань'"
   ]
  },
  {
   "cell_type": "markdown",
   "metadata": {
    "id": "qwuBm-t_g7Vj"
   },
   "source": [
    "## 2)"
   ]
  },
  {
   "cell_type": "code",
   "execution_count": 309,
   "metadata": {
    "id": "arAEdz3tg9aC"
   },
   "outputs": [],
   "source": [
    "#добавим признак - вокзал в радиусе 1000 м"
   ]
  },
  {
   "cell_type": "code",
   "execution_count": 310,
   "metadata": {
    "id": "500RDCv7HAgc"
   },
   "outputs": [],
   "source": [
    "lon_min = train.lon.min(axis=0) - 1\n",
    "lon_max = train.lon.max(axis=0) + 1\n",
    "lat_min = train.lat.min(axis=0) - 1\n",
    "lat_max = train.lat.max(axis=0) + 1"
   ]
  },
  {
   "cell_type": "code",
   "execution_count": 311,
   "metadata": {
    "id": "kMHYAGOYHAgc"
   },
   "outputs": [],
   "source": [
    "bbox = lat_min,lon_min,lat_max,lon_max"
   ]
  },
  {
   "cell_type": "code",
   "execution_count": 312,
   "metadata": {
    "colab": {
     "base_uri": "https://localhost:8080/"
    },
    "id": "n9lPiKTQHAgc",
    "outputId": "a4fd1481-a839-41a0-ee19-7dd1ad202f09"
   },
   "outputs": [
    {
     "data": {
      "text/plain": [
       "(46.208802, 28.76554, 61.093366, 94.023803)"
      ]
     },
     "execution_count": 312,
     "metadata": {},
     "output_type": "execute_result"
    }
   ],
   "source": [
    "bbox"
   ]
  },
  {
   "cell_type": "code",
   "execution_count": 313,
   "metadata": {
    "id": "IBsuO9mFHAgc"
   },
   "outputs": [],
   "source": [
    "overpass_url = \"http://overpass-api.de/api/interpreter\"\n",
    "\n",
    "\n",
    "# node\n",
    "#   [\"railway\"=\"station\"]\n",
    "#   [\"station\"!=\"subway\"]\n",
    "#   [\"transport\"!=\"subway\"]\n",
    "  \n",
    "#   ({{bbox}});\n",
    "# out;\n",
    "\n",
    "overpass_query = '''\n",
    "[out:json];\n",
    "(node\n",
    "  [\"railway\"=\"station\"]\n",
    "  [\"station\"!=\"subway\"]\n",
    "  [\"transport\"!=\"subway\"]({},{},{},{});\n",
    ");\n",
    "out center;\n",
    "'''.format(*bbox)\n",
    "\n",
    "response = requests.get(overpass_url, \n",
    "                        params={'data': overpass_query})\n",
    "train_stations_json = response.json()\n",
    "train_stations = pd.DataFrame(train_stations_json['elements'])\n",
    "train_stations = train_stations.join(\n",
    "    pd.DataFrame([x['tags'] for x in train_stations_json['elements']])).drop('tags', axis=1)"
   ]
  },
  {
   "cell_type": "code",
   "execution_count": 314,
   "metadata": {},
   "outputs": [],
   "source": [
    "def get_geometry(x):\n",
    " if x.type == 'node':\n",
    "   return Point(x.lat, x.lon)\n",
    " elif x.type == 'way' or x.type == 'relation':\n",
    "   return Point(x.center['lat'], x.center['lon'])\n",
    "train_stations['geometry'] = train_stations.apply(lambda x: get_geometry(x) , axis=1)"
   ]
  },
  {
   "cell_type": "code",
   "execution_count": 315,
   "metadata": {},
   "outputs": [
    {
     "name": "stdout",
     "output_type": "stream",
     "text": [
      "(6122, 241)\n"
     ]
    },
    {
     "data": {
      "text/html": [
       "<div>\n",
       "<style scoped>\n",
       "    .dataframe tbody tr th:only-of-type {\n",
       "        vertical-align: middle;\n",
       "    }\n",
       "\n",
       "    .dataframe tbody tr th {\n",
       "        vertical-align: top;\n",
       "    }\n",
       "\n",
       "    .dataframe thead th {\n",
       "        text-align: right;\n",
       "    }\n",
       "</style>\n",
       "<table border=\"1\" class=\"dataframe\">\n",
       "  <thead>\n",
       "    <tr style=\"text-align: right;\">\n",
       "      <th></th>\n",
       "      <th>type</th>\n",
       "      <th>id</th>\n",
       "      <th>lat</th>\n",
       "      <th>lon</th>\n",
       "      <th>esr:user</th>\n",
       "      <th>name</th>\n",
       "      <th>railway</th>\n",
       "      <th>uic_ref</th>\n",
       "      <th>name:ru</th>\n",
       "      <th>name:fi</th>\n",
       "      <th>...</th>\n",
       "      <th>layer</th>\n",
       "      <th>level</th>\n",
       "      <th>name_1</th>\n",
       "      <th>bin</th>\n",
       "      <th>status</th>\n",
       "      <th>disused:railway</th>\n",
       "      <th>esr:usr</th>\n",
       "      <th>railway:station</th>\n",
       "      <th>historic:railway</th>\n",
       "      <th>geometry</th>\n",
       "    </tr>\n",
       "  </thead>\n",
       "  <tbody>\n",
       "    <tr>\n",
       "      <th>0</th>\n",
       "      <td>node</td>\n",
       "      <td>285075</td>\n",
       "      <td>60.749383</td>\n",
       "      <td>33.711172</td>\n",
       "      <td>049207</td>\n",
       "      <td>Янега</td>\n",
       "      <td>station</td>\n",
       "      <td>2004226</td>\n",
       "      <td>NaN</td>\n",
       "      <td>NaN</td>\n",
       "      <td>...</td>\n",
       "      <td>NaN</td>\n",
       "      <td>NaN</td>\n",
       "      <td>NaN</td>\n",
       "      <td>NaN</td>\n",
       "      <td>NaN</td>\n",
       "      <td>NaN</td>\n",
       "      <td>NaN</td>\n",
       "      <td>NaN</td>\n",
       "      <td>NaN</td>\n",
       "      <td>POINT (60.7493828 33.7111717)</td>\n",
       "    </tr>\n",
       "    <tr>\n",
       "      <th>1</th>\n",
       "      <td>node</td>\n",
       "      <td>285173</td>\n",
       "      <td>60.622206</td>\n",
       "      <td>33.314252</td>\n",
       "      <td>049021</td>\n",
       "      <td>Заостровье</td>\n",
       "      <td>station</td>\n",
       "      <td>2004223</td>\n",
       "      <td>Заостровье</td>\n",
       "      <td>NaN</td>\n",
       "      <td>...</td>\n",
       "      <td>NaN</td>\n",
       "      <td>NaN</td>\n",
       "      <td>NaN</td>\n",
       "      <td>NaN</td>\n",
       "      <td>NaN</td>\n",
       "      <td>NaN</td>\n",
       "      <td>NaN</td>\n",
       "      <td>NaN</td>\n",
       "      <td>NaN</td>\n",
       "      <td>POINT (60.6222059 33.3142519)</td>\n",
       "    </tr>\n",
       "  </tbody>\n",
       "</table>\n",
       "<p>2 rows × 241 columns</p>\n",
       "</div>"
      ],
      "text/plain": [
       "   type      id        lat        lon esr:user        name  railway  uic_ref  \\\n",
       "0  node  285075  60.749383  33.711172   049207       Янега  station  2004226   \n",
       "1  node  285173  60.622206  33.314252   049021  Заостровье  station  2004223   \n",
       "\n",
       "      name:ru name:fi  ... layer level name_1  bin status disused:railway  \\\n",
       "0         NaN     NaN  ...   NaN   NaN    NaN  NaN    NaN             NaN   \n",
       "1  Заостровье     NaN  ...   NaN   NaN    NaN  NaN    NaN             NaN   \n",
       "\n",
       "  esr:usr railway:station historic:railway                       geometry  \n",
       "0     NaN             NaN              NaN  POINT (60.7493828 33.7111717)  \n",
       "1     NaN             NaN              NaN  POINT (60.6222059 33.3142519)  \n",
       "\n",
       "[2 rows x 241 columns]"
      ]
     },
     "execution_count": 315,
     "metadata": {},
     "output_type": "execute_result"
    }
   ],
   "source": [
    "print(train_stations.shape)\n",
    "train_stations.head(2)"
   ]
  },
  {
   "cell_type": "code",
   "execution_count": 316,
   "metadata": {
    "id": "IODcFP21r1eJ"
   },
   "outputs": [],
   "source": [
    "def is_near(shop, df, buffer=1):\n",
    "  temp = df.apply(lambda x: distance.great_circle(shop.coords, x.geometry.coords), axis=1)\n",
    "  return (temp < buffer).any()"
   ]
  },
  {
   "cell_type": "code",
   "execution_count": 317,
   "metadata": {
    "colab": {
     "base_uri": "https://localhost:8080/"
    },
    "id": "4_WrPwJSpGKB",
    "outputId": "99952d79-091c-45a9-ed1d-18faca25cb8a"
   },
   "outputs": [
    {
     "name": "stdout",
     "output_type": "stream",
     "text": [
      "CPU times: user 5min 42s, sys: 4.44 s, total: 5min 46s\n",
      "Wall time: 6min 8s\n"
     ]
    }
   ],
   "source": [
    "%%time\n",
    "train['train_stations'] = train.apply(lambda x: is_near(x.geometry, train_stations), axis=1)\n",
    "test['train_stations'] = test.apply(lambda x: is_near(x.geometry, train_stations, buffer=1), axis=1)"
   ]
  },
  {
   "cell_type": "code",
   "execution_count": 318,
   "metadata": {
    "colab": {
     "base_uri": "https://localhost:8080/"
    },
    "id": "uMG8RN0RpGVk",
    "outputId": "93a66ed1-9ce4-4e38-e556-d681932b77c4"
   },
   "outputs": [
    {
     "data": {
      "text/plain": [
       "point_id                             uNw6t6xk\n",
       "lon                                   37.5868\n",
       "lat                                   55.7942\n",
       "target                             -0.0023966\n",
       "geometry          POINT (55.794233 37.586825)\n",
       "city                                   Москва\n",
       "train_stations                           True\n",
       "Name: 421, dtype: object"
      ]
     },
     "execution_count": 318,
     "metadata": {},
     "output_type": "execute_result"
    }
   ],
   "source": [
    "train.loc[421] # Савеловский Вокзал рядом"
   ]
  },
  {
   "cell_type": "code",
   "execution_count": 319,
   "metadata": {
    "id": "7bbEgMripGRa"
   },
   "outputs": [],
   "source": [
    "# добавим признак - коммерческое здание в радиусе 500 м\n",
    "# (\n",
    "#   node\n",
    "#   [\"building\"=\"office\"]\n",
    "#   ({{bbox}});\n",
    "#   way\n",
    "#   [\"building\"=\"office\"]\n",
    "#   ({{bbox}});\n",
    "#  rel\n",
    "#   [\"building\"=\"office\"]\n",
    "#   ({{bbox}});\n",
    "#  );\n",
    "# /*added by auto repair*/\n",
    "# /*end of auto repair*/\n",
    "# out center;\n",
    "\n",
    "\n",
    "overpass_query = '''\n",
    "[out:json];\n",
    "(\n",
    "  node\n",
    "  [\"building\"=\"office\"]({},{},{},{});\n",
    "  way\n",
    "  [\"building\"=\"office\"]({},{},{},{});\n",
    "  rel\n",
    "  [\"building\"=\"office\"]({},{},{},{});\n",
    ");\n",
    "out center;\n",
    "'''.format(*bbox, *bbox, *bbox)\n",
    "\n",
    "response = requests.get(overpass_url, \n",
    "                        params={'data': overpass_query})\n",
    "business_centers_json = response.json()\n",
    "business_centers = pd.DataFrame(business_centers_json['elements'])\n",
    "business_centers = business_centers.drop('tags', axis=1)"
   ]
  },
  {
   "cell_type": "code",
   "execution_count": 320,
   "metadata": {
    "id": "X4kqQqvupGPD"
   },
   "outputs": [],
   "source": [
    "business_centers['geometry'] = business_centers.apply(lambda x: get_geometry(x) , axis=1)"
   ]
  },
  {
   "cell_type": "code",
   "execution_count": 321,
   "metadata": {
    "colab": {
     "base_uri": "https://localhost:8080/"
    },
    "id": "dpxGsjbcEneG",
    "outputId": "613eecf3-bac0-4e24-be5e-22fd2427bbfc"
   },
   "outputs": [
    {
     "name": "stdout",
     "output_type": "stream",
     "text": [
      "CPU times: user 7min 26s, sys: 3.85 s, total: 7min 29s\n",
      "Wall time: 7min 53s\n"
     ]
    }
   ],
   "source": [
    "%%time\n",
    "train['business_centers'] = train.apply(lambda x: is_near(x.geometry, business_centers, buffer=0.5), axis=1)\n",
    "test['business_centers'] = test.apply(lambda x: is_near(x.geometry, business_centers, buffer=0.5), axis=1)"
   ]
  },
  {
   "cell_type": "code",
   "execution_count": 322,
   "metadata": {
    "id": "dfl0b26kD922"
   },
   "outputs": [],
   "source": [
    "#добавим признаки - какое  кол-во станций метро в радиусе 100, 200, 300, 500, 1000 м\n",
    "overpass_query = '''\n",
    "[out:json];\n",
    "(node\n",
    "  [\"railway\"=\"station\"]\n",
    "  [\"station\"=\"subway\"]({},{},{},{});\n",
    ");\n",
    "out center;\n",
    "'''.format(*bbox)\n",
    "\n",
    "response = requests.get(overpass_url, \n",
    "                        params={'data': overpass_query})\n",
    "subway_stations_json = response.json()\n",
    "subway_stations = pd.DataFrame(subway_stations_json['elements'])\n",
    "subway_stations = subway_stations.join(\n",
    "    pd.DataFrame([x['tags'] for x in subway_stations_json['elements']])).drop('tags', axis=1)"
   ]
  },
  {
   "cell_type": "code",
   "execution_count": 323,
   "metadata": {
    "id": "Ap-tgXFEpFqk"
   },
   "outputs": [],
   "source": [
    "subway_stations = subway_stations.iloc[:, :7]\n",
    "subway_stations.drop('colour', axis=1, inplace=True)"
   ]
  },
  {
   "cell_type": "code",
   "execution_count": 324,
   "metadata": {
    "id": "suC5rp7ZKVya"
   },
   "outputs": [],
   "source": [
    "subway_stations['geometry'] = subway_stations.apply(lambda x: Point(x.lat, x.lon), axis=1)"
   ]
  },
  {
   "cell_type": "code",
   "execution_count": 325,
   "metadata": {
    "colab": {
     "base_uri": "https://localhost:8080/",
     "height": 111
    },
    "id": "h63uEhT7IGdL",
    "outputId": "fa1bd78b-b958-4d36-cb93-df1fee1c47af"
   },
   "outputs": [
    {
     "data": {
      "text/html": [
       "<div>\n",
       "<style scoped>\n",
       "    .dataframe tbody tr th:only-of-type {\n",
       "        vertical-align: middle;\n",
       "    }\n",
       "\n",
       "    .dataframe tbody tr th {\n",
       "        vertical-align: top;\n",
       "    }\n",
       "\n",
       "    .dataframe thead th {\n",
       "        text-align: right;\n",
       "    }\n",
       "</style>\n",
       "<table border=\"1\" class=\"dataframe\">\n",
       "  <thead>\n",
       "    <tr style=\"text-align: right;\">\n",
       "      <th></th>\n",
       "      <th>type</th>\n",
       "      <th>id</th>\n",
       "      <th>lat</th>\n",
       "      <th>lon</th>\n",
       "      <th>layer</th>\n",
       "      <th>name</th>\n",
       "      <th>geometry</th>\n",
       "    </tr>\n",
       "  </thead>\n",
       "  <tbody>\n",
       "    <tr>\n",
       "      <th>0</th>\n",
       "      <td>node</td>\n",
       "      <td>60660466</td>\n",
       "      <td>55.887177</td>\n",
       "      <td>37.661550</td>\n",
       "      <td>-1</td>\n",
       "      <td>Медведково</td>\n",
       "      <td>POINT (55.8871767 37.66155)</td>\n",
       "    </tr>\n",
       "    <tr>\n",
       "      <th>1</th>\n",
       "      <td>node</td>\n",
       "      <td>60660469</td>\n",
       "      <td>55.869625</td>\n",
       "      <td>37.664184</td>\n",
       "      <td>-2</td>\n",
       "      <td>Бабушкинская</td>\n",
       "      <td>POINT (55.8696254 37.6641842)</td>\n",
       "    </tr>\n",
       "  </tbody>\n",
       "</table>\n",
       "</div>"
      ],
      "text/plain": [
       "   type        id        lat        lon layer          name  \\\n",
       "0  node  60660466  55.887177  37.661550    -1    Медведково   \n",
       "1  node  60660469  55.869625  37.664184    -2  Бабушкинская   \n",
       "\n",
       "                        geometry  \n",
       "0    POINT (55.8871767 37.66155)  \n",
       "1  POINT (55.8696254 37.6641842)  "
      ]
     },
     "execution_count": 325,
     "metadata": {},
     "output_type": "execute_result"
    }
   ],
   "source": [
    "subway_stations.head(2)"
   ]
  },
  {
   "cell_type": "code",
   "execution_count": 326,
   "metadata": {
    "id": "AtSOi7ipHCXG"
   },
   "outputs": [],
   "source": [
    "def is_near_count(shop, df, buffer=1):\n",
    "  temp = df.apply(lambda x: distance.great_circle(shop.coords, x.geometry.coords), axis=1)\n",
    "  return (temp < buffer).sum()"
   ]
  },
  {
   "cell_type": "code",
   "execution_count": 327,
   "metadata": {
    "colab": {
     "base_uri": "https://localhost:8080/"
    },
    "id": "Dsf2Mt-yHCUs",
    "outputId": "81f8cea1-1a0e-44d2-9593-9d50221410e5"
   },
   "outputs": [
    {
     "name": "stdout",
     "output_type": "stream",
     "text": [
      "CPU times: user 1min 50s, sys: 349 ms, total: 1min 51s\n",
      "Wall time: 1min 51s\n"
     ]
    }
   ],
   "source": [
    "%%time\n",
    "train['subway_stations_100'] = train.apply(lambda x: is_near(x.geometry, subway_stations, buffer=0.1), axis=1)\n",
    "test['subway_stations_100'] = test.apply(lambda x: is_near(x.geometry, subway_stations, buffer=0.1), axis=1)\n",
    "train['subway_stations_200'] = train.apply(lambda x: is_near(x.geometry, subway_stations, buffer=0.2), axis=1)\n",
    "test['subway_stations_200'] = test.apply(lambda x: is_near(x.geometry, subway_stations, buffer=0.2), axis=1)\n",
    "train['subway_stations_300'] = train.apply(lambda x: is_near(x.geometry, subway_stations, buffer=0.3), axis=1)\n",
    "test['subway_stations_300'] = test.apply(lambda x: is_near(x.geometry, subway_stations, buffer=0.3), axis=1)\n",
    "train['subway_stations_500'] = train.apply(lambda x: is_near(x.geometry, subway_stations, buffer=0.5), axis=1)\n",
    "test['subway_stations_500'] = test.apply(lambda x: is_near(x.geometry, subway_stations, buffer=0.5), axis=1)\n",
    "train['subway_stations_1000'] = train.apply(lambda x: is_near(x.geometry, subway_stations, buffer=1), axis=1)\n",
    "test['subway_stations_1000'] = test.apply(lambda x: is_near(x.geometry, subway_stations, buffer=1), axis=1)"
   ]
  },
  {
   "cell_type": "code",
   "execution_count": 328,
   "metadata": {
    "id": "2nw0TjjPJWHt"
   },
   "outputs": [],
   "source": [
    "city_coords = {}\n",
    "for city in np.unique(train.city):\n",
    "  response = requests.get(\"http://nominatim.openstreetmap.org/search?q={}&format=json\".format(city))\n",
    "  city_coords[city] = Point(float(response.json()[0]['lat']), float(response.json()[0]['lon']))"
   ]
  },
  {
   "cell_type": "code",
   "execution_count": 329,
   "metadata": {
    "id": "S1-T_V8HfKLC"
   },
   "outputs": [],
   "source": [
    "#посчитаем расстояние до центра города\n",
    "train['distance_to_center'] = train.apply(lambda x: distance.great_circle(x.geometry.coords, city_coords[x.city].coords).km, axis=1)\n",
    "test['distance_to_center'] = test.apply(lambda x: distance.great_circle(x.geometry.coords, city_coords[x.city].coords).km, axis=1)\n",
    "train['distance_to_center'] = train.apply(lambda x: round(x.distance_to_center, 3), axis=1)\n",
    "test['distance_to_center'] = test.apply(lambda x: round(x.distance_to_center, 3), axis=1)"
   ]
  },
  {
   "cell_type": "code",
   "execution_count": 330,
   "metadata": {
    "colab": {
     "base_uri": "https://localhost:8080/",
     "height": 326
    },
    "id": "oV2wy-gkfKRn",
    "outputId": "28840fde-b561-484d-b811-6d32890bfe12"
   },
   "outputs": [
    {
     "data": {
      "text/html": [
       "<div>\n",
       "<style scoped>\n",
       "    .dataframe tbody tr th:only-of-type {\n",
       "        vertical-align: middle;\n",
       "    }\n",
       "\n",
       "    .dataframe tbody tr th {\n",
       "        vertical-align: top;\n",
       "    }\n",
       "\n",
       "    .dataframe thead th {\n",
       "        text-align: right;\n",
       "    }\n",
       "</style>\n",
       "<table border=\"1\" class=\"dataframe\">\n",
       "  <thead>\n",
       "    <tr style=\"text-align: right;\">\n",
       "      <th></th>\n",
       "      <th>point_id</th>\n",
       "      <th>lon</th>\n",
       "      <th>lat</th>\n",
       "      <th>target</th>\n",
       "      <th>geometry</th>\n",
       "      <th>city</th>\n",
       "      <th>train_stations</th>\n",
       "      <th>business_centers</th>\n",
       "      <th>subway_stations_100</th>\n",
       "      <th>subway_stations_200</th>\n",
       "      <th>subway_stations_300</th>\n",
       "      <th>subway_stations_500</th>\n",
       "      <th>subway_stations_1000</th>\n",
       "      <th>distance_to_center</th>\n",
       "    </tr>\n",
       "  </thead>\n",
       "  <tbody>\n",
       "    <tr>\n",
       "      <th>0</th>\n",
       "      <td>F4lXR1cG</td>\n",
       "      <td>37.681242</td>\n",
       "      <td>55.74804</td>\n",
       "      <td>0.0091</td>\n",
       "      <td>POINT (55.74804 37.681242)</td>\n",
       "      <td>Москва</td>\n",
       "      <td>True</td>\n",
       "      <td>True</td>\n",
       "      <td>False</td>\n",
       "      <td>True</td>\n",
       "      <td>True</td>\n",
       "      <td>True</td>\n",
       "      <td>True</td>\n",
       "      <td>3.998</td>\n",
       "    </tr>\n",
       "    <tr>\n",
       "      <th>1</th>\n",
       "      <td>4LJu4GTf</td>\n",
       "      <td>60.580910</td>\n",
       "      <td>56.79586</td>\n",
       "      <td>0.0091</td>\n",
       "      <td>POINT (56.79586 60.58091)</td>\n",
       "      <td>Екатеринбург</td>\n",
       "      <td>False</td>\n",
       "      <td>False</td>\n",
       "      <td>False</td>\n",
       "      <td>False</td>\n",
       "      <td>False</td>\n",
       "      <td>False</td>\n",
       "      <td>False</td>\n",
       "      <td>5.088</td>\n",
       "    </tr>\n",
       "  </tbody>\n",
       "</table>\n",
       "</div>"
      ],
      "text/plain": [
       "   point_id        lon       lat  target                    geometry  \\\n",
       "0  F4lXR1cG  37.681242  55.74804  0.0091  POINT (55.74804 37.681242)   \n",
       "1  4LJu4GTf  60.580910  56.79586  0.0091   POINT (56.79586 60.58091)   \n",
       "\n",
       "           city  train_stations  business_centers  subway_stations_100  \\\n",
       "0        Москва            True              True                False   \n",
       "1  Екатеринбург           False             False                False   \n",
       "\n",
       "   subway_stations_200  subway_stations_300  subway_stations_500  \\\n",
       "0                 True                 True                 True   \n",
       "1                False                False                False   \n",
       "\n",
       "   subway_stations_1000  distance_to_center  \n",
       "0                  True               3.998  \n",
       "1                 False               5.088  "
      ]
     },
     "execution_count": 330,
     "metadata": {},
     "output_type": "execute_result"
    }
   ],
   "source": [
    "test.head(2)"
   ]
  },
  {
   "cell_type": "code",
   "execution_count": 331,
   "metadata": {},
   "outputs": [
    {
     "data": {
      "text/html": [
       "<div>\n",
       "<style scoped>\n",
       "    .dataframe tbody tr th:only-of-type {\n",
       "        vertical-align: middle;\n",
       "    }\n",
       "\n",
       "    .dataframe tbody tr th {\n",
       "        vertical-align: top;\n",
       "    }\n",
       "\n",
       "    .dataframe thead th {\n",
       "        text-align: right;\n",
       "    }\n",
       "</style>\n",
       "<table border=\"1\" class=\"dataframe\">\n",
       "  <thead>\n",
       "    <tr style=\"text-align: right;\">\n",
       "      <th></th>\n",
       "      <th>point_id</th>\n",
       "      <th>lon</th>\n",
       "      <th>lat</th>\n",
       "      <th>target</th>\n",
       "      <th>geometry</th>\n",
       "      <th>city</th>\n",
       "      <th>train_stations</th>\n",
       "      <th>business_centers</th>\n",
       "      <th>subway_stations_100</th>\n",
       "      <th>subway_stations_200</th>\n",
       "      <th>subway_stations_300</th>\n",
       "      <th>subway_stations_500</th>\n",
       "      <th>subway_stations_1000</th>\n",
       "      <th>distance_to_center</th>\n",
       "    </tr>\n",
       "  </thead>\n",
       "  <tbody>\n",
       "    <tr>\n",
       "      <th>0</th>\n",
       "      <td>ommNZCUV</td>\n",
       "      <td>37.590776</td>\n",
       "      <td>55.848630</td>\n",
       "      <td>-0.348157</td>\n",
       "      <td>POINT (55.84863000000001 37.590776)</td>\n",
       "      <td>Москва</td>\n",
       "      <td>False</td>\n",
       "      <td>False</td>\n",
       "      <td>False</td>\n",
       "      <td>True</td>\n",
       "      <td>True</td>\n",
       "      <td>True</td>\n",
       "      <td>True</td>\n",
       "      <td>11.045</td>\n",
       "    </tr>\n",
       "    <tr>\n",
       "      <th>1</th>\n",
       "      <td>nMe2LHPb</td>\n",
       "      <td>37.784210</td>\n",
       "      <td>55.750271</td>\n",
       "      <td>1.294206</td>\n",
       "      <td>POINT (55.750271 37.78421)</td>\n",
       "      <td>Москва</td>\n",
       "      <td>False</td>\n",
       "      <td>True</td>\n",
       "      <td>False</td>\n",
       "      <td>True</td>\n",
       "      <td>True</td>\n",
       "      <td>True</td>\n",
       "      <td>True</td>\n",
       "      <td>10.433</td>\n",
       "    </tr>\n",
       "  </tbody>\n",
       "</table>\n",
       "</div>"
      ],
      "text/plain": [
       "   point_id        lon        lat    target  \\\n",
       "0  ommNZCUV  37.590776  55.848630 -0.348157   \n",
       "1  nMe2LHPb  37.784210  55.750271  1.294206   \n",
       "\n",
       "                              geometry    city  train_stations  \\\n",
       "0  POINT (55.84863000000001 37.590776)  Москва           False   \n",
       "1           POINT (55.750271 37.78421)  Москва           False   \n",
       "\n",
       "   business_centers  subway_stations_100  subway_stations_200  \\\n",
       "0             False                False                 True   \n",
       "1              True                False                 True   \n",
       "\n",
       "   subway_stations_300  subway_stations_500  subway_stations_1000  \\\n",
       "0                 True                 True                  True   \n",
       "1                 True                 True                  True   \n",
       "\n",
       "   distance_to_center  \n",
       "0              11.045  \n",
       "1              10.433  "
      ]
     },
     "execution_count": 331,
     "metadata": {},
     "output_type": "execute_result"
    }
   ],
   "source": [
    "train.head(2)"
   ]
  },
  {
   "cell_type": "code",
   "execution_count": 332,
   "metadata": {
    "colab": {
     "base_uri": "https://localhost:8080/",
     "height": 35,
     "referenced_widgets": [
      "14e1cc243e2c46adab5f58fb3b478ba1"
     ]
    },
    "id": "BykvXzC3HAgc",
    "outputId": "20557a70-87db-449c-9936-d2770809d92b",
    "scrolled": false
   },
   "outputs": [
    {
     "name": "stdout",
     "output_type": "stream",
     "text": [
      "User Guide: https://docs.kepler.gl/docs/keplergl-jupyter\n"
     ]
    },
    {
     "data": {
      "application/vnd.jupyter.widget-view+json": {
       "model_id": "7853db5043a4427a9b4d1348ac2e2dec",
       "version_major": 2,
       "version_minor": 0
      },
      "text/plain": [
       "KeplerGl(data={'unnamed': {'index': [0, 1, 3, 4, 7, 11, 14, 15, 19, 21, 27, 28, 29, 30, 31, 32, 33, 34, 35, 36…"
      ]
     },
     "metadata": {},
     "output_type": "display_data"
    }
   ],
   "source": [
    "kg_map = KeplerGl()\n",
    "kg_map.add_data(train.drop('geometry', axis=1)[train['city'] == 'Москва'])\n",
    "kg_map"
   ]
  },
  {
   "cell_type": "code",
   "execution_count": 333,
   "metadata": {},
   "outputs": [],
   "source": [
    "json_data = kg_map.config\n",
    "with open('kepler_config.json', 'w') as outfile:\n",
    "    json.dump(json_data, outfile)"
   ]
  },
  {
   "cell_type": "code",
   "execution_count": 167,
   "metadata": {
    "colab": {
     "base_uri": "https://localhost:8080/",
     "height": 419
    },
    "id": "WkCzcl0IiUYL",
    "outputId": "451d3d81-f355-4e1f-c8cd-6697e4b3bed6"
   },
   "outputs": [
    {
     "name": "stdout",
     "output_type": "stream",
     "text": [
      "User Guide: https://docs.kepler.gl/docs/keplergl-jupyter\n"
     ]
    },
    {
     "data": {
      "application/vnd.jupyter.widget-view+json": {
       "model_id": "d6e08998568d4db69437a44e3fd1ac3a",
       "version_major": 2,
       "version_minor": 0
      },
      "text/plain": [
       "KeplerGl(data={'unnamed': {'index': [0, 1, 2, 3, 4, 5, 6, 7, 8, 9, 10, 11, 12, 13, 14, 15, 16, 17, 18, 19, 20,…"
      ]
     },
     "metadata": {},
     "output_type": "display_data"
    }
   ],
   "source": [
    "kg_map2 = KeplerGl()\n",
    "kg_map2.add_data(train_stations.iloc[:, :4])\n",
    "kg_map2"
   ]
  },
  {
   "cell_type": "code",
   "execution_count": 168,
   "metadata": {},
   "outputs": [],
   "source": [
    "json_data = kg_map2.config\n",
    "with open('kepler_config2.json', 'w') as outfile:\n",
    "    json.dump(json_data, outfile)"
   ]
  },
  {
   "cell_type": "code",
   "execution_count": 169,
   "metadata": {},
   "outputs": [
    {
     "name": "stdout",
     "output_type": "stream",
     "text": [
      "User Guide: https://docs.kepler.gl/docs/keplergl-jupyter\n"
     ]
    },
    {
     "data": {
      "application/vnd.jupyter.widget-view+json": {
       "model_id": "4549b25ff965424a9e239ff1d16fa9dd",
       "version_major": 2,
       "version_minor": 0
      },
      "text/plain": [
       "KeplerGl(data={'unnamed': {'index': [0, 1, 2, 3, 4, 5, 6, 7, 8, 9, 10, 11, 12, 13, 14, 15, 16, 17, 18, 19, 20,…"
      ]
     },
     "metadata": {},
     "output_type": "display_data"
    }
   ],
   "source": [
    "kg_map3 = KeplerGl()\n",
    "kg_map3.add_data(subway_stations.iloc[:, :4])\n",
    "kg_map3"
   ]
  },
  {
   "cell_type": "code",
   "execution_count": 170,
   "metadata": {
    "id": "17EMTtKzHAgc",
    "outputId": "abc92793-7e61-4168-fc67-d87b2edce10a"
   },
   "outputs": [],
   "source": [
    "json_data = kg_map3.config\n",
    "with open('kepler_config3.json', 'w') as outfile:\n",
    "    json.dump(json_data, outfile)"
   ]
  },
  {
   "cell_type": "code",
   "execution_count": 336,
   "metadata": {},
   "outputs": [],
   "source": [
    "X_train = train"
   ]
  },
  {
   "cell_type": "code",
   "execution_count": 337,
   "metadata": {},
   "outputs": [
    {
     "data": {
      "text/plain": [
       "Москва               161\n",
       "Санкт-Петербург       83\n",
       "Новосибирск           26\n",
       "Казань                25\n",
       "Самарская область     22\n",
       "Екатеринбург          22\n",
       "Нижний Новгород       21\n",
       "Ростов-на-Дону        21\n",
       "Красноярск            20\n",
       "Уфа                   19\n",
       "Самара                 5\n",
       "Name: city, dtype: int64"
      ]
     },
     "execution_count": 337,
     "metadata": {},
     "output_type": "execute_result"
    }
   ],
   "source": [
    "X_train['city'].value_counts()"
   ]
  },
  {
   "cell_type": "code",
   "execution_count": 338,
   "metadata": {
    "scrolled": true
   },
   "outputs": [],
   "source": [
    "ohe = OneHotEncoder()\n",
    "city_train = ohe.fit_transform(np.array(X_train['city']).reshape(-1, 1))"
   ]
  },
  {
   "cell_type": "code",
   "execution_count": 339,
   "metadata": {},
   "outputs": [
    {
     "data": {
      "text/html": [
       "<div>\n",
       "<style scoped>\n",
       "    .dataframe tbody tr th:only-of-type {\n",
       "        vertical-align: middle;\n",
       "    }\n",
       "\n",
       "    .dataframe tbody tr th {\n",
       "        vertical-align: top;\n",
       "    }\n",
       "\n",
       "    .dataframe thead th {\n",
       "        text-align: right;\n",
       "    }\n",
       "</style>\n",
       "<table border=\"1\" class=\"dataframe\">\n",
       "  <thead>\n",
       "    <tr style=\"text-align: right;\">\n",
       "      <th></th>\n",
       "      <th>lon</th>\n",
       "      <th>lat</th>\n",
       "      <th>target</th>\n",
       "      <th>train_stations</th>\n",
       "      <th>business_centers</th>\n",
       "      <th>subway_stations_100</th>\n",
       "      <th>subway_stations_200</th>\n",
       "      <th>subway_stations_300</th>\n",
       "      <th>subway_stations_500</th>\n",
       "      <th>subway_stations_1000</th>\n",
       "      <th>...</th>\n",
       "      <th>x0_Казань</th>\n",
       "      <th>x0_Красноярск</th>\n",
       "      <th>x0_Москва</th>\n",
       "      <th>x0_Нижний Новгород</th>\n",
       "      <th>x0_Новосибирск</th>\n",
       "      <th>x0_Ростов-на-Дону</th>\n",
       "      <th>x0_Самара</th>\n",
       "      <th>x0_Самарская область</th>\n",
       "      <th>x0_Санкт-Петербург</th>\n",
       "      <th>x0_Уфа</th>\n",
       "    </tr>\n",
       "  </thead>\n",
       "  <tbody>\n",
       "    <tr>\n",
       "      <th>0</th>\n",
       "      <td>37.590776</td>\n",
       "      <td>55.848630</td>\n",
       "      <td>-0.348157</td>\n",
       "      <td>False</td>\n",
       "      <td>False</td>\n",
       "      <td>False</td>\n",
       "      <td>True</td>\n",
       "      <td>True</td>\n",
       "      <td>True</td>\n",
       "      <td>True</td>\n",
       "      <td>...</td>\n",
       "      <td>0.0</td>\n",
       "      <td>0.0</td>\n",
       "      <td>1.0</td>\n",
       "      <td>0.0</td>\n",
       "      <td>0.0</td>\n",
       "      <td>0.0</td>\n",
       "      <td>0.0</td>\n",
       "      <td>0.0</td>\n",
       "      <td>0.0</td>\n",
       "      <td>0.0</td>\n",
       "    </tr>\n",
       "    <tr>\n",
       "      <th>1</th>\n",
       "      <td>37.784210</td>\n",
       "      <td>55.750271</td>\n",
       "      <td>1.294206</td>\n",
       "      <td>False</td>\n",
       "      <td>True</td>\n",
       "      <td>False</td>\n",
       "      <td>True</td>\n",
       "      <td>True</td>\n",
       "      <td>True</td>\n",
       "      <td>True</td>\n",
       "      <td>...</td>\n",
       "      <td>0.0</td>\n",
       "      <td>0.0</td>\n",
       "      <td>1.0</td>\n",
       "      <td>0.0</td>\n",
       "      <td>0.0</td>\n",
       "      <td>0.0</td>\n",
       "      <td>0.0</td>\n",
       "      <td>0.0</td>\n",
       "      <td>0.0</td>\n",
       "      <td>0.0</td>\n",
       "    </tr>\n",
       "    <tr>\n",
       "      <th>2</th>\n",
       "      <td>39.635721</td>\n",
       "      <td>47.213330</td>\n",
       "      <td>-1.039679</td>\n",
       "      <td>False</td>\n",
       "      <td>True</td>\n",
       "      <td>False</td>\n",
       "      <td>False</td>\n",
       "      <td>False</td>\n",
       "      <td>False</td>\n",
       "      <td>False</td>\n",
       "      <td>...</td>\n",
       "      <td>0.0</td>\n",
       "      <td>0.0</td>\n",
       "      <td>0.0</td>\n",
       "      <td>0.0</td>\n",
       "      <td>0.0</td>\n",
       "      <td>1.0</td>\n",
       "      <td>0.0</td>\n",
       "      <td>0.0</td>\n",
       "      <td>0.0</td>\n",
       "      <td>0.0</td>\n",
       "    </tr>\n",
       "    <tr>\n",
       "      <th>3</th>\n",
       "      <td>37.704570</td>\n",
       "      <td>55.782020</td>\n",
       "      <td>-1.169339</td>\n",
       "      <td>False</td>\n",
       "      <td>True</td>\n",
       "      <td>True</td>\n",
       "      <td>True</td>\n",
       "      <td>True</td>\n",
       "      <td>True</td>\n",
       "      <td>True</td>\n",
       "      <td>...</td>\n",
       "      <td>0.0</td>\n",
       "      <td>0.0</td>\n",
       "      <td>1.0</td>\n",
       "      <td>0.0</td>\n",
       "      <td>0.0</td>\n",
       "      <td>0.0</td>\n",
       "      <td>0.0</td>\n",
       "      <td>0.0</td>\n",
       "      <td>0.0</td>\n",
       "      <td>0.0</td>\n",
       "    </tr>\n",
       "    <tr>\n",
       "      <th>4</th>\n",
       "      <td>37.643983</td>\n",
       "      <td>55.730188</td>\n",
       "      <td>-0.088837</td>\n",
       "      <td>True</td>\n",
       "      <td>True</td>\n",
       "      <td>False</td>\n",
       "      <td>False</td>\n",
       "      <td>False</td>\n",
       "      <td>True</td>\n",
       "      <td>True</td>\n",
       "      <td>...</td>\n",
       "      <td>0.0</td>\n",
       "      <td>0.0</td>\n",
       "      <td>1.0</td>\n",
       "      <td>0.0</td>\n",
       "      <td>0.0</td>\n",
       "      <td>0.0</td>\n",
       "      <td>0.0</td>\n",
       "      <td>0.0</td>\n",
       "      <td>0.0</td>\n",
       "      <td>0.0</td>\n",
       "    </tr>\n",
       "    <tr>\n",
       "      <th>...</th>\n",
       "      <td>...</td>\n",
       "      <td>...</td>\n",
       "      <td>...</td>\n",
       "      <td>...</td>\n",
       "      <td>...</td>\n",
       "      <td>...</td>\n",
       "      <td>...</td>\n",
       "      <td>...</td>\n",
       "      <td>...</td>\n",
       "      <td>...</td>\n",
       "      <td>...</td>\n",
       "      <td>...</td>\n",
       "      <td>...</td>\n",
       "      <td>...</td>\n",
       "      <td>...</td>\n",
       "      <td>...</td>\n",
       "      <td>...</td>\n",
       "      <td>...</td>\n",
       "      <td>...</td>\n",
       "      <td>...</td>\n",
       "      <td>...</td>\n",
       "    </tr>\n",
       "    <tr>\n",
       "      <th>420</th>\n",
       "      <td>37.628765</td>\n",
       "      <td>55.740664</td>\n",
       "      <td>0.213704</td>\n",
       "      <td>False</td>\n",
       "      <td>True</td>\n",
       "      <td>True</td>\n",
       "      <td>True</td>\n",
       "      <td>True</td>\n",
       "      <td>True</td>\n",
       "      <td>True</td>\n",
       "      <td>...</td>\n",
       "      <td>0.0</td>\n",
       "      <td>0.0</td>\n",
       "      <td>1.0</td>\n",
       "      <td>0.0</td>\n",
       "      <td>0.0</td>\n",
       "      <td>0.0</td>\n",
       "      <td>0.0</td>\n",
       "      <td>0.0</td>\n",
       "      <td>0.0</td>\n",
       "      <td>0.0</td>\n",
       "    </tr>\n",
       "    <tr>\n",
       "      <th>421</th>\n",
       "      <td>37.586825</td>\n",
       "      <td>55.794233</td>\n",
       "      <td>-0.002397</td>\n",
       "      <td>True</td>\n",
       "      <td>True</td>\n",
       "      <td>False</td>\n",
       "      <td>False</td>\n",
       "      <td>True</td>\n",
       "      <td>True</td>\n",
       "      <td>True</td>\n",
       "      <td>...</td>\n",
       "      <td>0.0</td>\n",
       "      <td>0.0</td>\n",
       "      <td>1.0</td>\n",
       "      <td>0.0</td>\n",
       "      <td>0.0</td>\n",
       "      <td>0.0</td>\n",
       "      <td>0.0</td>\n",
       "      <td>0.0</td>\n",
       "      <td>0.0</td>\n",
       "      <td>0.0</td>\n",
       "    </tr>\n",
       "    <tr>\n",
       "      <th>422</th>\n",
       "      <td>37.678790</td>\n",
       "      <td>55.772910</td>\n",
       "      <td>-0.910019</td>\n",
       "      <td>False</td>\n",
       "      <td>True</td>\n",
       "      <td>False</td>\n",
       "      <td>True</td>\n",
       "      <td>True</td>\n",
       "      <td>True</td>\n",
       "      <td>True</td>\n",
       "      <td>...</td>\n",
       "      <td>0.0</td>\n",
       "      <td>0.0</td>\n",
       "      <td>1.0</td>\n",
       "      <td>0.0</td>\n",
       "      <td>0.0</td>\n",
       "      <td>0.0</td>\n",
       "      <td>0.0</td>\n",
       "      <td>0.0</td>\n",
       "      <td>0.0</td>\n",
       "      <td>0.0</td>\n",
       "    </tr>\n",
       "    <tr>\n",
       "      <th>423</th>\n",
       "      <td>37.752130</td>\n",
       "      <td>55.619640</td>\n",
       "      <td>-0.326547</td>\n",
       "      <td>False</td>\n",
       "      <td>False</td>\n",
       "      <td>False</td>\n",
       "      <td>False</td>\n",
       "      <td>False</td>\n",
       "      <td>False</td>\n",
       "      <td>True</td>\n",
       "      <td>...</td>\n",
       "      <td>0.0</td>\n",
       "      <td>0.0</td>\n",
       "      <td>1.0</td>\n",
       "      <td>0.0</td>\n",
       "      <td>0.0</td>\n",
       "      <td>0.0</td>\n",
       "      <td>0.0</td>\n",
       "      <td>0.0</td>\n",
       "      <td>0.0</td>\n",
       "      <td>0.0</td>\n",
       "    </tr>\n",
       "    <tr>\n",
       "      <th>424</th>\n",
       "      <td>37.705770</td>\n",
       "      <td>55.782950</td>\n",
       "      <td>-1.234169</td>\n",
       "      <td>False</td>\n",
       "      <td>True</td>\n",
       "      <td>False</td>\n",
       "      <td>True</td>\n",
       "      <td>True</td>\n",
       "      <td>True</td>\n",
       "      <td>True</td>\n",
       "      <td>...</td>\n",
       "      <td>0.0</td>\n",
       "      <td>0.0</td>\n",
       "      <td>1.0</td>\n",
       "      <td>0.0</td>\n",
       "      <td>0.0</td>\n",
       "      <td>0.0</td>\n",
       "      <td>0.0</td>\n",
       "      <td>0.0</td>\n",
       "      <td>0.0</td>\n",
       "      <td>0.0</td>\n",
       "    </tr>\n",
       "  </tbody>\n",
       "</table>\n",
       "<p>425 rows × 22 columns</p>\n",
       "</div>"
      ],
      "text/plain": [
       "           lon        lat    target  train_stations  business_centers  \\\n",
       "0    37.590776  55.848630 -0.348157           False             False   \n",
       "1    37.784210  55.750271  1.294206           False              True   \n",
       "2    39.635721  47.213330 -1.039679           False              True   \n",
       "3    37.704570  55.782020 -1.169339           False              True   \n",
       "4    37.643983  55.730188 -0.088837            True              True   \n",
       "..         ...        ...       ...             ...               ...   \n",
       "420  37.628765  55.740664  0.213704           False              True   \n",
       "421  37.586825  55.794233 -0.002397            True              True   \n",
       "422  37.678790  55.772910 -0.910019           False              True   \n",
       "423  37.752130  55.619640 -0.326547           False             False   \n",
       "424  37.705770  55.782950 -1.234169           False              True   \n",
       "\n",
       "     subway_stations_100  subway_stations_200  subway_stations_300  \\\n",
       "0                  False                 True                 True   \n",
       "1                  False                 True                 True   \n",
       "2                  False                False                False   \n",
       "3                   True                 True                 True   \n",
       "4                  False                False                False   \n",
       "..                   ...                  ...                  ...   \n",
       "420                 True                 True                 True   \n",
       "421                False                False                 True   \n",
       "422                False                 True                 True   \n",
       "423                False                False                False   \n",
       "424                False                 True                 True   \n",
       "\n",
       "     subway_stations_500  subway_stations_1000  ...  x0_Казань  x0_Красноярск  \\\n",
       "0                   True                  True  ...        0.0            0.0   \n",
       "1                   True                  True  ...        0.0            0.0   \n",
       "2                  False                 False  ...        0.0            0.0   \n",
       "3                   True                  True  ...        0.0            0.0   \n",
       "4                   True                  True  ...        0.0            0.0   \n",
       "..                   ...                   ...  ...        ...            ...   \n",
       "420                 True                  True  ...        0.0            0.0   \n",
       "421                 True                  True  ...        0.0            0.0   \n",
       "422                 True                  True  ...        0.0            0.0   \n",
       "423                False                  True  ...        0.0            0.0   \n",
       "424                 True                  True  ...        0.0            0.0   \n",
       "\n",
       "     x0_Москва  x0_Нижний Новгород  x0_Новосибирск  x0_Ростов-на-Дону  \\\n",
       "0          1.0                 0.0             0.0                0.0   \n",
       "1          1.0                 0.0             0.0                0.0   \n",
       "2          0.0                 0.0             0.0                1.0   \n",
       "3          1.0                 0.0             0.0                0.0   \n",
       "4          1.0                 0.0             0.0                0.0   \n",
       "..         ...                 ...             ...                ...   \n",
       "420        1.0                 0.0             0.0                0.0   \n",
       "421        1.0                 0.0             0.0                0.0   \n",
       "422        1.0                 0.0             0.0                0.0   \n",
       "423        1.0                 0.0             0.0                0.0   \n",
       "424        1.0                 0.0             0.0                0.0   \n",
       "\n",
       "     x0_Самара  x0_Самарская область  x0_Санкт-Петербург  x0_Уфа  \n",
       "0          0.0                   0.0                 0.0     0.0  \n",
       "1          0.0                   0.0                 0.0     0.0  \n",
       "2          0.0                   0.0                 0.0     0.0  \n",
       "3          0.0                   0.0                 0.0     0.0  \n",
       "4          0.0                   0.0                 0.0     0.0  \n",
       "..         ...                   ...                 ...     ...  \n",
       "420        0.0                   0.0                 0.0     0.0  \n",
       "421        0.0                   0.0                 0.0     0.0  \n",
       "422        0.0                   0.0                 0.0     0.0  \n",
       "423        0.0                   0.0                 0.0     0.0  \n",
       "424        0.0                   0.0                 0.0     0.0  \n",
       "\n",
       "[425 rows x 22 columns]"
      ]
     },
     "execution_count": 339,
     "metadata": {},
     "output_type": "execute_result"
    }
   ],
   "source": [
    "X_train.drop(columns=['city', 'point_id', 'geometry'], inplace=True)\n",
    "X_train = pd.concat([X_train, pd.DataFrame(city_train.todense(), columns=ohe.get_feature_names())], axis=1)"
   ]
  },
  {
   "cell_type": "code",
   "execution_count": 340,
   "metadata": {},
   "outputs": [
    {
     "data": {
      "text/html": [
       "<div>\n",
       "<style scoped>\n",
       "    .dataframe tbody tr th:only-of-type {\n",
       "        vertical-align: middle;\n",
       "    }\n",
       "\n",
       "    .dataframe tbody tr th {\n",
       "        vertical-align: top;\n",
       "    }\n",
       "\n",
       "    .dataframe thead th {\n",
       "        text-align: right;\n",
       "    }\n",
       "</style>\n",
       "<table border=\"1\" class=\"dataframe\">\n",
       "  <thead>\n",
       "    <tr style=\"text-align: right;\">\n",
       "      <th></th>\n",
       "      <th>lon</th>\n",
       "      <th>lat</th>\n",
       "      <th>target</th>\n",
       "      <th>train_stations</th>\n",
       "      <th>business_centers</th>\n",
       "      <th>subway_stations_100</th>\n",
       "      <th>subway_stations_200</th>\n",
       "      <th>subway_stations_300</th>\n",
       "      <th>subway_stations_500</th>\n",
       "      <th>subway_stations_1000</th>\n",
       "      <th>...</th>\n",
       "      <th>x0_Казань</th>\n",
       "      <th>x0_Красноярск</th>\n",
       "      <th>x0_Москва</th>\n",
       "      <th>x0_Нижний Новгород</th>\n",
       "      <th>x0_Новосибирск</th>\n",
       "      <th>x0_Ростов-на-Дону</th>\n",
       "      <th>x0_Самара</th>\n",
       "      <th>x0_Самарская область</th>\n",
       "      <th>x0_Санкт-Петербург</th>\n",
       "      <th>x0_Уфа</th>\n",
       "    </tr>\n",
       "  </thead>\n",
       "  <tbody>\n",
       "    <tr>\n",
       "      <th>0</th>\n",
       "      <td>37.590776</td>\n",
       "      <td>55.848630</td>\n",
       "      <td>-0.348157</td>\n",
       "      <td>False</td>\n",
       "      <td>False</td>\n",
       "      <td>False</td>\n",
       "      <td>True</td>\n",
       "      <td>True</td>\n",
       "      <td>True</td>\n",
       "      <td>True</td>\n",
       "      <td>...</td>\n",
       "      <td>0.0</td>\n",
       "      <td>0.0</td>\n",
       "      <td>1.0</td>\n",
       "      <td>0.0</td>\n",
       "      <td>0.0</td>\n",
       "      <td>0.0</td>\n",
       "      <td>0.0</td>\n",
       "      <td>0.0</td>\n",
       "      <td>0.0</td>\n",
       "      <td>0.0</td>\n",
       "    </tr>\n",
       "    <tr>\n",
       "      <th>1</th>\n",
       "      <td>37.784210</td>\n",
       "      <td>55.750271</td>\n",
       "      <td>1.294206</td>\n",
       "      <td>False</td>\n",
       "      <td>True</td>\n",
       "      <td>False</td>\n",
       "      <td>True</td>\n",
       "      <td>True</td>\n",
       "      <td>True</td>\n",
       "      <td>True</td>\n",
       "      <td>...</td>\n",
       "      <td>0.0</td>\n",
       "      <td>0.0</td>\n",
       "      <td>1.0</td>\n",
       "      <td>0.0</td>\n",
       "      <td>0.0</td>\n",
       "      <td>0.0</td>\n",
       "      <td>0.0</td>\n",
       "      <td>0.0</td>\n",
       "      <td>0.0</td>\n",
       "      <td>0.0</td>\n",
       "    </tr>\n",
       "  </tbody>\n",
       "</table>\n",
       "<p>2 rows × 22 columns</p>\n",
       "</div>"
      ],
      "text/plain": [
       "         lon        lat    target  train_stations  business_centers  \\\n",
       "0  37.590776  55.848630 -0.348157           False             False   \n",
       "1  37.784210  55.750271  1.294206           False              True   \n",
       "\n",
       "   subway_stations_100  subway_stations_200  subway_stations_300  \\\n",
       "0                False                 True                 True   \n",
       "1                False                 True                 True   \n",
       "\n",
       "   subway_stations_500  subway_stations_1000  ...  x0_Казань  x0_Красноярск  \\\n",
       "0                 True                  True  ...        0.0            0.0   \n",
       "1                 True                  True  ...        0.0            0.0   \n",
       "\n",
       "   x0_Москва  x0_Нижний Новгород  x0_Новосибирск  x0_Ростов-на-Дону  \\\n",
       "0        1.0                 0.0             0.0                0.0   \n",
       "1        1.0                 0.0             0.0                0.0   \n",
       "\n",
       "   x0_Самара  x0_Самарская область  x0_Санкт-Петербург  x0_Уфа  \n",
       "0        0.0                   0.0                 0.0     0.0  \n",
       "1        0.0                   0.0                 0.0     0.0  \n",
       "\n",
       "[2 rows x 22 columns]"
      ]
     },
     "execution_count": 340,
     "metadata": {},
     "output_type": "execute_result"
    }
   ],
   "source": [
    "X_train.head(2)"
   ]
  },
  {
   "cell_type": "code",
   "execution_count": 341,
   "metadata": {},
   "outputs": [],
   "source": [
    "y_train = X_train.target\n",
    "X_train.drop(columns='target', inplace=True)"
   ]
  },
  {
   "cell_type": "code",
   "execution_count": 343,
   "metadata": {},
   "outputs": [
    {
     "data": {
      "text/plain": [
       "0     -0.348157\n",
       "1      1.294206\n",
       "2     -1.039679\n",
       "3     -1.169339\n",
       "4     -0.088837\n",
       "         ...   \n",
       "420    0.213704\n",
       "421   -0.002397\n",
       "422   -0.910019\n",
       "423   -0.326547\n",
       "424   -1.234169\n",
       "Name: target, Length: 425, dtype: float64"
      ]
     },
     "execution_count": 343,
     "metadata": {},
     "output_type": "execute_result"
    }
   ],
   "source": [
    "y_train"
   ]
  },
  {
   "cell_type": "code",
   "execution_count": 344,
   "metadata": {},
   "outputs": [
    {
     "data": {
      "text/plain": [
       "LinearRegression()"
      ]
     },
     "execution_count": 344,
     "metadata": {},
     "output_type": "execute_result"
    }
   ],
   "source": [
    "model = LinearRegression()\n",
    "model.fit(X_train, y_train)"
   ]
  },
  {
   "cell_type": "code",
   "execution_count": 345,
   "metadata": {},
   "outputs": [
    {
     "data": {
      "text/plain": [
       "0.6082089170787052"
      ]
     },
     "execution_count": 345,
     "metadata": {},
     "output_type": "execute_result"
    }
   ],
   "source": [
    "mean_absolute_error(y_train, model.predict(X_train))"
   ]
  },
  {
   "cell_type": "code",
   "execution_count": 346,
   "metadata": {},
   "outputs": [
    {
     "data": {
      "text/plain": [
       "0.096672604582781"
      ]
     },
     "execution_count": 346,
     "metadata": {},
     "output_type": "execute_result"
    }
   ],
   "source": [
    "np.mean(cross_val_score(model, X_train, y_train))"
   ]
  },
  {
   "cell_type": "code",
   "execution_count": 347,
   "metadata": {},
   "outputs": [
    {
     "data": {
      "text/html": [
       "<div>\n",
       "<style scoped>\n",
       "    .dataframe tbody tr th:only-of-type {\n",
       "        vertical-align: middle;\n",
       "    }\n",
       "\n",
       "    .dataframe tbody tr th {\n",
       "        vertical-align: top;\n",
       "    }\n",
       "\n",
       "    .dataframe thead th {\n",
       "        text-align: right;\n",
       "    }\n",
       "</style>\n",
       "<table border=\"1\" class=\"dataframe\">\n",
       "  <thead>\n",
       "    <tr style=\"text-align: right;\">\n",
       "      <th></th>\n",
       "      <th>point_id</th>\n",
       "      <th>lon</th>\n",
       "      <th>lat</th>\n",
       "      <th>target</th>\n",
       "      <th>geometry</th>\n",
       "      <th>city</th>\n",
       "      <th>train_stations</th>\n",
       "      <th>business_centers</th>\n",
       "      <th>subway_stations_100</th>\n",
       "      <th>subway_stations_200</th>\n",
       "      <th>subway_stations_300</th>\n",
       "      <th>subway_stations_500</th>\n",
       "      <th>subway_stations_1000</th>\n",
       "      <th>distance_to_center</th>\n",
       "    </tr>\n",
       "  </thead>\n",
       "  <tbody>\n",
       "    <tr>\n",
       "      <th>0</th>\n",
       "      <td>F4lXR1cG</td>\n",
       "      <td>37.681242</td>\n",
       "      <td>55.748040</td>\n",
       "      <td>0.0091</td>\n",
       "      <td>POINT (55.74804 37.681242)</td>\n",
       "      <td>Москва</td>\n",
       "      <td>True</td>\n",
       "      <td>True</td>\n",
       "      <td>False</td>\n",
       "      <td>True</td>\n",
       "      <td>True</td>\n",
       "      <td>True</td>\n",
       "      <td>True</td>\n",
       "      <td>3.998</td>\n",
       "    </tr>\n",
       "    <tr>\n",
       "      <th>1</th>\n",
       "      <td>4LJu4GTf</td>\n",
       "      <td>60.580910</td>\n",
       "      <td>56.795860</td>\n",
       "      <td>0.0091</td>\n",
       "      <td>POINT (56.79586 60.58091)</td>\n",
       "      <td>Екатеринбург</td>\n",
       "      <td>False</td>\n",
       "      <td>False</td>\n",
       "      <td>False</td>\n",
       "      <td>False</td>\n",
       "      <td>False</td>\n",
       "      <td>False</td>\n",
       "      <td>False</td>\n",
       "      <td>5.088</td>\n",
       "    </tr>\n",
       "    <tr>\n",
       "      <th>2</th>\n",
       "      <td>kLuAAN3s</td>\n",
       "      <td>37.598614</td>\n",
       "      <td>55.781357</td>\n",
       "      <td>0.0091</td>\n",
       "      <td>POINT (55.78135699999999 37.59861400000001)</td>\n",
       "      <td>Москва</td>\n",
       "      <td>False</td>\n",
       "      <td>True</td>\n",
       "      <td>False</td>\n",
       "      <td>True</td>\n",
       "      <td>True</td>\n",
       "      <td>True</td>\n",
       "      <td>True</td>\n",
       "      <td>3.634</td>\n",
       "    </tr>\n",
       "    <tr>\n",
       "      <th>3</th>\n",
       "      <td>OxQHvaNu</td>\n",
       "      <td>37.794051</td>\n",
       "      <td>55.717468</td>\n",
       "      <td>0.0091</td>\n",
       "      <td>POINT (55.717468 37.794051)</td>\n",
       "      <td>Москва</td>\n",
       "      <td>False</td>\n",
       "      <td>False</td>\n",
       "      <td>True</td>\n",
       "      <td>True</td>\n",
       "      <td>True</td>\n",
       "      <td>True</td>\n",
       "      <td>True</td>\n",
       "      <td>11.646</td>\n",
       "    </tr>\n",
       "    <tr>\n",
       "      <th>4</th>\n",
       "      <td>paQsTa1K</td>\n",
       "      <td>49.213026</td>\n",
       "      <td>55.748290</td>\n",
       "      <td>0.0091</td>\n",
       "      <td>POINT (55.74829 49.213026)</td>\n",
       "      <td>Казань</td>\n",
       "      <td>False</td>\n",
       "      <td>False</td>\n",
       "      <td>False</td>\n",
       "      <td>False</td>\n",
       "      <td>False</td>\n",
       "      <td>True</td>\n",
       "      <td>True</td>\n",
       "      <td>6.724</td>\n",
       "    </tr>\n",
       "    <tr>\n",
       "      <th>...</th>\n",
       "      <td>...</td>\n",
       "      <td>...</td>\n",
       "      <td>...</td>\n",
       "      <td>...</td>\n",
       "      <td>...</td>\n",
       "      <td>...</td>\n",
       "      <td>...</td>\n",
       "      <td>...</td>\n",
       "      <td>...</td>\n",
       "      <td>...</td>\n",
       "      <td>...</td>\n",
       "      <td>...</td>\n",
       "      <td>...</td>\n",
       "      <td>...</td>\n",
       "    </tr>\n",
       "    <tr>\n",
       "      <th>102</th>\n",
       "      <td>y8oQuX5v</td>\n",
       "      <td>30.353777</td>\n",
       "      <td>60.049792</td>\n",
       "      <td>0.0091</td>\n",
       "      <td>POINT (60.049792 30.353777)</td>\n",
       "      <td>Санкт-Петербург</td>\n",
       "      <td>False</td>\n",
       "      <td>False</td>\n",
       "      <td>False</td>\n",
       "      <td>False</td>\n",
       "      <td>False</td>\n",
       "      <td>False</td>\n",
       "      <td>False</td>\n",
       "      <td>12.525</td>\n",
       "    </tr>\n",
       "    <tr>\n",
       "      <th>103</th>\n",
       "      <td>4nmfqUw0</td>\n",
       "      <td>92.928927</td>\n",
       "      <td>56.116262</td>\n",
       "      <td>0.0091</td>\n",
       "      <td>POINT (56.116262 92.928927)</td>\n",
       "      <td>Красноярск</td>\n",
       "      <td>False</td>\n",
       "      <td>False</td>\n",
       "      <td>False</td>\n",
       "      <td>False</td>\n",
       "      <td>False</td>\n",
       "      <td>False</td>\n",
       "      <td>False</td>\n",
       "      <td>12.420</td>\n",
       "    </tr>\n",
       "    <tr>\n",
       "      <th>104</th>\n",
       "      <td>N9O45mAh</td>\n",
       "      <td>93.015993</td>\n",
       "      <td>56.023697</td>\n",
       "      <td>0.0091</td>\n",
       "      <td>POINT (56.023697 93.01599299999999)</td>\n",
       "      <td>Красноярск</td>\n",
       "      <td>False</td>\n",
       "      <td>False</td>\n",
       "      <td>False</td>\n",
       "      <td>False</td>\n",
       "      <td>False</td>\n",
       "      <td>False</td>\n",
       "      <td>False</td>\n",
       "      <td>9.064</td>\n",
       "    </tr>\n",
       "    <tr>\n",
       "      <th>105</th>\n",
       "      <td>h2InCLKa</td>\n",
       "      <td>30.381172</td>\n",
       "      <td>59.871149</td>\n",
       "      <td>0.0091</td>\n",
       "      <td>POINT (59.871149 30.381172)</td>\n",
       "      <td>Санкт-Петербург</td>\n",
       "      <td>False</td>\n",
       "      <td>False</td>\n",
       "      <td>False</td>\n",
       "      <td>False</td>\n",
       "      <td>True</td>\n",
       "      <td>True</td>\n",
       "      <td>True</td>\n",
       "      <td>8.342</td>\n",
       "    </tr>\n",
       "    <tr>\n",
       "      <th>106</th>\n",
       "      <td>TQKiIgFt</td>\n",
       "      <td>30.279244</td>\n",
       "      <td>59.942110</td>\n",
       "      <td>0.0091</td>\n",
       "      <td>POINT (59.94211 30.279244)</td>\n",
       "      <td>Санкт-Петербург</td>\n",
       "      <td>False</td>\n",
       "      <td>True</td>\n",
       "      <td>False</td>\n",
       "      <td>False</td>\n",
       "      <td>True</td>\n",
       "      <td>True</td>\n",
       "      <td>True</td>\n",
       "      <td>2.094</td>\n",
       "    </tr>\n",
       "  </tbody>\n",
       "</table>\n",
       "<p>107 rows × 14 columns</p>\n",
       "</div>"
      ],
      "text/plain": [
       "     point_id        lon        lat  target  \\\n",
       "0    F4lXR1cG  37.681242  55.748040  0.0091   \n",
       "1    4LJu4GTf  60.580910  56.795860  0.0091   \n",
       "2    kLuAAN3s  37.598614  55.781357  0.0091   \n",
       "3    OxQHvaNu  37.794051  55.717468  0.0091   \n",
       "4    paQsTa1K  49.213026  55.748290  0.0091   \n",
       "..        ...        ...        ...     ...   \n",
       "102  y8oQuX5v  30.353777  60.049792  0.0091   \n",
       "103  4nmfqUw0  92.928927  56.116262  0.0091   \n",
       "104  N9O45mAh  93.015993  56.023697  0.0091   \n",
       "105  h2InCLKa  30.381172  59.871149  0.0091   \n",
       "106  TQKiIgFt  30.279244  59.942110  0.0091   \n",
       "\n",
       "                                        geometry             city  \\\n",
       "0                     POINT (55.74804 37.681242)           Москва   \n",
       "1                      POINT (56.79586 60.58091)     Екатеринбург   \n",
       "2    POINT (55.78135699999999 37.59861400000001)           Москва   \n",
       "3                    POINT (55.717468 37.794051)           Москва   \n",
       "4                     POINT (55.74829 49.213026)           Казань   \n",
       "..                                           ...              ...   \n",
       "102                  POINT (60.049792 30.353777)  Санкт-Петербург   \n",
       "103                  POINT (56.116262 92.928927)       Красноярск   \n",
       "104          POINT (56.023697 93.01599299999999)       Красноярск   \n",
       "105                  POINT (59.871149 30.381172)  Санкт-Петербург   \n",
       "106                   POINT (59.94211 30.279244)  Санкт-Петербург   \n",
       "\n",
       "     train_stations  business_centers  subway_stations_100  \\\n",
       "0              True              True                False   \n",
       "1             False             False                False   \n",
       "2             False              True                False   \n",
       "3             False             False                 True   \n",
       "4             False             False                False   \n",
       "..              ...               ...                  ...   \n",
       "102           False             False                False   \n",
       "103           False             False                False   \n",
       "104           False             False                False   \n",
       "105           False             False                False   \n",
       "106           False              True                False   \n",
       "\n",
       "     subway_stations_200  subway_stations_300  subway_stations_500  \\\n",
       "0                   True                 True                 True   \n",
       "1                  False                False                False   \n",
       "2                   True                 True                 True   \n",
       "3                   True                 True                 True   \n",
       "4                  False                False                 True   \n",
       "..                   ...                  ...                  ...   \n",
       "102                False                False                False   \n",
       "103                False                False                False   \n",
       "104                False                False                False   \n",
       "105                False                 True                 True   \n",
       "106                False                 True                 True   \n",
       "\n",
       "     subway_stations_1000  distance_to_center  \n",
       "0                    True               3.998  \n",
       "1                   False               5.088  \n",
       "2                    True               3.634  \n",
       "3                    True              11.646  \n",
       "4                    True               6.724  \n",
       "..                    ...                 ...  \n",
       "102                 False              12.525  \n",
       "103                 False              12.420  \n",
       "104                 False               9.064  \n",
       "105                  True               8.342  \n",
       "106                  True               2.094  \n",
       "\n",
       "[107 rows x 14 columns]"
      ]
     },
     "execution_count": 347,
     "metadata": {},
     "output_type": "execute_result"
    }
   ],
   "source": [
    "test"
   ]
  },
  {
   "cell_type": "code",
   "execution_count": 348,
   "metadata": {},
   "outputs": [],
   "source": [
    "X_test = test"
   ]
  },
  {
   "cell_type": "code",
   "execution_count": 349,
   "metadata": {},
   "outputs": [],
   "source": [
    "city_test = ohe.transform(np.array(X_test['city']).reshape(-1, 1))"
   ]
  },
  {
   "cell_type": "code",
   "execution_count": 353,
   "metadata": {},
   "outputs": [
    {
     "data": {
      "text/html": [
       "<div>\n",
       "<style scoped>\n",
       "    .dataframe tbody tr th:only-of-type {\n",
       "        vertical-align: middle;\n",
       "    }\n",
       "\n",
       "    .dataframe tbody tr th {\n",
       "        vertical-align: top;\n",
       "    }\n",
       "\n",
       "    .dataframe thead th {\n",
       "        text-align: right;\n",
       "    }\n",
       "</style>\n",
       "<table border=\"1\" class=\"dataframe\">\n",
       "  <thead>\n",
       "    <tr style=\"text-align: right;\">\n",
       "      <th></th>\n",
       "      <th>lon</th>\n",
       "      <th>lat</th>\n",
       "      <th>target</th>\n",
       "      <th>train_stations</th>\n",
       "      <th>business_centers</th>\n",
       "      <th>subway_stations_100</th>\n",
       "      <th>subway_stations_200</th>\n",
       "      <th>subway_stations_300</th>\n",
       "      <th>subway_stations_500</th>\n",
       "      <th>subway_stations_1000</th>\n",
       "      <th>...</th>\n",
       "      <th>x0_Казань</th>\n",
       "      <th>x0_Красноярск</th>\n",
       "      <th>x0_Москва</th>\n",
       "      <th>x0_Нижний Новгород</th>\n",
       "      <th>x0_Новосибирск</th>\n",
       "      <th>x0_Ростов-на-Дону</th>\n",
       "      <th>x0_Самара</th>\n",
       "      <th>x0_Самарская область</th>\n",
       "      <th>x0_Санкт-Петербург</th>\n",
       "      <th>x0_Уфа</th>\n",
       "    </tr>\n",
       "  </thead>\n",
       "  <tbody>\n",
       "    <tr>\n",
       "      <th>0</th>\n",
       "      <td>37.681242</td>\n",
       "      <td>55.74804</td>\n",
       "      <td>0.0091</td>\n",
       "      <td>True</td>\n",
       "      <td>True</td>\n",
       "      <td>False</td>\n",
       "      <td>True</td>\n",
       "      <td>True</td>\n",
       "      <td>True</td>\n",
       "      <td>True</td>\n",
       "      <td>...</td>\n",
       "      <td>0.0</td>\n",
       "      <td>0.0</td>\n",
       "      <td>1.0</td>\n",
       "      <td>0.0</td>\n",
       "      <td>0.0</td>\n",
       "      <td>0.0</td>\n",
       "      <td>0.0</td>\n",
       "      <td>0.0</td>\n",
       "      <td>0.0</td>\n",
       "      <td>0.0</td>\n",
       "    </tr>\n",
       "    <tr>\n",
       "      <th>1</th>\n",
       "      <td>60.580910</td>\n",
       "      <td>56.79586</td>\n",
       "      <td>0.0091</td>\n",
       "      <td>False</td>\n",
       "      <td>False</td>\n",
       "      <td>False</td>\n",
       "      <td>False</td>\n",
       "      <td>False</td>\n",
       "      <td>False</td>\n",
       "      <td>False</td>\n",
       "      <td>...</td>\n",
       "      <td>0.0</td>\n",
       "      <td>0.0</td>\n",
       "      <td>0.0</td>\n",
       "      <td>0.0</td>\n",
       "      <td>0.0</td>\n",
       "      <td>0.0</td>\n",
       "      <td>0.0</td>\n",
       "      <td>0.0</td>\n",
       "      <td>0.0</td>\n",
       "      <td>0.0</td>\n",
       "    </tr>\n",
       "  </tbody>\n",
       "</table>\n",
       "<p>2 rows × 22 columns</p>\n",
       "</div>"
      ],
      "text/plain": [
       "         lon       lat  target  train_stations  business_centers  \\\n",
       "0  37.681242  55.74804  0.0091            True              True   \n",
       "1  60.580910  56.79586  0.0091           False             False   \n",
       "\n",
       "   subway_stations_100  subway_stations_200  subway_stations_300  \\\n",
       "0                False                 True                 True   \n",
       "1                False                False                False   \n",
       "\n",
       "   subway_stations_500  subway_stations_1000  ...  x0_Казань  x0_Красноярск  \\\n",
       "0                 True                  True  ...        0.0            0.0   \n",
       "1                False                 False  ...        0.0            0.0   \n",
       "\n",
       "   x0_Москва  x0_Нижний Новгород  x0_Новосибирск  x0_Ростов-на-Дону  \\\n",
       "0        1.0                 0.0             0.0                0.0   \n",
       "1        0.0                 0.0             0.0                0.0   \n",
       "\n",
       "   x0_Самара  x0_Самарская область  x0_Санкт-Петербург  x0_Уфа  \n",
       "0        0.0                   0.0                 0.0     0.0  \n",
       "1        0.0                   0.0                 0.0     0.0  \n",
       "\n",
       "[2 rows x 22 columns]"
      ]
     },
     "execution_count": 353,
     "metadata": {},
     "output_type": "execute_result"
    }
   ],
   "source": [
    "X_test.drop(columns=['city', 'point_id', 'geometry', 'target'], inplace=True)\n",
    "X_test = pd.concat([X_test, pd.DataFrame(city_test.todense(), columns=ohe.get_feature_names())], axis=1)\n",
    "X_test.head(2)"
   ]
  },
  {
   "cell_type": "code",
   "execution_count": 359,
   "metadata": {},
   "outputs": [
    {
     "data": {
      "text/html": [
       "<div>\n",
       "<style scoped>\n",
       "    .dataframe tbody tr th:only-of-type {\n",
       "        vertical-align: middle;\n",
       "    }\n",
       "\n",
       "    .dataframe tbody tr th {\n",
       "        vertical-align: top;\n",
       "    }\n",
       "\n",
       "    .dataframe thead th {\n",
       "        text-align: right;\n",
       "    }\n",
       "</style>\n",
       "<table border=\"1\" class=\"dataframe\">\n",
       "  <thead>\n",
       "    <tr style=\"text-align: right;\">\n",
       "      <th></th>\n",
       "      <th>point_id</th>\n",
       "      <th>target</th>\n",
       "    </tr>\n",
       "  </thead>\n",
       "  <tbody>\n",
       "    <tr>\n",
       "      <th>0</th>\n",
       "      <td>F4lXR1cG</td>\n",
       "      <td>0.0091</td>\n",
       "    </tr>\n",
       "    <tr>\n",
       "      <th>1</th>\n",
       "      <td>4LJu4GTf</td>\n",
       "      <td>0.0091</td>\n",
       "    </tr>\n",
       "  </tbody>\n",
       "</table>\n",
       "</div>"
      ],
      "text/plain": [
       "   point_id  target\n",
       "0  F4lXR1cG  0.0091\n",
       "1  4LJu4GTf  0.0091"
      ]
     },
     "execution_count": 359,
     "metadata": {},
     "output_type": "execute_result"
    }
   ],
   "source": [
    "submission = pd.read_csv('sample_submission.csv')\n",
    "submission.head(2)"
   ]
  },
  {
   "cell_type": "code",
   "execution_count": 368,
   "metadata": {},
   "outputs": [],
   "source": [
    "submission['target'] = model.predict(X_test)\n",
    "submission.to_csv('submission_1.csv', index=False)\n",
    "# score 0.65511"
   ]
  }
 ],
 "metadata": {
  "colab": {
   "collapsed_sections": [
    "aYMgu32QHAgb"
   ],
   "name": "Копия блокнота \"megafon_geo_hw.ipynb\"",
   "provenance": []
  },
  "kernelspec": {
   "display_name": "Python 3",
   "language": "python",
   "name": "python3"
  },
  "language_info": {
   "codemirror_mode": {
    "name": "ipython",
    "version": 3
   },
   "file_extension": ".py",
   "mimetype": "text/x-python",
   "name": "python",
   "nbconvert_exporter": "python",
   "pygments_lexer": "ipython3",
   "version": "3.7.7"
  },
  "widgets": {
   "application/vnd.jupyter.widget-state+json": {
    "14e1cc243e2c46adab5f58fb3b478ba1": {
     "model_module": "keplergl-jupyter",
     "model_name": "KeplerGlModal",
     "state": {
      "_dom_classes": [],
      "_model_module": "keplergl-jupyter",
      "_model_module_version": "^0.2.2",
      "_model_name": "KeplerGlModal",
      "_view_count": null,
      "_view_module": "keplergl-jupyter",
      "_view_module_version": "^0.2.2",
      "_view_name": "KeplerGlView",
      "config": {},
      "data": {
       "unnamed": {
        "columns": [
         "point_id",
         "lon",
         "lat",
         "target"
        ],
        "data": [
         [
          "ommNZCUV",
          37.590776,
          55.84863000000001,
          -0.34815737860381524
         ],
         [
          "nMe2LHPb",
          37.78421,
          55.750271,
          1.294206304946465
         ],
         [
          "ZgodVRqB",
          39.635721,
          47.21333,
          -1.0396789295723543
         ],
         [
          "0t2jNYdz",
          37.70457,
          55.78202,
          -1.1693392203789554
         ],
         [
          "U27W4QJ7",
          37.643983,
          55.730188,
          -0.08883679699061309
         ],
         [
          "ci9r9Fr2",
          92.926002,
          56.06590799999999,
          -0.21849708779721416
         ],
         [
          "O3tOF6uE",
          30.4685,
          59.9214,
          -1.0396789295723543
         ],
         [
          "CO76tdVs",
          37.444304,
          55.850511,
          0.21370388155812275
         ],
         [
          "GU0QclY1",
          92.903162,
          56.05029,
          -0.30493728166828155
         ],
         [
          "CHtHXJLp",
          39.701709,
          47.234012,
          -0.13205689392614678
         ],
         [
          "sgrEW5hG",
          39.716987,
          47.222272,
          -1.212559317314489
         ],
         [
          "XPqFCntc",
          37.437191,
          55.66470500000001,
          -0.5642578632814836
         ],
         [
          "1ZvdVY5t",
          55.993548,
          54.713414,
          -0.34815737860381524
         ],
         [
          "zRh8HUje",
          49.118586,
          55.82957800000001,
          0.04082349381598799
         ],
         [
          "Nj7qV6KG",
          37.799786,
          55.793427,
          0.4730244631713249
         ],
         [
          "E2fZAexI",
          37.40478,
          55.81024,
          -0.5642578632814836
         ],
         [
          "9BqGtCOu",
          60.616914,
          56.848247,
          -0.17527699086168047
         ],
         [
          "53eoFG4u",
          43.863684,
          56.228005,
          0.6459048509134596
         ],
         [
          "ejjC2aU3",
          92.974951,
          56.014022,
          -0.4345975724748826
         ],
         [
          "e5ZywFU6",
          37.730449,
          55.706608,
          0.3865842693002575
         ],
         [
          "wQOQvE03",
          30.579832,
          59.735526,
          -1.1261191234434216
         ],
         [
          "wXDJYllD",
          37.597414,
          55.850995,
          0.6459048509134596
         ],
         [
          "8GOlibor",
          30.348665000000004,
          59.832466,
          0.732345044784527
         ],
         [
          "SJOpfpK9",
          82.87236800000002,
          54.981574,
          0.21370388155812275
         ],
         [
          "Fcqb4WDt",
          92.931228,
          56.004484,
          -0.17527699086168047
         ],
         [
          "B8K3Fzd0",
          39.7046,
          47.226000000000006,
          0.08404359075152168
         ],
         [
          "0BYKB88d",
          82.890947,
          54.984036,
          -0.3913774755393489
         ],
         [
          "tFr5ROxI",
          37.825155,
          55.724124,
          -0.4345975724748826
         ],
         [
          "kg8oDow1",
          37.628508,
          55.759601,
          -1.2557794142500227
         ],
         [
          "0eSE1PRt",
          37.491046,
          55.683744,
          -0.30493728166828155
         ],
         [
          "dFRJyrdz",
          37.595278,
          55.58303299999999,
          -0.0456167000550794
         ],
         [
          "IVSpPooR",
          37.53876500000001,
          55.908623,
          -1.0396789295723543
         ],
         [
          "ePTGtnXP",
          37.535637,
          55.691698,
          -0.34815737860381524
         ],
         [
          "XTKhDNze",
          37.659739,
          55.84520300000001,
          -1.1045090749756548
         ],
         [
          "saJNxolJ",
          37.40677,
          55.75784,
          -1.1693392203789554
         ],
         [
          "kXV2cKsB",
          37.660087,
          55.843941,
          -0.4778176694104163
         ],
         [
          "Ge3rjnNS",
          37.436247,
          55.826377,
          0.3865842693002575
         ],
         [
          "Uep82ylV",
          37.637687,
          55.80745600000001,
          0.5162445601068586
         ],
         [
          "eqECPIIT",
          37.7381,
          55.815425,
          -0.30493728166828155
         ],
         [
          "jc6nGwVC",
          37.603394,
          55.609839,
          0.6459048509134596
         ],
         [
          "hmgU8ZxH",
          44.006516,
          56.326797,
          -0.52103776634595
         ],
         [
          "FghElX6D",
          37.438987,
          55.849423,
          1.5535268865596672
         ],
         [
          "UcFkrzvk",
          30.505551,
          59.831962,
          -0.30493728166828155
         ],
         [
          "cpG56rus",
          30.47281,
          59.91627,
          -1.0396789295723543
         ],
         [
          "FS7Ufln2",
          50.21569,
          53.239159,
          0.3865842693002575
         ],
         [
          "7T3FujXu",
          39.67201,
          47.211275,
          0.8187852386555944
         ],
         [
          "tlkZpouQ",
          43.948288,
          56.321865,
          -0.13205689392614678
         ],
         [
          "I0hubgK0",
          60.556457,
          56.806185,
          -0.6939181540880848
         ],
         [
          "Etvm4Few",
          37.63443400000001,
          55.82400500000001,
          -0.0456167000550794
         ],
         [
          "4kXXpr1r",
          30.08969,
          59.738702,
          -0.9532387357012868
         ],
         [
          "p31ln7Rd",
          82.961589,
          55.039081,
          0.08404359075152168
         ],
         [
          "lwTDMNbZ",
          37.765758,
          55.704134,
          0.6459048509134596
         ],
         [
          "jskwtTpg",
          37.62166,
          55.681346,
          -0.6939181540880848
         ],
         [
          "9p3J8gPd",
          30.14391,
          59.849135,
          -1.212559317314489
         ],
         [
          "c5wVfiUF",
          37.679968,
          55.77293,
          1.8128474681728688
         ],
         [
          "yyX5XM5Y",
          37.728164,
          55.691734,
          -0.34815737860381524
         ],
         [
          "ZfbQN6SL",
          37.646375,
          55.653255,
          -0.002396603119545705
         ],
         [
          "mIGlDDq2",
          30.415815,
          59.953669,
          -0.7371382510236184
         ],
         [
          "nh41SLK0",
          56.111306000000006,
          54.80681800000001,
          0.8620053355911281
         ],
         [
          "GLpUl6ku",
          49.219566,
          55.74568100000001,
          -0.08883679699061309
         ],
         [
          "8NvqE4CJ",
          37.486227,
          55.839988,
          0.4730244631713249
         ],
         [
          "6DLyJRJT",
          60.595022,
          56.834796,
          -1.1261191234434216
         ],
         [
          "Mk1D78ip",
          50.126074,
          53.187828,
          -1.1693392203789554
         ],
         [
          "jvXZ5BfY",
          56.08017,
          54.772889,
          -0.4778176694104163
         ],
         [
          "QUpF6MWF",
          30.481682,
          59.907082,
          0.6459048509134596
         ],
         [
          "ZDyDKUmb",
          49.112998,
          55.779996,
          0.6459048509134596
         ],
         [
          "4LvQzaA9",
          49.056271,
          55.819045,
          0.1920938330903559
         ],
         [
          "3uG2b8Ye",
          50.263857,
          53.218848,
          2.634029309948009
         ],
         [
          "NTjDKBtL",
          92.865583,
          56.009936,
          -0.30493728166828155
         ],
         [
          "3bqwQXqD",
          49.09329,
          55.821254,
          0.12726368768705534
         ],
         [
          "cTNjjItI",
          29.957916,
          60.093366,
          0.7755651417200607
         ],
         [
          "BSuZvUqW",
          30.348816,
          59.915002,
          0.8187852386555944
         ],
         [
          "lkWtEXwO",
          37.493066,
          55.839565,
          1.0781058202687963
         ],
         [
          "zT71jR4g",
          37.599148,
          55.583953,
          1.3806464988175324
         ],
         [
          "VdNzagUv",
          37.678141,
          55.789394,
          1.2509862080109313
         ],
         [
          "v46TS3KT",
          30.309722,
          59.966484,
          1.1213259172043302
         ],
         [
          "EYeTJlnp",
          37.653334,
          55.856351,
          0.04082349381598799
         ],
         [
          "Sz1ye8MD",
          37.593725,
          55.752097,
          0.4298043662357912
         ],
         [
          "X7Sv7X4f",
          29.894139000000006,
          59.881795,
          0.6891249478489934
         ],
         [
          "UT4p9zvj",
          37.659371,
          55.776859,
          -0.4345975724748826
         ],
         [
          "2UlFF5pG",
          60.61326700000001,
          56.899749,
          -0.6939181540880848
         ],
         [
          "P2LhIYVH",
          50.123711,
          53.192857,
          0.9916656263977291
         ],
         [
          "2cU1Z8KM",
          92.798215,
          56.02265,
          -0.4345975724748826
         ],
         [
          "AnEwYKsf",
          60.636812,
          56.838125,
          -0.6939181540880848
         ],
         [
          "ibdAzVc5",
          30.387133,
          59.84902,
          -0.34815737860381524
         ],
         [
          "CCoMeGSq",
          60.56259300000001,
          56.816823,
          -0.3913774755393489
         ],
         [
          "rhifIvhc",
          37.366207,
          55.644661,
          1.034885723333263
         ],
         [
          "n59CZdDP",
          37.579529,
          55.80754200000001,
          -0.34815737860381524
         ],
         [
          "aWMomlO7",
          49.118586,
          55.82957800000001,
          0.34336417236472383
         ],
         [
          "DcWDQ5JC",
          37.515103,
          55.805803,
          0.5594646570423922
         ],
         [
          "ny5swWUO",
          49.186229,
          55.803373,
          -0.4345975724748826
         ],
         [
          "s8LhdRDp",
          37.723067,
          55.782563,
          -0.26171718473274785
         ],
         [
          "Tw1Svbiw",
          49.080358,
          55.834436,
          -0.08883679699061309
         ],
         [
          "49RGSbXb",
          39.762138,
          47.232181,
          0.3001440754291901
         ],
         [
          "kcPx2crY",
          56.075499,
          54.81708,
          -1.212559317314489
         ],
         [
          "BpoVvgKO",
          37.46445,
          55.80951,
          -0.650698057152551
         ],
         [
          "QX4SAYI9",
          30.247937,
          59.858688,
          -1.234169365782256
         ],
         [
          "5UKRuSA9",
          37.576824,
          55.838028,
          2.850129794625678
         ],
         [
          "vC4Bp1jb",
          30.261134,
          59.86786800000001,
          -0.6074779602170174
         ],
         [
          "5jpPGoo6",
          37.517761,
          55.524437,
          -0.5858679117492506
         ],
         [
          "bW2iNSMp",
          82.934565,
          55.105544,
          0.3865842693002575
         ],
         [
          "xyt6yjVS",
          30.321087,
          60.01664,
          -0.8667985418302195
         ],
         [
          "2jNsxoXl",
          37.52512700000001,
          55.64366800000001,
          -0.3913774755393489
         ],
         [
          "Ccqm3lC6",
          50.262682,
          53.220259,
          3.1094503762388803
         ],
         [
          "CyYLUxCj",
          30.298369,
          59.906747,
          -0.7803583479591522
         ],
         [
          "Bq2RhWh4",
          43.866774,
          56.348392,
          -0.6074779602170174
         ],
         [
          "9RYHfP3m",
          37.38073,
          55.766712,
          -0.4778176694104163
         ],
         [
          "9RIuAGT0",
          92.973036,
          56.053322,
          0.7755651417200607
         ],
         [
          "5WiIuenb",
          37.625792,
          55.726877,
          0.5810747055101592
         ],
         [
          "UvSdh5eX",
          30.354624,
          59.852172,
          -0.34815737860381524
         ],
         [
          "0yC9gVuF",
          37.795349,
          55.759304,
          -1.082899026507888
         ],
         [
          "5RDhXAew",
          37.589706,
          55.749205,
          -0.26171718473274785
         ],
         [
          "GT8iSIX9",
          39.62951500000001,
          47.208802,
          0.3001440754291901
         ],
         [
          "WOc5pt6d",
          30.24412,
          60.022004,
          0.06243354228375483
         ],
         [
          "nGW7MYJ2",
          49.14667,
          55.82634,
          -0.34815737860381524
         ],
         [
          "eAjJXePD",
          55.881095,
          54.790184,
          0.8620053355911281
         ],
         [
          "xG1TJsxS",
          30.349039,
          59.94257800000001,
          0.12726368768705534
         ],
         [
          "BS42UrdB",
          37.601719,
          55.61170300000001,
          0.25692397849365645
         ],
         [
          "myPybSTm",
          50.18180200000001,
          53.212513,
          -0.34815737860381524
         ],
         [
          "dv6A4N9j",
          37.41172,
          55.647053,
          2.2450484375282063
         ],
         [
          "PlRVd2q7",
          30.349681,
          59.832909,
          -1.1693392203789554
         ],
         [
          "K3gR6qAk",
          49.233274,
          55.763478000000006,
          -1.082899026507888
         ],
         [
          "n7SOrDDm",
          82.92201700000003,
          55.04399300000001,
          0.21370388155812275
         ],
         [
          "Z3zfHcbJ",
          60.505569,
          56.823455,
          -0.6074779602170174
         ],
         [
          "gJTsNAnJ",
          30.379346,
          59.870262,
          -1.0396789295723543
         ],
         [
          "kMeJWHoE",
          37.67892,
          55.78856999999999,
          -0.4778176694104163
         ],
         [
          "jHHBbyj3",
          30.320997,
          59.92681999999999,
          -0.30493728166828155
         ],
         [
          "Up3Qbuvy",
          37.474799,
          55.72790500000001,
          0.5162445601068586
         ],
         [
          "zqxBvgo3",
          37.602418,
          55.689662,
          0.4730244631713249
         ],
         [
          "omENfbNH",
          37.305857,
          55.485758,
          0.8620053355911281
         ],
         [
          "ALeY6VVA",
          39.710881,
          47.249843,
          -0.17527699086168047
         ],
         [
          "2CRYkkg6",
          30.315542,
          60.016896,
          -0.5642578632814836
         ],
         [
          "ujHS8P2G",
          43.821958,
          56.365498,
          -0.650698057152551
         ],
         [
          "du4QcmQO",
          37.61114,
          55.72961,
          -0.52103776634595
         ],
         [
          "bBxa5jY2",
          50.148747,
          53.217111,
          -0.4778176694104163
         ],
         [
          "A2xt33Am",
          39.717178,
          47.281294,
          -0.6939181540880848
         ],
         [
          "xN7TAdHL",
          82.93639399999998,
          55.066218000000006,
          -0.650698057152551
         ],
         [
          "qbrgrMBr",
          49.149344,
          55.784486,
          -1.1261191234434216
         ],
         [
          "VVoIWaCa",
          82.90992800000002,
          54.936865,
          -0.9964588326368206
         ],
         [
          "sMvuaVtL",
          50.22169,
          53.24867,
          0.9484455294621956
         ],
         [
          "XFkAf5M7",
          37.492272,
          55.793785,
          0.732345044784527
         ],
         [
          "sZIU9J2S",
          82.896969,
          54.980785,
          -0.8235784448946858
         ],
         [
          "ck6UZCBf",
          37.765282,
          55.677014,
          0.8620053355911281
         ],
         [
          "mj6Q5LGP",
          30.145125,
          59.835831000000006,
          -0.3913774755393489
         ],
         [
          "SXJSzE6M",
          39.690447,
          47.260108,
          0.3001440754291901
         ],
         [
          "NlhU5eaH",
          30.322345,
          59.84855200000001,
          0.25692397849365645
         ],
         [
          "5LuJwOiM",
          30.400448,
          60.01090600000001,
          -0.26171718473274785
         ],
         [
          "oVyZAtf8",
          82.853025,
          54.96611600000001,
          -0.3265473301360484
         ],
         [
          "Zg57ss59",
          49.192958,
          55.744566000000006,
          -0.5642578632814836
         ],
         [
          "c0UVFgm4",
          37.608376,
          55.640498,
          -0.7371382510236184
         ],
         [
          "y3wFGx0E",
          49.093419,
          55.821846,
          -0.650698057152551
         ],
         [
          "cmCo8uJn",
          82.897109,
          54.98322,
          -0.650698057152551
         ],
         [
          "w8zOhAG6",
          30.410413,
          59.92854300000001,
          -0.8235784448946858
         ],
         [
          "6Ujlr2LT",
          37.599224,
          55.594651,
          -0.4345975724748826
         ],
         [
          "NF33CYqv",
          92.855412,
          56.014191,
          -0.8667985418302195
         ],
         [
          "nFBsJ5k3",
          55.958351,
          54.736872,
          -0.34815737860381524
         ],
         [
          "vohBRdK6",
          44.027034,
          56.319444,
          -0.8235784448946858
         ],
         [
          "jyqrl6X7",
          37.577366,
          55.81933100000001,
          0.21370388155812275
         ],
         [
          "tkDyf0LP",
          50.173675,
          53.14038000000001,
          1.5967469834952008
         ],
         [
          "HccXdHMK",
          92.907574,
          56.032916,
          0.17048378462258906
         ],
         [
          "3Ix3aKz2",
          37.605122,
          55.864849,
          -0.8235784448946858
         ],
         [
          "xiF41hyd",
          30.256958,
          59.989944,
          0.4730244631713249
         ],
         [
          "t0UxAofh",
          43.92821,
          56.28733199999999,
          -0.002396603119545705
         ],
         [
          "hufqRDv4",
          30.395038,
          60.013018,
          0.3001440754291901
         ],
         [
          "V0ApRZJb",
          30.296672,
          60.003612,
          1.3806464988175324
         ],
         [
          "y7s9SVJ9",
          92.904517,
          56.051203,
          -0.650698057152551
         ],
         [
          "jEMylCQY",
          82.961076,
          55.104069,
          -0.4345975724748826
         ],
         [
          "TgeoTj5W",
          30.437617,
          59.933032,
          -0.17527699086168047
         ],
         [
          "oVuxDTxV",
          37.749337,
          55.788125,
          -0.6074779602170174
         ],
         [
          "LwZsJ4Cy",
          50.190391,
          53.191808,
          0.9052254325266618
         ],
         [
          "P9mGf44m",
          92.913763,
          56.042136,
          -0.34815737860381524
         ],
         [
          "5Hm5PVsi",
          37.618848,
          55.80346899999999,
          0.08404359075152168
         ],
         [
          "AG9avE8M",
          43.951477,
          56.235105,
          -0.34815737860381524
         ],
         [
          "ib3vdw9y",
          60.611964,
          56.807141,
          1.4670866926885997
         ],
         [
          "PSh4SCru",
          60.605429,
          56.857019,
          -0.6939181540880848
         ],
         [
          "YscCLNMq",
          49.187244,
          55.75346800000001,
          -0.002396603119545705
         ],
         [
          "LxMbcr8a",
          30.317729,
          59.91588100000001,
          0.4298043662357912
         ],
         [
          "P96LMIRr",
          44.076675,
          56.306448,
          -0.34815737860381524
         ],
         [
          "yQpPc4NY",
          50.305359,
          53.325718,
          0.34336417236472383
         ],
         [
          "bwIuFswf",
          55.947783,
          54.725857,
          -0.52103776634595
         ],
         [
          "ueXw8anZ",
          37.478132,
          55.854933,
          3.0662302793033462
         ],
         [
          "b00YAzxr",
          37.481371,
          55.663201,
          3.3255508609165485
         ],
         [
          "uewNqxcJ",
          30.482577000000006,
          59.908258,
          -1.1693392203789554
         ],
         [
          "rkhUhnnc",
          30.622015,
          59.73877099999999,
          -0.650698057152551
         ],
         [
          "y5XqCNW4",
          92.854072,
          55.977808,
          -0.17527699086168047
         ],
         [
          "ZopCnYnF",
          49.231841,
          55.755079,
          0.8187852386555944
         ],
         [
          "uReBoRP9",
          37.656393,
          55.636821,
          -0.3913774755393489
         ],
         [
          "tbmL4C5J",
          37.602891,
          55.765829,
          -0.21849708779721416
         ],
         [
          "J4kyyZ66",
          60.701356,
          56.754564,
          -0.9100186387657532
         ],
         [
          "6oJCNSPc",
          43.956056,
          56.338797,
          -0.1968870393294473
         ],
         [
          "uFWtwbd5",
          39.713683,
          47.249262,
          0.3001440754291901
         ],
         [
          "VtQVSJDn",
          37.767349,
          55.705907,
          1.034885723333263
         ],
         [
          "zynEGrYK",
          82.914099,
          55.059654,
          1.294206304946465
         ],
         [
          "padKVxZ1",
          82.905185,
          54.989033,
          1.164546014139864
         ],
         [
          "hHKAMvaG",
          30.369312,
          60.008665,
          -0.26171718473274785
         ],
         [
          "9vpi0zuV",
          93.023803,
          55.997114,
          -0.4778176694104163
         ],
         [
          "A4nv1Vap",
          49.100728,
          55.860342,
          0.21370388155812275
         ],
         [
          "aooa1N95",
          50.238669,
          53.251547,
          0.04082349381598799
         ],
         [
          "cI5aMfP5",
          37.174766,
          55.981852,
          -0.06722674852284624
         ],
         [
          "Z3IaIqhp",
          60.613168,
          56.769296,
          0.04082349381598799
         ],
         [
          "4nCrGS4K",
          30.443873,
          59.87619300000001,
          -0.08883679699061309
         ],
         [
          "TPU9VeHE",
          56.05836899999999,
          54.771233,
          -1.3638296565888568
         ],
         [
          "Ha4y1r9O",
          30.355111,
          59.957185,
          -0.002396603119545705
         ],
         [
          "iL9SqqPf",
          56.12386400000001,
          54.779754,
          -0.7803583479591522
         ],
         [
          "XRbToMaK",
          50.27099000000001,
          53.275607,
          0.9484455294621956
         ],
         [
          "1QF1l1v9",
          37.642141,
          55.704974,
          0.3865842693002575
         ],
         [
          "hhQwsdq2",
          82.952805,
          55.013374,
          1.164546014139864
         ],
         [
          "3JMyNJ5Q",
          30.297659000000003,
          59.98641600000001,
          -0.30493728166828155
         ],
         [
          "DvEZb53r",
          30.610533,
          59.74071,
          -1.212559317314489
         ],
         [
          "95UFIIsM",
          37.70708,
          55.747424,
          -0.0456167000550794
         ],
         [
          "O1UQUy36",
          39.713982,
          47.294783,
          -0.17527699086168047
         ],
         [
          "zg9Rqx6j",
          37.78377800000001,
          55.751043,
          0.5162445601068586
         ],
         [
          "b3PCdEll",
          50.2764,
          53.233532,
          2.5043690191414085
         ],
         [
          "59UjpU7q",
          37.823358,
          55.82249300000001,
          0.8187852386555944
         ],
         [
          "CEBFrSa4",
          50.0882,
          53.1224,
          5.7026561923709025
         ],
         [
          "OHty6LJP",
          37.543246,
          55.547845,
          0.732345044784527
         ],
         [
          "9F0eikRX",
          37.605029,
          55.883288,
          0.21370388155812275
         ],
         [
          "3mtxtQsE",
          49.179869,
          55.766359,
          -0.8235784448946858
         ],
         [
          "cj6KcHW8",
          55.99405600000001,
          54.69799,
          -0.002396603119545705
         ],
         [
          "x5YyYuwn",
          55.98732,
          54.741197,
          -0.650698057152551
         ],
         [
          "jg4KN4rk",
          92.886411,
          55.98669200000001,
          0.3001440754291901
         ],
         [
          "FKpC96cF",
          37.866307,
          55.743527,
          -0.6939181540880848
         ],
         [
          "XgLZQs6q",
          37.760289,
          55.67453,
          -0.26171718473274785
         ],
         [
          "o4icTq9v",
          60.600816,
          56.904251,
          -0.6939181540880848
         ],
         [
          "JPx1PvlT",
          37.799084,
          55.809132,
          0.4730244631713249
         ],
         [
          "8X4xMkKc",
          37.508122,
          55.743649,
          0.34336417236472383
         ],
         [
          "GSLqcJM1",
          37.4297,
          55.65875,
          0.8187852386555944
         ],
         [
          "YTZfRTZJ",
          37.623825,
          55.761544,
          0.8187852386555944
         ],
         [
          "9PoCNghL",
          37.633949,
          55.780203,
          0.17048378462258906
         ],
         [
          "i8jX5UZv",
          30.474390000000003,
          59.94595,
          -0.650698057152551
         ],
         [
          "Fl0Opd5w",
          30.326729,
          59.934583,
          0.17048378462258906
         ],
         [
          "1qYX1KZb",
          39.710018,
          47.220297,
          -1.0396789295723543
         ],
         [
          "w6RCwQrC",
          37.571561,
          55.503838,
          -0.52103776634595
         ],
         [
          "9IcvdlDF",
          56.131626,
          54.784094,
          -1.4286598019921577
         ],
         [
          "d8JVU4L3",
          37.360169,
          55.847572,
          -0.7803583479591522
         ],
         [
          "pmpDwkBu",
          60.64901999999999,
          56.788549,
          -1.3422196081210902
         ],
         [
          "UfEj63Mg",
          37.544665,
          55.86375200000001,
          0.6459048509134596
         ],
         [
          "HtEs9cWZ",
          37.622612,
          55.72933100000001,
          1.164546014139864
         ],
         [
          "IlEraymJ",
          37.675098,
          55.710535,
          -0.30493728166828155
         ],
         [
          "LyuFHuZx",
          30.384063,
          59.924416,
          -1.0396789295723543
         ],
         [
          "HAqT6xQb",
          37.719899,
          55.612726,
          3.152670473174413
         ],
         [
          "2EADrSl6",
          37.622022,
          55.684432,
          2.2018283405926726
         ],
         [
          "6GDLLbCh",
          37.759126,
          55.63894499999999,
          -0.650698057152551
         ],
         [
          "H1tR9t1s",
          50.2633,
          53.22044399999999,
          0.12726368768705534
         ],
         [
          "h6qIFhXA",
          93.010041,
          56.020784,
          0.9052254325266618
         ],
         [
          "zrqrRf0q",
          55.986665,
          54.718073,
          -0.650698057152551
         ],
         [
          "p4OinUCs",
          39.690907,
          47.218739,
          -0.9532387357012868
         ],
         [
          "ZEvDCFD6",
          37.56367,
          55.74434,
          0.9484455294621956
         ],
         [
          "HtGYnJHb",
          44.042485,
          56.296299,
          -0.34815737860381524
         ],
         [
          "8Kw8gqVd",
          30.359883,
          59.930514,
          2.417928825270341
         ],
         [
          "8xLLfRSF",
          43.88397,
          56.33959,
          -0.7803583479591522
         ],
         [
          "HmjxRHVs",
          60.62619399999999,
          56.79685500000001,
          -0.3913774755393489
         ],
         [
          "mn6nMLpV",
          56.03576999999999,
          54.757094,
          -0.7371382510236184
         ],
         [
          "I24gbq5p",
          43.947623,
          56.320338,
          0.17048378462258906
         ],
         [
          "MJFHjv6Q",
          49.019816,
          55.867687,
          0.17048378462258906
         ],
         [
          "ySZshzYS",
          55.999586,
          54.749739,
          0.9484455294621956
         ],
         [
          "tLuy6W1t",
          37.591484,
          55.707394,
          1.2509862080109313
         ],
         [
          "HuP6vu8Y",
          43.877078,
          56.261653,
          0.602684753977926
         ],
         [
          "4PiWRiJr",
          30.193401,
          59.852886,
          -0.650698057152551
         ],
         [
          "m41j6rrW",
          56.01000300000001,
          54.759041,
          -0.26171718473274785
         ],
         [
          "5z5VpTGn",
          92.881905,
          56.03873299999999,
          -0.8235784448946858
         ],
         [
          "DkEbcUGo",
          82.896401,
          55.03583,
          0.5162445601068586
         ],
         [
          "OrzylnCV",
          30.319964,
          59.86660799999999,
          -1.0396789295723543
         ],
         [
          "PxLPVy6I",
          37.572989,
          55.56719399999999,
          1.1213259172043302
         ],
         [
          "fP7JB9Qs",
          92.877984,
          56.01143,
          -0.9100186387657532
         ],
         [
          "LjxEMUOO",
          37.541447,
          55.65596600000001,
          -0.9532387357012868
         ],
         [
          "nJTccp1w",
          37.514509,
          55.744566000000006,
          -0.13205689392614678
         ],
         [
          "bNDUKJPE",
          37.60593,
          55.622604,
          0.25692397849365645
         ],
         [
          "HGHbCtK4",
          37.564184,
          55.67841600000001,
          0.7107349963167602
         ],
         [
          "9smvi5GH",
          43.990535,
          56.314677,
          -0.650698057152551
         ],
         [
          "esn300Zl",
          30.470336,
          59.865059,
          -0.3913774755393489
         ],
         [
          "7f8oLjIM",
          37.74381,
          55.802292,
          0.6459048509134596
         ],
         [
          "ydC9L7Y0",
          83.09449599999998,
          54.840236,
          -1.1693392203789554
         ],
         [
          "H8hoDXdE",
          83.002607,
          55.035543,
          1.4886967411563663
         ],
         [
          "b0sYQyFL",
          44.072992,
          56.2903,
          -0.17527699086168047
         ],
         [
          "v6Oi0Qqv",
          30.377473,
          59.829918000000006,
          0.4730244631713249
         ],
         [
          "JdwLeH2P",
          30.410802,
          59.928986,
          -0.9532387357012868
         ],
         [
          "2nZ3pCKA",
          37.595555,
          55.64750400000001,
          -0.30493728166828155
         ],
         [
          "vWhC4eBL",
          43.853857,
          56.22205500000001,
          -0.6939181540880848
         ],
         [
          "8KhPM0ol",
          30.234364000000006,
          59.949177,
          -1.2557794142500227
         ],
         [
          "Im4dPNQA",
          30.318236,
          59.81987,
          -0.9532387357012868
         ],
         [
          "59rpwZBk",
          92.8844,
          56.0343,
          -1.2557794142500227
         ],
         [
          "xyfgfTqy",
          50.218369,
          53.346634,
          1.683187177366268
         ],
         [
          "9hCdPw1R",
          39.61052100000001,
          47.23059600000001,
          -0.30493728166828155
         ],
         [
          "rWEmMwxi",
          30.439315,
          59.932347,
          -0.4778176694104163
         ],
         [
          "aYLir9h9",
          37.534028,
          55.693307,
          -0.7371382510236184
         ],
         [
          "KqXLlOgG",
          50.286374,
          53.29932,
          0.08404359075152168
         ],
         [
          "4sRLEOxj",
          37.606606,
          55.763435,
          -0.0456167000550794
         ],
         [
          "xNX8I5kF",
          43.868347,
          56.350323,
          1.5103067896241336
         ],
         [
          "PIdoZHEy",
          39.764188,
          47.242109,
          -0.34815737860381524
         ],
         [
          "yLT4AAE2",
          37.500057,
          55.697459,
          -0.5642578632814836
         ],
         [
          "FU4c6TNZ",
          43.85100900000001,
          56.250287,
          -0.7803583479591522
         ],
         [
          "HWurGKxG",
          37.174811,
          55.982678,
          -0.8667985418302195
         ],
         [
          "YhUH0AzP",
          37.564275,
          55.48530600000001,
          -0.9964588326368206
         ],
         [
          "8WSj3Gk6",
          37.66496400000001,
          55.67758900000001,
          1.3374264018819988
         ],
         [
          "FMPuwbsj",
          49.080848,
          55.82885,
          -1.2989995111855563
         ],
         [
          "ULMcd4UD",
          37.609398,
          55.724074,
          -0.3265473301360484
         ],
         [
          "t7pBweOS",
          82.912079,
          55.055885,
          -0.6939181540880848
         ],
         [
          "26faxJy5",
          30.330017,
          60.053615,
          -0.5642578632814836
         ],
         [
          "OCFXnfRX",
          37.434961,
          55.862827,
          -0.0456167000550794
         ],
         [
          "WriLsZWE",
          50.191899,
          53.191447,
          0.8187852386555944
         ],
         [
          "Uv0PuoVB",
          37.539124,
          55.890487,
          0.4298043662357912
         ],
         [
          "lvkMDIOb",
          39.628532,
          47.229281,
          0.08404359075152168
         ],
         [
          "HdHd7sSJ",
          60.598984,
          56.829098,
          -0.9532387357012868
         ],
         [
          "5xgQDtpq",
          30.317177,
          59.925389,
          -0.3913774755393489
         ],
         [
          "2TAJRlVf",
          30.323314,
          60.036664,
          0.34336417236472383
         ],
         [
          "GiIKvJL5",
          30.273976,
          59.900058,
          -0.17527699086168047
         ],
         [
          "kMEH7s7T",
          30.354079,
          59.987141,
          -0.13205689392614678
         ],
         [
          "5e7r5h7s",
          55.93131500000001,
          54.674806,
          -0.21849708779721416
         ],
         [
          "VPAKzSyv",
          37.738382,
          55.62140400000001,
          -0.13205689392614678
         ],
         [
          "agEDsbB4",
          37.743187,
          55.650691,
          -0.52103776634595
         ],
         [
          "1MZSTvdD",
          37.626744,
          55.664763,
          -0.4778176694104163
         ],
         [
          "tJMGAXxW",
          37.478967,
          55.705202,
          -0.5858679117492506
         ],
         [
          "YFVTWD12",
          37.79949600000001,
          55.809774,
          2.9797900854322785
         ],
         [
          "P6UqUJpJ",
          37.579044,
          55.569846,
          0.08404359075152168
         ],
         [
          "sniqNObc",
          60.549152,
          56.853301,
          0.3001440754291901
         ],
         [
          "nfG8rj1F",
          50.140492,
          53.20338100000001,
          0.7755651417200607
         ],
         [
          "i56AVrYY",
          37.49945,
          55.82018100000001,
          1.1213259172043302
         ],
         [
          "YV1fUOaw",
          37.588885,
          55.899252,
          -0.13205689392614678
         ],
         [
          "NS2HdU7x",
          37.566136,
          55.744381,
          1.164546014139864
         ],
         [
          "fPqxIVRl",
          37.492471,
          55.603912,
          0.12726368768705534
         ],
         [
          "nXLHbL6J",
          30.335177,
          60.058778,
          -0.3913774755393489
         ],
         [
          "bwmFXfeI",
          92.813971,
          56.014036,
          -0.13205689392614678
         ],
         [
          "P3zwA2PW",
          30.251162,
          59.84234100000001,
          -0.9532387357012868
         ],
         [
          "NbjUjYPI",
          30.347252,
          59.92864,
          -0.21849708779721416
         ],
         [
          "eLaYE4WM",
          82.890962,
          54.984,
          0.21370388155812275
         ],
         [
          "PPRBBVMW",
          30.205798,
          59.990782,
          -1.1693392203789554
         ],
         [
          "DSJ1FKTg",
          37.486238,
          55.839484,
          -0.002396603119545705
         ],
         [
          "zq24zBHA",
          82.899443,
          55.03455400000001,
          0.12726368768705534
         ],
         [
          "ojoSTUzr",
          37.552933,
          55.89761,
          -0.26171718473274785
         ],
         [
          "nIzdgNPW",
          30.323306,
          59.929001,
          -0.0456167000550794
         ],
         [
          "k9vFUEKA",
          37.636654,
          55.754287,
          0.3865842693002575
         ],
         [
          "avEOHzEY",
          30.42787,
          59.721488,
          0.12726368768705534
         ],
         [
          "plCkOHbN",
          37.199926,
          56.008615,
          -0.9100186387657532
         ],
         [
          "7KGXXWOd",
          50.248918,
          53.24535600000001,
          0.25692397849365645
         ],
         [
          "wlzvYVvr",
          60.545255,
          56.830029,
          -0.0456167000550794
         ],
         [
          "34hHszrj",
          37.529347,
          55.790882,
          3.152670473174413
         ],
         [
          "7hMTdDGt",
          37.469313,
          55.66425699999999,
          -0.6074779602170174
         ],
         [
          "6baGVy1n",
          49.109605,
          55.786663,
          0.34336417236472383
         ],
         [
          "7NWLRjS9",
          43.856974,
          56.259358,
          -0.08883679699061309
         ],
         [
          "IdMzYW0W",
          29.76554,
          59.99772,
          0.9484455294621956
         ],
         [
          "AODBmARj",
          37.660853,
          55.887902,
          -0.0456167000550794
         ],
         [
          "lFH5jSIm",
          39.830557,
          47.238839,
          1.7480173227695688
         ],
         [
          "HQWajdou",
          82.925985,
          55.014685,
          -0.26171718473274785
         ],
         [
          "vjPO8Pi1",
          37.49365,
          55.792989,
          -0.7371382510236184
         ],
         [
          "Wf730kFc",
          49.081689,
          55.828543,
          -0.34815737860381524
         ],
         [
          "2kUlAO0h",
          30.582934,
          59.740388,
          -1.0396789295723543
         ],
         [
          "mU5wwKjd",
          39.765401,
          47.254866,
          -1.1693392203789554
         ],
         [
          "te8dMz6Z",
          37.51644,
          55.77838000000001,
          2.007337904382771
         ],
         [
          "F9XOYlnb",
          49.212676,
          55.780841,
          -0.8235784448946858
         ],
         [
          "gTgKPP27",
          37.621543,
          55.754674,
          -0.9100186387657532
         ],
         [
          "ZyyHiNqb",
          30.3984,
          59.828011,
          -0.8235784448946858
         ],
         [
          "1TMXBgUM",
          37.606331,
          55.611795,
          1.985727855915004
         ],
         [
          "uZS0s98V",
          60.519689,
          56.79343000000001,
          1.164546014139864
         ],
         [
          "Hng1ty3A",
          37.734468,
          55.709798,
          0.7755651417200607
         ],
         [
          "QaQP4R7f",
          37.602885,
          55.596335,
          -0.30493728166828155
         ],
         [
          "AGA0LBwJ",
          37.621947,
          55.684503,
          0.06243354228375483
         ],
         [
          "gQlNWXf4",
          30.446878,
          59.912914,
          -0.52103776634595
         ],
         [
          "e6KI8WVh",
          37.664147,
          55.731865,
          0.25692397849365645
         ],
         [
          "AvrNG4Gf",
          49.184999,
          55.805235,
          -0.6074779602170174
         ],
         [
          "fmo3uo10",
          43.86499600000001,
          56.243009,
          -0.30493728166828155
         ],
         [
          "6zswhGTw",
          83.11036899999998,
          54.966571,
          -0.7803583479591522
         ],
         [
          "H8wtfc6G",
          37.508715,
          55.616981,
          0.12726368768705534
         ],
         [
          "oeiKBQIm",
          49.185044,
          55.76481999999999,
          -0.9100186387657532
         ],
         [
          "Eqhbo1u6",
          37.527942,
          55.69219399999999,
          -0.17527699086168047
         ],
         [
          "VXCpXVtO",
          37.732826,
          55.814578,
          -0.9964588326368206
         ],
         [
          "ruh50nWT",
          37.543237,
          55.547036,
          -0.30493728166828155
         ],
         [
          "fbHwWPwP",
          30.377937,
          59.82918000000001,
          -0.5858679117492506
         ],
         [
          "DZnacIGm",
          37.63531,
          55.731212,
          0.17048378462258906
         ],
         [
          "f9UjG9j3",
          37.603822,
          55.865025,
          -0.21849708779721416
         ],
         [
          "QapR03Z6",
          30.247469,
          59.843173,
          -0.7803583479591522
         ],
         [
          "6HXoX1HZ",
          92.949832,
          56.04668,
          -0.9532387357012868
         ],
         [
          "f2EweR1h",
          50.188938,
          53.19136999999999,
          0.3865842693002575
         ],
         [
          "bXtjCW9X",
          82.96786,
          55.05232700000001,
          -0.3913774755393489
         ],
         [
          "oWYaT4dK",
          30.320873,
          59.87869,
          0.04082349381598799
         ],
         [
          "LLvbayjS",
          37.576367,
          55.819034,
          -0.002396603119545705
         ],
         [
          "zYEPdy6c",
          82.97831,
          55.037668,
          -0.26171718473274785
         ],
         [
          "3VbIMBNL",
          37.75197,
          55.758819,
          0.34336417236472383
         ],
         [
          "YQ7ziyzt",
          39.715453,
          47.282521,
          -0.4345975724748826
         ],
         [
          "6FdFnHvc",
          56.034734,
          54.789618,
          0.12726368768705534
         ],
         [
          "q21AU0gF",
          37.818283,
          55.752683,
          0.9700555779299624
         ],
         [
          "msf1cbvr",
          37.749661,
          55.659647,
          0.17048378462258906
         ],
         [
          "oEOiQlpv",
          49.21689,
          55.76954,
          0.602684753977926
         ],
         [
          "zaG5km8I",
          39.756131,
          47.282688,
          -0.0456167000550794
         ],
         [
          "mZTEZ4bf",
          50.158969,
          53.197251,
          -0.26171718473274785
         ],
         [
          "6pVArqoM",
          29.777139,
          59.909612,
          -1.212559317314489
         ],
         [
          "Y5ARpcKu",
          30.162239000000003,
          59.807008,
          -1.1693392203789554
         ],
         [
          "2SKYY79M",
          50.246331,
          53.212183,
          3.239110667045481
         ],
         [
          "zzmWckqN",
          30.314963,
          60.047136,
          -0.9532387357012868
         ],
         [
          "ZfB8GmX1",
          50.188602,
          53.191244,
          0.17048378462258906
         ],
         [
          "TvWyQA6I",
          37.590986,
          55.73622,
          1.985727855915004
         ],
         [
          "wCIpiNOn",
          30.392071,
          59.858334,
          0.4730244631713249
         ],
         [
          "f0dnYtDK",
          56.083769,
          54.821122,
          -0.5642578632814836
         ],
         [
          "WC4LMU6t",
          30.414226,
          59.95951899999999,
          -0.650698057152551
         ],
         [
          "GVLixe1p",
          30.37021,
          59.883,
          -0.17527699086168047
         ],
         [
          "gy5R6Tzq",
          83.019867,
          55.00283,
          0.34336417236472383
         ],
         [
          "owoZjLcJ",
          37.629579,
          55.898768,
          -1.0396789295723543
         ],
         [
          "qsQAaylC",
          37.618947,
          55.73404,
          -0.3913774755393489
         ],
         [
          "bWXM7Z4I",
          60.65333100000001,
          56.85661,
          -0.6939181540880848
         ],
         [
          "xLWXr3Lf",
          37.73102100000001,
          55.729833,
          0.9484455294621956
         ],
         [
          "W9hpCveX",
          37.505948,
          55.675511,
          -0.4778176694104163
         ],
         [
          "ewJhpiY9",
          37.590618,
          55.79368100000001,
          7.215359585114582
         ],
         [
          "xsb5xUU4",
          60.537871,
          56.816863,
          -0.002396603119545705
         ],
         [
          "YD1XoHg9",
          60.5324,
          56.86539200000001,
          -0.4778176694104163
         ],
         [
          "fI0HvX5p",
          50.225666,
          53.25928100000001,
          0.3001440754291901
         ],
         [
          "YmlaZQRx",
          37.531968,
          55.801912,
          1.7696273712373356
         ],
         [
          "CxcTgNjn",
          37.660183,
          55.75524,
          0.5594646570423922
         ],
         [
          "3HhvDYQp",
          30.268333,
          59.850762,
          -0.30493728166828155
         ],
         [
          "ne5FR9fF",
          37.681473,
          55.717847,
          0.9484455294621956
         ],
         [
          "psQh5f3D",
          30.260932,
          59.867776,
          -0.3913774755393489
         ],
         [
          "nkt1PhrL",
          37.477381,
          55.85578,
          0.04082349381598799
         ],
         [
          "akTbRDfA",
          30.355126,
          59.921134,
          -0.26171718473274785
         ],
         [
          "tLinWS5n",
          30.391599,
          59.833301,
          -0.9100186387657532
         ],
         [
          "wG77qDMd",
          30.204863,
          59.83404,
          -0.26171718473274785
         ],
         [
          "JX7XV6mD",
          37.743868,
          55.613216,
          -0.7803583479591522
         ],
         [
          "jf7hZLjk",
          60.554713,
          56.869249,
          -0.6074779602170174
         ],
         [
          "6B6HHnCd",
          50.121798,
          53.187213,
          0.04082349381598799
         ],
         [
          "PUp3EyzF",
          37.664267,
          55.870102,
          -0.26171718473274785
         ],
         [
          "PJ5m7cqh",
          82.976488,
          55.056951,
          1.985727855915004
         ],
         [
          "YdPYoxfU",
          30.362055,
          59.931738,
          -0.7803583479591522
         ],
         [
          "AA8hN7bJ",
          37.628765,
          55.740664,
          0.21370388155812275
         ],
         [
          "uNw6t6xk",
          37.586825,
          55.794233,
          -0.002396603119545705
         ],
         [
          "Ap42ei8k",
          37.67879,
          55.77291,
          -0.9100186387657532
         ],
         [
          "rn9A8r62",
          37.75213,
          55.61964,
          -0.3265473301360484
         ],
         [
          "960M6jye",
          37.70577,
          55.78295,
          -1.234169365782256
         ]
        ],
        "index": [
         0,
         1,
         2,
         3,
         4,
         5,
         6,
         7,
         8,
         9,
         10,
         11,
         12,
         13,
         14,
         15,
         16,
         17,
         18,
         19,
         20,
         21,
         22,
         23,
         24,
         25,
         26,
         27,
         28,
         29,
         30,
         31,
         32,
         33,
         34,
         35,
         36,
         37,
         38,
         39,
         40,
         41,
         42,
         43,
         44,
         45,
         46,
         47,
         48,
         49,
         50,
         51,
         52,
         53,
         54,
         55,
         56,
         57,
         58,
         59,
         60,
         61,
         62,
         63,
         64,
         65,
         66,
         67,
         68,
         69,
         70,
         71,
         72,
         73,
         74,
         75,
         76,
         77,
         78,
         79,
         80,
         81,
         82,
         83,
         84,
         85,
         86,
         87,
         88,
         89,
         90,
         91,
         92,
         93,
         94,
         95,
         96,
         97,
         98,
         99,
         100,
         101,
         102,
         103,
         104,
         105,
         106,
         107,
         108,
         109,
         110,
         111,
         112,
         113,
         114,
         115,
         116,
         117,
         118,
         119,
         120,
         121,
         122,
         123,
         124,
         125,
         126,
         127,
         128,
         129,
         130,
         131,
         132,
         133,
         134,
         135,
         136,
         137,
         138,
         139,
         140,
         141,
         142,
         143,
         144,
         145,
         146,
         147,
         148,
         149,
         150,
         151,
         152,
         153,
         154,
         155,
         156,
         157,
         158,
         159,
         160,
         161,
         162,
         163,
         164,
         165,
         166,
         167,
         168,
         169,
         170,
         171,
         172,
         173,
         174,
         175,
         176,
         177,
         178,
         179,
         180,
         181,
         182,
         183,
         184,
         185,
         186,
         187,
         188,
         189,
         190,
         191,
         192,
         193,
         194,
         195,
         196,
         197,
         198,
         199,
         200,
         201,
         202,
         203,
         204,
         205,
         206,
         207,
         208,
         209,
         210,
         211,
         212,
         213,
         214,
         215,
         216,
         217,
         218,
         219,
         220,
         221,
         222,
         223,
         224,
         225,
         226,
         227,
         228,
         229,
         230,
         231,
         232,
         233,
         234,
         235,
         236,
         237,
         238,
         239,
         240,
         241,
         242,
         243,
         244,
         245,
         246,
         247,
         248,
         249,
         250,
         251,
         252,
         253,
         254,
         255,
         256,
         257,
         258,
         259,
         260,
         261,
         262,
         263,
         264,
         265,
         266,
         267,
         268,
         269,
         270,
         271,
         272,
         273,
         274,
         275,
         276,
         277,
         278,
         279,
         280,
         281,
         282,
         283,
         284,
         285,
         286,
         287,
         288,
         289,
         290,
         291,
         292,
         293,
         294,
         295,
         296,
         297,
         298,
         299,
         300,
         301,
         302,
         303,
         304,
         305,
         306,
         307,
         308,
         309,
         310,
         311,
         312,
         313,
         314,
         315,
         316,
         317,
         318,
         319,
         320,
         321,
         322,
         323,
         324,
         325,
         326,
         327,
         328,
         329,
         330,
         331,
         332,
         333,
         334,
         335,
         336,
         337,
         338,
         339,
         340,
         341,
         342,
         343,
         344,
         345,
         346,
         347,
         348,
         349,
         350,
         351,
         352,
         353,
         354,
         355,
         356,
         357,
         358,
         359,
         360,
         361,
         362,
         363,
         364,
         365,
         366,
         367,
         368,
         369,
         370,
         371,
         372,
         373,
         374,
         375,
         376,
         377,
         378,
         379,
         380,
         381,
         382,
         383,
         384,
         385,
         386,
         387,
         388,
         389,
         390,
         391,
         392,
         393,
         394,
         395,
         396,
         397,
         398,
         399,
         400,
         401,
         402,
         403,
         404,
         405,
         406,
         407,
         408,
         409,
         410,
         411,
         412,
         413,
         414,
         415,
         416,
         417,
         418,
         419,
         420,
         421,
         422,
         423,
         424
        ]
       }
      },
      "height": 400,
      "layout": "IPY_MODEL_6321e22b2f744977b38c3b6cd823aed3",
      "value": "Hello World!"
     }
    }
   }
  }
 },
 "nbformat": 4,
 "nbformat_minor": 1
}
