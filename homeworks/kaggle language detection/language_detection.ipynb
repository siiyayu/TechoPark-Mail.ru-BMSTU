{
 "cells": [
  {
   "cell_type": "markdown",
   "metadata": {
    "id": "z4qXfid05H8i",
    "toc": true
   },
   "source": [
    "<h1>Table of Contents<span class=\"tocSkip\"></span></h1>\n",
    "<div class=\"toc\"><ul class=\"toc-item\"><li><span><a href=\"#Exploratory-Data-Analysis-and-Metric\" data-toc-modified-id=\"Exploratory-Data-Analysis-and-Metric-1\"><span class=\"toc-item-num\">1&nbsp;&nbsp;</span>Exploratory Data Analysis and Metric</a></span></li><li><span><a href=\"#Model\" data-toc-modified-id=\"Model-2\"><span class=\"toc-item-num\">2&nbsp;&nbsp;</span>Model</a></span></li><li><span><a href=\"#Submit\" data-toc-modified-id=\"Submit-3\"><span class=\"toc-item-num\">3&nbsp;&nbsp;</span>Submit</a></span></li><li><span><a href=\"#Homework\" data-toc-modified-id=\"Homework-4\"><span class=\"toc-item-num\">4&nbsp;&nbsp;</span>Homework</a></span></li></ul></div>"
   ]
  },
  {
   "cell_type": "code",
   "execution_count": 8,
   "metadata": {
    "ExecuteTime": {
     "end_time": "2020-11-02T16:33:14.441587Z",
     "start_time": "2020-11-02T16:33:11.754975Z"
    },
    "id": "zKGUoaKM5H8j"
   },
   "outputs": [],
   "source": [
    "import numpy as np\n",
    "import pandas as pd\n",
    "import matplotlib.pyplot as plt\n",
    "import re\n",
    "plt.style.use('ggplot')\n",
    "\n",
    "from sklearn.model_selection import train_test_split, GridSearchCV\n",
    "from sklearn.preprocessing  import LabelEncoder, OneHotEncoder\n",
    "from sklearn.feature_extraction.text import TfidfVectorizer\n",
    "from sklearn.linear_model import SGDClassifier\n",
    "from sklearn.pipeline import Pipeline\n",
    "from sklearn.metrics import balanced_accuracy_score\n",
    "from sklearn.ensemble import StackingClassifier, RandomForestClassifier\n",
    "from sklearn.svm import LinearSVC\n",
    "from sklearn.naive_bayes import MultinomialNB\n",
    "from sklearn.metrics import f1_score\n"
   ]
  },
  {
   "cell_type": "code",
   "execution_count": 2,
   "metadata": {
    "ExecuteTime": {
     "end_time": "2020-11-02T16:33:18.562804Z",
     "start_time": "2020-11-02T16:33:18.560434Z"
    },
    "id": "lrcg_NxN5H80"
   },
   "outputs": [],
   "source": [
    "SEED = 42"
   ]
  },
  {
   "cell_type": "markdown",
   "metadata": {
    "id": "S38ssuk45H9H"
   },
   "source": [
    "**[Kaggle InClass: Language Detection](https://www.kaggle.com/c/introml2020-3)**"
   ]
  },
  {
   "cell_type": "markdown",
   "metadata": {
    "ExecuteTime": {
     "end_time": "2020-10-30T12:22:00.913789Z",
     "start_time": "2020-10-30T12:22:00.909736Z"
    },
    "id": "Xz9ieska5H9I"
   },
   "source": [
    "# Exploratory Data Analysis and Metric"
   ]
  },
  {
   "cell_type": "code",
   "execution_count": 3,
   "metadata": {
    "ExecuteTime": {
     "end_time": "2020-11-02T16:33:40.445765Z",
     "start_time": "2020-11-02T16:33:23.606453Z"
    },
    "id": "plYYDjVa5H9J"
   },
   "outputs": [],
   "source": [
    "train_df = pd.read_csv('train.csv')\n",
    "test_df = pd.read_csv('test.csv')"
   ]
  },
  {
   "cell_type": "code",
   "execution_count": 4,
   "metadata": {
    "ExecuteTime": {
     "end_time": "2020-11-02T16:33:43.169067Z",
     "start_time": "2020-11-02T16:33:43.164005Z"
    },
    "id": "Z0ZardgR5H9R"
   },
   "outputs": [
    {
     "data": {
      "text/plain": [
       "((3159633, 2), (2784634, 2))"
      ]
     },
     "execution_count": 4,
     "metadata": {},
     "output_type": "execute_result"
    }
   ],
   "source": [
    "train_df.shape, test_df.shape"
   ]
  },
  {
   "cell_type": "code",
   "execution_count": 5,
   "metadata": {
    "ExecuteTime": {
     "end_time": "2020-11-02T16:33:44.060705Z",
     "start_time": "2020-11-02T16:33:44.047083Z"
    },
    "id": "AMVTSaSp5H9W"
   },
   "outputs": [
    {
     "data": {
      "text/html": [
       "<div>\n",
       "<style scoped>\n",
       "    .dataframe tbody tr th:only-of-type {\n",
       "        vertical-align: middle;\n",
       "    }\n",
       "\n",
       "    .dataframe tbody tr th {\n",
       "        vertical-align: top;\n",
       "    }\n",
       "\n",
       "    .dataframe thead th {\n",
       "        text-align: right;\n",
       "    }\n",
       "</style>\n",
       "<table border=\"1\" class=\"dataframe\">\n",
       "  <thead>\n",
       "    <tr style=\"text-align: right;\">\n",
       "      <th></th>\n",
       "      <th>sentence</th>\n",
       "      <th>language</th>\n",
       "    </tr>\n",
       "  </thead>\n",
       "  <tbody>\n",
       "    <tr>\n",
       "      <th>0</th>\n",
       "      <td>Pensez à la communication , le discours , les ...</td>\n",
       "      <td>fr</td>\n",
       "    </tr>\n",
       "    <tr>\n",
       "      <th>1</th>\n",
       "      <td>Můžete si ji pronajmout , vzít na splátky , ko...</td>\n",
       "      <td>cs</td>\n",
       "    </tr>\n",
       "    <tr>\n",
       "      <th>2</th>\n",
       "      <td>Každý starosta pochopil , že když mají tyto fo...</td>\n",
       "      <td>cs</td>\n",
       "    </tr>\n",
       "    <tr>\n",
       "      <th>3</th>\n",
       "      <td>Det är ytterligare bevis , men ändå — Jag krit...</td>\n",
       "      <td>sv</td>\n",
       "    </tr>\n",
       "    <tr>\n",
       "      <th>4</th>\n",
       "      <td>كان الأمر لا يصدق .</td>\n",
       "      <td>ar</td>\n",
       "    </tr>\n",
       "    <tr>\n",
       "      <th>5</th>\n",
       "      <td>Na primjer , pjesnik ga opisuje ovako .</td>\n",
       "      <td>hr</td>\n",
       "    </tr>\n",
       "    <tr>\n",
       "      <th>6</th>\n",
       "      <td>Semua rerumputan itu sekarang menutupi tanah s...</td>\n",
       "      <td>id</td>\n",
       "    </tr>\n",
       "    <tr>\n",
       "      <th>7</th>\n",
       "      <td>Det är en enorm utmaning för oss att göra det .</td>\n",
       "      <td>sv</td>\n",
       "    </tr>\n",
       "    <tr>\n",
       "      <th>8</th>\n",
       "      <td>Ono što ćete vidjeti - trebat ćete skočiti ovd...</td>\n",
       "      <td>hr</td>\n",
       "    </tr>\n",
       "    <tr>\n",
       "      <th>9</th>\n",
       "      <td>( Alqışlar ) Excel-dən istifadə etmişəm .</td>\n",
       "      <td>az</td>\n",
       "    </tr>\n",
       "    <tr>\n",
       "      <th>10</th>\n",
       "      <td>После увольнения я решил собрать своих друзей ...</td>\n",
       "      <td>ru</td>\n",
       "    </tr>\n",
       "    <tr>\n",
       "      <th>11</th>\n",
       "      <td>יכולתי בקלות למצוא את עצמי שם או ברחוב .</td>\n",
       "      <td>he</td>\n",
       "    </tr>\n",
       "    <tr>\n",
       "      <th>12</th>\n",
       "      <td>この過去の遺産と決別することが これまで以上に急務です 互いを深く隔てる社会的不平等を終わら...</td>\n",
       "      <td>ja</td>\n",
       "    </tr>\n",
       "    <tr>\n",
       "      <th>13</th>\n",
       "      <td>Ты знаешь , что это не гнев заставил моё сердц...</td>\n",
       "      <td>ru</td>\n",
       "    </tr>\n",
       "    <tr>\n",
       "      <th>14</th>\n",
       "      <td>Wie gehen wir so etwas also an ?</td>\n",
       "      <td>de</td>\n",
       "    </tr>\n",
       "  </tbody>\n",
       "</table>\n",
       "</div>"
      ],
      "text/plain": [
       "                                             sentence language\n",
       "0   Pensez à la communication , le discours , les ...       fr\n",
       "1   Můžete si ji pronajmout , vzít na splátky , ko...       cs\n",
       "2   Každý starosta pochopil , že když mají tyto fo...       cs\n",
       "3   Det är ytterligare bevis , men ändå — Jag krit...       sv\n",
       "4                                 كان الأمر لا يصدق .       ar\n",
       "5             Na primjer , pjesnik ga opisuje ovako .       hr\n",
       "6   Semua rerumputan itu sekarang menutupi tanah s...       id\n",
       "7     Det är en enorm utmaning för oss att göra det .       sv\n",
       "8   Ono što ćete vidjeti - trebat ćete skočiti ovd...       hr\n",
       "9           ( Alqışlar ) Excel-dən istifadə etmişəm .       az\n",
       "10  После увольнения я решил собрать своих друзей ...       ru\n",
       "11           יכולתי בקלות למצוא את עצמי שם או ברחוב .       he\n",
       "12  この過去の遺産と決別することが これまで以上に急務です 互いを深く隔てる社会的不平等を終わら...       ja\n",
       "13  Ты знаешь , что это не гнев заставил моё сердц...       ru\n",
       "14                   Wie gehen wir so etwas also an ?       de"
      ]
     },
     "execution_count": 5,
     "metadata": {},
     "output_type": "execute_result"
    }
   ],
   "source": [
    "train_df.head(15)"
   ]
  },
  {
   "cell_type": "code",
   "execution_count": 6,
   "metadata": {
    "ExecuteTime": {
     "end_time": "2020-11-02T16:33:46.575260Z",
     "start_time": "2020-11-02T16:33:46.285985Z"
    },
    "id": "DyRSD7io5H9b"
   },
   "outputs": [
    {
     "data": {
      "text/html": [
       "<div>\n",
       "<style scoped>\n",
       "    .dataframe tbody tr th:only-of-type {\n",
       "        vertical-align: middle;\n",
       "    }\n",
       "\n",
       "    .dataframe tbody tr th {\n",
       "        vertical-align: top;\n",
       "    }\n",
       "\n",
       "    .dataframe thead th {\n",
       "        text-align: right;\n",
       "    }\n",
       "</style>\n",
       "<table border=\"1\" class=\"dataframe\">\n",
       "  <thead>\n",
       "    <tr style=\"text-align: right;\">\n",
       "      <th></th>\n",
       "      <th>index</th>\n",
       "      <th>language</th>\n",
       "    </tr>\n",
       "  </thead>\n",
       "  <tbody>\n",
       "    <tr>\n",
       "      <th>0</th>\n",
       "      <td>ru</td>\n",
       "      <td>181970</td>\n",
       "    </tr>\n",
       "    <tr>\n",
       "      <th>1</th>\n",
       "      <td>en</td>\n",
       "      <td>157655</td>\n",
       "    </tr>\n",
       "    <tr>\n",
       "      <th>2</th>\n",
       "      <td>fr</td>\n",
       "      <td>148585</td>\n",
       "    </tr>\n",
       "    <tr>\n",
       "      <th>3</th>\n",
       "      <td>vi</td>\n",
       "      <td>113193</td>\n",
       "    </tr>\n",
       "    <tr>\n",
       "      <th>4</th>\n",
       "      <td>ar</td>\n",
       "      <td>110032</td>\n",
       "    </tr>\n",
       "  </tbody>\n",
       "</table>\n",
       "</div>"
      ],
      "text/plain": [
       "  index  language\n",
       "0    ru    181970\n",
       "1    en    157655\n",
       "2    fr    148585\n",
       "3    vi    113193\n",
       "4    ar    110032"
      ]
     },
     "execution_count": 6,
     "metadata": {},
     "output_type": "execute_result"
    }
   ],
   "source": [
    "lang_count = (\n",
    "    train_df.language.value_counts()\n",
    "    .to_frame()\n",
    "    .reset_index()\n",
    ")\n",
    "\n",
    "lang_count.head()"
   ]
  },
  {
   "cell_type": "code",
   "execution_count": 7,
   "metadata": {
    "ExecuteTime": {
     "end_time": "2020-11-02T16:33:52.339161Z",
     "start_time": "2020-11-02T16:33:51.481475Z"
    },
    "id": "fcFtDgCy5H9i"
   },
   "outputs": [
    {
     "data": {
      "image/png": "[encoded data removed]",
      "text/plain": [
       "<Figure size 576x1800 with 1 Axes>"
      ]
     },
     "metadata": {},
     "output_type": "display_data"
    }
   ],
   "source": [
    "fig, ax = plt.subplots(figsize=(8,25))\n",
    "\n",
    "ax.barh(lang_count['index'], lang_count['language'])\n",
    "ax.invert_yaxis();"
   ]
  },
  {
   "cell_type": "code",
   "execution_count": 8,
   "metadata": {
    "ExecuteTime": {
     "end_time": "2020-11-02T16:34:02.411549Z",
     "start_time": "2020-11-02T16:34:02.401279Z"
    },
    "id": "eKFULCy35H9m"
   },
   "outputs": [
    {
     "data": {
      "text/html": [
       "<div>\n",
       "<style scoped>\n",
       "    .dataframe tbody tr th:only-of-type {\n",
       "        vertical-align: middle;\n",
       "    }\n",
       "\n",
       "    .dataframe tbody tr th {\n",
       "        vertical-align: top;\n",
       "    }\n",
       "\n",
       "    .dataframe thead th {\n",
       "        text-align: right;\n",
       "    }\n",
       "</style>\n",
       "<table border=\"1\" class=\"dataframe\">\n",
       "  <thead>\n",
       "    <tr style=\"text-align: right;\">\n",
       "      <th></th>\n",
       "      <th>index</th>\n",
       "      <th>language</th>\n",
       "    </tr>\n",
       "  </thead>\n",
       "  <tbody>\n",
       "    <tr>\n",
       "      <th>1</th>\n",
       "      <td>en</td>\n",
       "      <td>157655</td>\n",
       "    </tr>\n",
       "    <tr>\n",
       "      <th>58</th>\n",
       "      <td>kk</td>\n",
       "      <td>2046</td>\n",
       "    </tr>\n",
       "  </tbody>\n",
       "</table>\n",
       "</div>"
      ],
      "text/plain": [
       "   index  language\n",
       "1     en    157655\n",
       "58    kk      2046"
      ]
     },
     "execution_count": 8,
     "metadata": {},
     "output_type": "execute_result"
    }
   ],
   "source": [
    "lang_count[lang_count['index'].apply(lambda x: x in {\"en\", \"kk\"})]"
   ]
  },
  {
   "cell_type": "markdown",
   "metadata": {
    "id": "xvCM5Dw-5H9t"
   },
   "source": [
    "Датасет сильно не сбалансирован по классам, а требуется хорошее качество для всех языков, поэтому метрика в данном соревновании — взвешенная доля правильных ответов:\n",
    "\n",
    "$$ \n",
    "\\text{WeightedAccuracy}\\left(y, \\hat{y}, w\\right) = \\frac{\\displaystyle{\\sum_{i=1}^{n}} w_i \\cdot \\left(y_i == \\hat{y}_i\\right)}{\\displaystyle\\sum_{i=1}^{n} w_i } \n",
    "$$\n",
    "\n",
    "Веса выбирались обратно пропорционально количеству примеров соответствующего языка:\n",
    "$$\n",
    "w\\left(\\text{\"en\"}\\right) \\sim \\frac{1}{157655}\n",
    "$$\n",
    "$$ \\dots $$\n",
    "$$\n",
    "w\\left(\\text{\"kk\"}\\right) \\sim \\frac{1}{2046}\n",
    "$$\n",
    "\n",
    "Поэтому для валидации можно использовать [sklearn.metrics.balanced_accuracy_score](https://scikit-learn.org/stable/modules/model_evaluation.html#balanced-accuracy-score)"
   ]
  },
  {
   "cell_type": "markdown",
   "metadata": {
    "id": "dDg8sNuC5H9v"
   },
   "source": [
    "# Model"
   ]
  },
  {
   "cell_type": "code",
   "execution_count": 17,
   "metadata": {
    "ExecuteTime": {
     "end_time": "2020-11-02T16:34:28.973940Z",
     "start_time": "2020-11-02T16:34:26.730083Z"
    },
    "id": "5iJJsfRM5H9v"
   },
   "outputs": [],
   "source": [
    "x = train_df.values[:1500000,  0]\n",
    "label_encoder = LabelEncoder().fit(train_df.values[:, 1])\n",
    "y = label_encoder.transform(train_df.values[:1500000, 1])\n",
    "\n",
    "x_train, x_test, y_train, y_test = train_test_split(x, y, test_size=0.2, random_state=SEED)"
   ]
  },
  {
   "cell_type": "code",
   "execution_count": 12,
   "metadata": {
    "ExecuteTime": {
     "end_time": "2020-11-02T16:34:33.239320Z",
     "start_time": "2020-11-02T16:34:33.219760Z"
    },
    "id": "lLjxnq115H9z"
   },
   "outputs": [],
   "source": [
    "pipe = Pipeline([\n",
    "    ('vectorizer', TfidfVectorizer(analyzer='char', lowercase=True, min_df=2, max_df=0.8, ngram_range=(2, 3))),\n",
    "    ('clf', SGDClassifier(random_state=SEED, loss='log', n_jobs=-1))\n",
    "])"
   ]
  },
  {
   "cell_type": "code",
   "execution_count": 19,
   "metadata": {},
   "outputs": [],
   "source": [
    "params = {'vectorizer__ngram_range': [(1, 1), (1, 2), (2, 3), (3, 3), (3, 4)]}"
   ]
  },
  {
   "cell_type": "code",
   "execution_count": 20,
   "metadata": {},
   "outputs": [],
   "source": [
    "gs_pipeline = GridSearchCV(pipe, params, cv=3, n_jobs=-1)"
   ]
  },
  {
   "cell_type": "code",
   "execution_count": 21,
   "metadata": {},
   "outputs": [
    {
     "data": {
      "text/plain": [
       "GridSearchCV(cv=3,\n",
       "             estimator=Pipeline(steps=[('vectorizer',\n",
       "                                        TfidfVectorizer(analyzer='char',\n",
       "                                                        max_df=0.8, min_df=2)),\n",
       "                                       ('model',\n",
       "                                        SGDClassifier(loss='log', n_jobs=-1,\n",
       "                                                      random_state=42))]),\n",
       "             n_jobs=-1,\n",
       "             param_grid={'vectorizer__ngram_range': [(1, 1), (1, 2), (2, 3),\n",
       "                                                     (3, 3), (3, 4)]})"
      ]
     },
     "execution_count": 21,
     "metadata": {},
     "output_type": "execute_result"
    }
   ],
   "source": [
    "gs_pipeline.fit(x_train, y_train)"
   ]
  },
  {
   "cell_type": "code",
   "execution_count": 23,
   "metadata": {},
   "outputs": [
    {
     "data": {
      "text/plain": [
       "{'vectorizer__ngram_range': (2, 3)}"
      ]
     },
     "execution_count": 23,
     "metadata": {},
     "output_type": "execute_result"
    }
   ],
   "source": [
    "gs_pipeline.best_params_"
   ]
  },
  {
   "cell_type": "code",
   "execution_count": 24,
   "metadata": {},
   "outputs": [
    {
     "data": {
      "text/plain": [
       "{'mean_fit_time': array([ 432.88693897,  990.14605165, 1721.36972864, 1053.25591938,\n",
       "        1866.5380923 ]),\n",
       " 'std_fit_time': array([ 1.16713152, 55.31672804, 88.64523305, 44.40849622, 56.46678688]),\n",
       " 'mean_score_time': array([ 73.02564772, 319.33223128, 607.11599549, 258.61421569,\n",
       "        367.49372697]),\n",
       " 'std_score_time': array([  1.68469495,  28.66323711,  50.47713829,  40.97999433,\n",
       "        203.07534679]),\n",
       " 'param_vectorizer__ngram_range': masked_array(data=[(1, 1), (1, 2), (2, 3), (3, 3), (3, 4)],\n",
       "              mask=[False, False, False, False, False],\n",
       "        fill_value='?',\n",
       "             dtype=object),\n",
       " 'params': [{'vectorizer__ngram_range': (1, 1)},\n",
       "  {'vectorizer__ngram_range': (1, 2)},\n",
       "  {'vectorizer__ngram_range': (2, 3)},\n",
       "  {'vectorizer__ngram_range': (3, 3)},\n",
       "  {'vectorizer__ngram_range': (3, 4)}],\n",
       " 'split0_test_score': array([0.85968  , 0.909955 , 0.9095375, 0.886335 , 0.87506  ]),\n",
       " 'split1_test_score': array([0.8593175, 0.909585 , 0.9101125, 0.8871025, 0.8756225]),\n",
       " 'split2_test_score': array([0.85925  , 0.9091425, 0.909265 , 0.8861475, 0.8749475]),\n",
       " 'mean_test_score': array([0.85941583, 0.90956083, 0.90963833, 0.88652833, 0.87521   ]),\n",
       " 'std_test_score': array([0.00018882, 0.00033214, 0.00035326, 0.00041315, 0.00029528]),\n",
       " 'rank_test_score': array([5, 2, 1, 3, 4], dtype=int32)}"
      ]
     },
     "execution_count": 24,
     "metadata": {},
     "output_type": "execute_result"
    }
   ],
   "source": [
    "gs_pipeline.cv_results_"
   ]
  },
  {
   "cell_type": "code",
   "execution_count": 7,
   "metadata": {},
   "outputs": [],
   "source": [
    "x = train_df.values[:,  0]\n",
    "label_encoder = LabelEncoder().fit(train_df.values[:, 1])\n",
    "y = label_encoder.transform(train_df.values[:, 1])\n",
    "\n",
    "x_train, x_test, y_train, y_test = train_test_split(x, y, test_size=0.2, random_state=SEED)"
   ]
  },
  {
   "cell_type": "code",
   "execution_count": 8,
   "metadata": {},
   "outputs": [],
   "source": [
    "vectorizer = TfidfVectorizer(analyzer='char', lowercase=True, min_df=2, max_df=0.8, ngram_range=(2, 3))"
   ]
  },
  {
   "cell_type": "code",
   "execution_count": 9,
   "metadata": {},
   "outputs": [],
   "source": [
    "x_train = vectorizer.fit_transform(x_train)"
   ]
  },
  {
   "cell_type": "code",
   "execution_count": 10,
   "metadata": {},
   "outputs": [],
   "source": [
    "x_test = vectorizer.transform(x_test)"
   ]
  },
  {
   "cell_type": "code",
   "execution_count": 11,
   "metadata": {},
   "outputs": [],
   "source": [
    "# from scipy import sparse\n",
    "\n",
    "# sparse.save_npz(\"x_train.npz\", x_train)\n",
    "# sparse.save_npz(\"x_test.npz\", x_test)\n",
    "\n",
    "# # x_train = sparse.load_npz(\"x_train.npz\")"
   ]
  },
  {
   "cell_type": "code",
   "execution_count": 12,
   "metadata": {},
   "outputs": [],
   "source": [
    "one_hot_encoder = OneHotEncoder().fit(np.expand_dims(y_train, axis=1))\n",
    "y_train_one_hot = one_hot_encoder.transform(np.expand_dims(y_train, axis=1))"
   ]
  },
  {
   "cell_type": "code",
   "execution_count": 17,
   "metadata": {},
   "outputs": [],
   "source": [
    "svc = LinearSVC(max_iter=2000)"
   ]
  },
  {
   "cell_type": "code",
   "execution_count": 18,
   "metadata": {},
   "outputs": [],
   "source": [
    "svc_gs =  GridSearchCV(svc, {'C': [0.1, 0.5, 1]}, scoring='f1', cv=3, n_jobs=-1)"
   ]
  },
  {
   "cell_type": "code",
   "execution_count": null,
   "metadata": {},
   "outputs": [],
   "source": [
    "svc_gs.fit(x_train, y_train_one_hot)"
   ]
  },
  {
   "cell_type": "code",
   "execution_count": null,
   "metadata": {},
   "outputs": [],
   "source": [
    "balanced_accuracy_score(y_train, svc_gs.best_estimator_.predict(x_train))"
   ]
  },
  {
   "cell_type": "code",
   "execution_count": null,
   "metadata": {},
   "outputs": [],
   "source": [
    "balanced_accuracy_score(y_test, svc_gs.best_estimator_.predict(x_test))"
   ]
  },
  {
   "cell_type": "code",
   "execution_count": null,
   "metadata": {},
   "outputs": [],
   "source": [
    "svc_gs.best_params_"
   ]
  },
  {
   "cell_type": "code",
   "execution_count": null,
   "metadata": {},
   "outputs": [],
   "source": []
  },
  {
   "cell_type": "code",
   "execution_count": null,
   "metadata": {},
   "outputs": [],
   "source": []
  },
  {
   "cell_type": "code",
   "execution_count": 4,
   "metadata": {},
   "outputs": [],
   "source": [
    "#submition"
   ]
  },
  {
   "cell_type": "code",
   "execution_count": 6,
   "metadata": {},
   "outputs": [],
   "source": [
    "train_df = train_df[train_df['sentence'] != '-']"
   ]
  },
  {
   "cell_type": "code",
   "execution_count": 9,
   "metadata": {},
   "outputs": [
    {
     "data": {
      "text/plain": [
       "0    Pensez à la communication  le discours  les ge...\n",
       "1    Můžete si ji pronajmout  vzít na splátky  koup...\n",
       "2    Každý starosta pochopil  že když mají tyto for...\n",
       "3    Det är ytterligare bevis  men ändå  Jag kritis...\n",
       "4                                    كان الأمر لا يصدق\n",
       "5                 Na primjer  pjesnik ga opisuje ovako\n",
       "6    Semua rerumputan itu sekarang menutupi tanah s...\n",
       "7        Det är en enorm utmaning för oss att göra det\n",
       "8    Ono što ćete vidjeti  trebat ćete skočiti ovdj...\n",
       "9                  Alqışlar  Exceldən istifadə etmişəm\n",
       "Name: sentence, dtype: object"
      ]
     },
     "execution_count": 9,
     "metadata": {},
     "output_type": "execute_result"
    }
   ],
   "source": [
    "test_df['sentence'] = test_df['sentence'].apply(lambda sentence: \"\".join(re.sub(r'[^\\w\\s]+|[\\d]+', r'', sentence).strip()))\n",
    "train_df['sentence'] = train_df['sentence'].apply(lambda sentence: \"\".join(re.sub(r'[^\\w\\s]+|[\\d]+', r'', sentence).strip()))\n",
    "train_df['sentence'].head(10)"
   ]
  },
  {
   "cell_type": "code",
   "execution_count": 10,
   "metadata": {},
   "outputs": [],
   "source": [
    "x_train = train_df.values[:,  0]\n",
    "label_encoder = LabelEncoder().fit(train_df.values[:, 1])\n",
    "y_train = label_encoder.transform(train_df.values[:, 1])"
   ]
  },
  {
   "cell_type": "code",
   "execution_count": 11,
   "metadata": {},
   "outputs": [],
   "source": [
    "vectorizer = TfidfVectorizer(analyzer='char', lowercase=True, min_df=4, max_df=0.8, ngram_range=(2, 3))"
   ]
  },
  {
   "cell_type": "code",
   "execution_count": 12,
   "metadata": {},
   "outputs": [],
   "source": [
    "x_train = vectorizer.fit_transform(x_train)"
   ]
  },
  {
   "cell_type": "code",
   "execution_count": 13,
   "metadata": {},
   "outputs": [],
   "source": [
    "x_test = test_df.values[:,  1]\n",
    "x_test = vectorizer.transform(x_test)"
   ]
  },
  {
   "cell_type": "code",
   "execution_count": 14,
   "metadata": {},
   "outputs": [],
   "source": [
    "sgd = SGDClassifier(random_state=SEED, class_weight='balanced', loss='log', n_jobs=-1)"
   ]
  },
  {
   "cell_type": "code",
   "execution_count": 15,
   "metadata": {},
   "outputs": [
    {
     "data": {
      "text/plain": [
       "SGDClassifier(class_weight='balanced', loss='log', n_jobs=-1, random_state=42)"
      ]
     },
     "execution_count": 15,
     "metadata": {},
     "output_type": "execute_result"
    }
   ],
   "source": [
    "sgd.fit(x_train, y_train)"
   ]
  },
  {
   "cell_type": "code",
   "execution_count": 16,
   "metadata": {},
   "outputs": [],
   "source": [
    "########"
   ]
  },
  {
   "cell_type": "code",
   "execution_count": null,
   "metadata": {},
   "outputs": [],
   "source": [
    "estimators = [\n",
    "     ('rf', RandomForestClassifier(n_estimators=100, max_features='sqrt', n_jobs=-1, verbose=True, class_weight='balanced')),\n",
    "     ('svc', LinearSVC()),\n",
    "     ('mnb', MultinomialNB()),\n",
    "     ('logreg', LogisticRegression( n_jobs=-1))\n",
    "]"
   ]
  },
  {
   "cell_type": "code",
   "execution_count": null,
   "metadata": {},
   "outputs": [],
   "source": [
    "clf = StackingClassifier(n_jobs=-1, estimators=estimators, final_estimator=XGBClassifier(learning_rate=0.1, n_estimators=50, n_jobs=-1), cv=3)"
   ]
  },
  {
   "cell_type": "code",
   "execution_count": null,
   "metadata": {},
   "outputs": [],
   "source": [
    "parameters = {\n",
    "              'n_estimators': [10, 50, 70, 100]\n",
    "}\n",
    "gs_pipeline = GridSearchCV(clf, parameters, cv=3)"
   ]
  },
  {
   "cell_type": "code",
   "execution_count": null,
   "metadata": {},
   "outputs": [],
   "source": []
  },
  {
   "cell_type": "markdown",
   "metadata": {
    "id": "CJpOt8Tq5H-M"
   },
   "source": [
    "# Submit"
   ]
  },
  {
   "cell_type": "code",
   "execution_count": 17,
   "metadata": {
    "ExecuteTime": {
     "end_time": "2020-11-02T17:08:53.605097Z",
     "start_time": "2020-11-02T17:01:37.409400Z"
    },
    "id": "fSdaHXkd5H-O"
   },
   "outputs": [],
   "source": [
    "submit_predictions = sgd.predict(x_test)"
   ]
  },
  {
   "cell_type": "code",
   "execution_count": 18,
   "metadata": {
    "ExecuteTime": {
     "end_time": "2020-11-02T17:19:48.552352Z",
     "start_time": "2020-11-02T17:19:47.893856Z"
    },
    "id": "q1E7u7Zp5H-R"
   },
   "outputs": [
    {
     "data": {
      "text/html": [
       "<div>\n",
       "<style scoped>\n",
       "    .dataframe tbody tr th:only-of-type {\n",
       "        vertical-align: middle;\n",
       "    }\n",
       "\n",
       "    .dataframe tbody tr th {\n",
       "        vertical-align: top;\n",
       "    }\n",
       "\n",
       "    .dataframe thead th {\n",
       "        text-align: right;\n",
       "    }\n",
       "</style>\n",
       "<table border=\"1\" class=\"dataframe\">\n",
       "  <thead>\n",
       "    <tr style=\"text-align: right;\">\n",
       "      <th></th>\n",
       "      <th>index</th>\n",
       "      <th>sentence</th>\n",
       "      <th>language</th>\n",
       "    </tr>\n",
       "  </thead>\n",
       "  <tbody>\n",
       "    <tr>\n",
       "      <th>0</th>\n",
       "      <td>0</td>\n",
       "      <td>תודה לכם</td>\n",
       "      <td>he</td>\n",
       "    </tr>\n",
       "    <tr>\n",
       "      <th>1</th>\n",
       "      <td>1</td>\n",
       "      <td>Precisamos de compaixão para começar  e autoin...</td>\n",
       "      <td>pt-br</td>\n",
       "    </tr>\n",
       "    <tr>\n",
       "      <th>2</th>\n",
       "      <td>2</td>\n",
       "      <td>這個增長相當大  並且它將引發經濟的增長</td>\n",
       "      <td>zh-tw</td>\n",
       "    </tr>\n",
       "    <tr>\n",
       "      <th>3</th>\n",
       "      <td>3</td>\n",
       "      <td>시애틀에서 자란 제가 처음 가난을 보게 되던 때를 기억해요</td>\n",
       "      <td>ko</td>\n",
       "    </tr>\n",
       "    <tr>\n",
       "      <th>4</th>\n",
       "      <td>4</td>\n",
       "      <td>これをロボットに組み込みました</td>\n",
       "      <td>ja</td>\n",
       "    </tr>\n",
       "  </tbody>\n",
       "</table>\n",
       "</div>"
      ],
      "text/plain": [
       "   index                                           sentence language\n",
       "0      0                                           תודה לכם       he\n",
       "1      1  Precisamos de compaixão para começar  e autoin...    pt-br\n",
       "2      2                               這個增長相當大  並且它將引發經濟的增長    zh-tw\n",
       "3      3                   시애틀에서 자란 제가 처음 가난을 보게 되던 때를 기억해요       ko\n",
       "4      4                                    これをロボットに組み込みました       ja"
      ]
     },
     "execution_count": 18,
     "metadata": {},
     "output_type": "execute_result"
    }
   ],
   "source": [
    "test_df['language'] = label_encoder.classes_[submit_predictions]\n",
    "\n",
    "test_df.head()"
   ]
  },
  {
   "cell_type": "code",
   "execution_count": 19,
   "metadata": {
    "ExecuteTime": {
     "end_time": "2020-11-02T17:20:19.971011Z",
     "start_time": "2020-11-02T17:19:57.206165Z"
    },
    "id": "_DjjGI225H-U"
   },
   "outputs": [],
   "source": [
    "(\n",
    "    test_df[['index',  'language']]\n",
    "    .to_csv('sample_submission.csv', index=False)\n",
    ")"
   ]
  },
  {
   "cell_type": "code",
   "execution_count": 20,
   "metadata": {
    "ExecuteTime": {
     "end_time": "2020-11-02T17:20:23.355594Z",
     "start_time": "2020-11-02T17:20:23.102693Z"
    },
    "id": "WE4Kte4E5H-Y"
   },
   "outputs": [
    {
     "name": "stdout",
     "output_type": "stream",
     "text": [
      "head: .csv: No such file or directory\n"
     ]
    }
   ],
   "source": [
    "!head $sample_submission.csv"
   ]
  }
 ],
 "metadata": {
  "colab": {
   "name": "language_detection.ipynb",
   "provenance": []
  },
  "kernelspec": {
   "display_name": "Python 3",
   "language": "python",
   "name": "python3"
  },
  "language_info": {
   "codemirror_mode": {
    "name": "ipython",
    "version": 3
   },
   "file_extension": ".py",
   "mimetype": "text/x-python",
   "name": "python",
   "nbconvert_exporter": "python",
   "pygments_lexer": "ipython3",
   "version": "3.7.7"
  },
  "toc": {
   "base_numbering": 1,
   "nav_menu": {},
   "number_sections": true,
   "sideBar": true,
   "skip_h1_title": false,
   "title_cell": "Table of Contents",
   "title_sidebar": "Contents",
   "toc_cell": true,
   "toc_position": {},
   "toc_section_display": true,
   "toc_window_display": false
  }
 },
 "nbformat": 4,
 "nbformat_minor": 4
}
