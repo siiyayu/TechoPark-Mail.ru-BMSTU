{
 "cells": [
  {
   "cell_type": "code",
   "execution_count": 1,
   "metadata": {
    "colab": {
     "base_uri": "https://localhost:8080/"
    },
    "id": "RumFnRay9oEM",
    "outputId": "735a796b-db0a-4d2c-c50a-08544f90cf58"
   },
   "outputs": [
    {
     "name": "stdout",
     "output_type": "stream",
     "text": [
      "Collecting pyspark\n",
      "\u001b[?25l  Downloading https://files.pythonhosted.org/packages/f0/26/198fc8c0b98580f617cb03cb298c6056587b8f0447e20fa40c5b634ced77/pyspark-3.0.1.tar.gz (204.2MB)\n",
      "\u001b[K     |████████████████████████████████| 204.2MB 64kB/s \n",
      "\u001b[?25hCollecting py4j==0.10.9\n",
      "\u001b[?25l  Downloading https://files.pythonhosted.org/packages/9e/b6/6a4fb90cd235dc8e265a6a2067f2a2c99f0d91787f06aca4bcf7c23f3f80/py4j-0.10.9-py2.py3-none-any.whl (198kB)\n",
      "\u001b[K     |████████████████████████████████| 204kB 46.4MB/s \n",
      "\u001b[?25hBuilding wheels for collected packages: pyspark\n",
      "  Building wheel for pyspark (setup.py) ... \u001b[?25l\u001b[?25hdone\n",
      "  Created wheel for pyspark: filename=pyspark-3.0.1-py2.py3-none-any.whl size=204612242 sha256=363b6c1f741c04ba0b2169e21a14e7ef05a416fd6ff07e65a68e4916c736cc6e\n",
      "  Stored in directory: /root/.cache/pip/wheels/5e/bd/07/031766ca628adec8435bb40f0bd83bb676ce65ff4007f8e73f\n",
      "Successfully built pyspark\n",
      "Installing collected packages: py4j, pyspark\n",
      "Successfully installed py4j-0.10.9 pyspark-3.0.1\n",
      "The following additional packages will be installed:\n",
      "  openjdk-8-jre-headless\n",
      "Suggested packages:\n",
      "  openjdk-8-demo openjdk-8-source libnss-mdns fonts-dejavu-extra\n",
      "  fonts-ipafont-gothic fonts-ipafont-mincho fonts-wqy-microhei\n",
      "  fonts-wqy-zenhei fonts-indic\n",
      "The following NEW packages will be installed:\n",
      "  openjdk-8-jdk-headless openjdk-8-jre-headless\n",
      "0 upgraded, 2 newly installed, 0 to remove and 14 not upgraded.\n",
      "Need to get 36.5 MB of archives.\n",
      "After this operation, 143 MB of additional disk space will be used.\n",
      "Selecting previously unselected package openjdk-8-jre-headless:amd64.\n",
      "(Reading database ... 144865 files and directories currently installed.)\n",
      "Preparing to unpack .../openjdk-8-jre-headless_8u275-b01-0ubuntu1~18.04_amd64.deb ...\n",
      "Unpacking openjdk-8-jre-headless:amd64 (8u275-b01-0ubuntu1~18.04) ...\n",
      "Selecting previously unselected package openjdk-8-jdk-headless:amd64.\n",
      "Preparing to unpack .../openjdk-8-jdk-headless_8u275-b01-0ubuntu1~18.04_amd64.deb ...\n",
      "Unpacking openjdk-8-jdk-headless:amd64 (8u275-b01-0ubuntu1~18.04) ...\n",
      "Setting up openjdk-8-jre-headless:amd64 (8u275-b01-0ubuntu1~18.04) ...\n",
      "update-alternatives: using /usr/lib/jvm/java-8-openjdk-amd64/jre/bin/orbd to provide /usr/bin/orbd (orbd) in auto mode\n",
      "update-alternatives: using /usr/lib/jvm/java-8-openjdk-amd64/jre/bin/servertool to provide /usr/bin/servertool (servertool) in auto mode\n",
      "update-alternatives: using /usr/lib/jvm/java-8-openjdk-amd64/jre/bin/tnameserv to provide /usr/bin/tnameserv (tnameserv) in auto mode\n",
      "Setting up openjdk-8-jdk-headless:amd64 (8u275-b01-0ubuntu1~18.04) ...\n",
      "update-alternatives: using /usr/lib/jvm/java-8-openjdk-amd64/bin/idlj to provide /usr/bin/idlj (idlj) in auto mode\n",
      "update-alternatives: using /usr/lib/jvm/java-8-openjdk-amd64/bin/wsimport to provide /usr/bin/wsimport (wsimport) in auto mode\n",
      "update-alternatives: using /usr/lib/jvm/java-8-openjdk-amd64/bin/jsadebugd to provide /usr/bin/jsadebugd (jsadebugd) in auto mode\n",
      "update-alternatives: using /usr/lib/jvm/java-8-openjdk-amd64/bin/native2ascii to provide /usr/bin/native2ascii (native2ascii) in auto mode\n",
      "update-alternatives: using /usr/lib/jvm/java-8-openjdk-amd64/bin/javah to provide /usr/bin/javah (javah) in auto mode\n",
      "update-alternatives: using /usr/lib/jvm/java-8-openjdk-amd64/bin/clhsdb to provide /usr/bin/clhsdb (clhsdb) in auto mode\n",
      "update-alternatives: using /usr/lib/jvm/java-8-openjdk-amd64/bin/xjc to provide /usr/bin/xjc (xjc) in auto mode\n",
      "update-alternatives: using /usr/lib/jvm/java-8-openjdk-amd64/bin/hsdb to provide /usr/bin/hsdb (hsdb) in auto mode\n",
      "update-alternatives: using /usr/lib/jvm/java-8-openjdk-amd64/bin/schemagen to provide /usr/bin/schemagen (schemagen) in auto mode\n",
      "update-alternatives: using /usr/lib/jvm/java-8-openjdk-amd64/bin/extcheck to provide /usr/bin/extcheck (extcheck) in auto mode\n",
      "update-alternatives: using /usr/lib/jvm/java-8-openjdk-amd64/bin/jhat to provide /usr/bin/jhat (jhat) in auto mode\n",
      "update-alternatives: using /usr/lib/jvm/java-8-openjdk-amd64/bin/wsgen to provide /usr/bin/wsgen (wsgen) in auto mode\n"
     ]
    }
   ],
   "source": [
    "!pip install pyspark\n",
    "!pip install -U -q PyDrive\n",
    "!apt install openjdk-8-jdk-headless -qq\n",
    "import os\n",
    "os.environ[\"JAVA_HOME\"] = \"/usr/lib/jvm/java-8-openjdk-amd64\""
   ]
  },
  {
   "cell_type": "code",
   "execution_count": 2,
   "metadata": {
    "id": "68_AeFo49pEU"
   },
   "outputs": [],
   "source": [
    "from pydrive.auth import GoogleAuth\n",
    "from pydrive.drive import GoogleDrive\n",
    "from google.colab import auth\n",
    "from oauth2client.client import GoogleCredentials\n",
    "\n",
    "auth.authenticate_user()\n",
    "gauth = GoogleAuth()\n",
    "gauth.credentials = GoogleCredentials.get_application_default()\n",
    "drive = GoogleDrive(gauth)"
   ]
  },
  {
   "cell_type": "code",
   "execution_count": 3,
   "metadata": {
    "id": "ftRUvQn89-yC"
   },
   "outputs": [],
   "source": [
    "id='1f_9EbnywCj35EBUA32sueigxBjBJwALr'\n",
    "downloaded = drive.CreateFile({'id': id})\n",
    "downloaded.GetContentFile('War and Peace by Leo Tolstoy (ru).txt')"
   ]
  },
  {
   "cell_type": "code",
   "execution_count": 4,
   "metadata": {
    "id": "LpR8DQxm-IRN"
   },
   "outputs": [],
   "source": [
    "import pandas as pd\n",
    "\n",
    "import pyspark\n",
    "from pyspark.sql import *\n",
    "from pyspark.sql.functions import *\n",
    "from pyspark import SparkContext, SparkConf"
   ]
  },
  {
   "cell_type": "code",
   "execution_count": 5,
   "metadata": {
    "id": "w6qPAe12-Q19"
   },
   "outputs": [],
   "source": [
    "conf = SparkConf().set(\"spark.ui.port\", \"4050\")\n",
    "\n",
    "sc = pyspark.SparkContext(conf=conf)\n",
    "spark = SparkSession.builder.getOrCreate()"
   ]
  },
  {
   "cell_type": "code",
   "execution_count": 6,
   "metadata": {
    "colab": {
     "base_uri": "https://localhost:8080/",
     "height": 219
    },
    "id": "2E-RdW9y-U1o",
    "outputId": "0c27b3c1-9e9b-4977-d44f-013d9c8112cf"
   },
   "outputs": [
    {
     "data": {
      "text/html": [
       "\n",
       "            <div>\n",
       "                <p><b>SparkSession - in-memory</b></p>\n",
       "                \n",
       "        <div>\n",
       "            <p><b>SparkContext</b></p>\n",
       "\n",
       "            <p><a href=\"http://ddd48a28c0d0:4050\">Spark UI</a></p>\n",
       "\n",
       "            <dl>\n",
       "              <dt>Version</dt>\n",
       "                <dd><code>v3.0.1</code></dd>\n",
       "              <dt>Master</dt>\n",
       "                <dd><code>local[*]</code></dd>\n",
       "              <dt>AppName</dt>\n",
       "                <dd><code>pyspark-shell</code></dd>\n",
       "            </dl>\n",
       "        </div>\n",
       "        \n",
       "            </div>\n",
       "        "
      ],
      "text/plain": [
       "<pyspark.sql.session.SparkSession at 0x7f75f3d3ceb8>"
      ]
     },
     "execution_count": 6,
     "metadata": {
      "tags": []
     },
     "output_type": "execute_result"
    }
   ],
   "source": [
    "spark"
   ]
  },
  {
   "cell_type": "code",
   "execution_count": 8,
   "metadata": {
    "colab": {
     "base_uri": "https://localhost:8080/"
    },
    "id": "T6LU3RGy-Yag",
    "outputId": "b1b63c5a-d064-48dd-d8f7-1b1d07f81d75"
   },
   "outputs": [
    {
     "name": "stdout",
     "output_type": "stream",
     "text": [
      "--2020-12-20 20:45:56--  https://bin.equinox.io/c/4VmDzA7iaHb/ngrok-stable-linux-amd64.zip\n",
      "Resolving bin.equinox.io (bin.equinox.io)... 54.198.148.204, 52.44.17.83, 35.174.46.144, ...\n",
      "Connecting to bin.equinox.io (bin.equinox.io)|54.198.148.204|:443... connected.\n",
      "HTTP request sent, awaiting response... 200 OK\n",
      "Length: 13773305 (13M) [application/octet-stream]\n",
      "Saving to: ‘ngrok-stable-linux-amd64.zip.1’\n",
      "\n",
      "ngrok-stable-linux- 100%[===================>]  13.13M  59.2MB/s    in 0.2s    \n",
      "\n",
      "2020-12-20 20:45:57 (59.2 MB/s) - ‘ngrok-stable-linux-amd64.zip.1’ saved [13773305/13773305]\n",
      "\n",
      "Archive:  ngrok-stable-linux-amd64.zip\n",
      "replace ngrok? [y]es, [n]o, [A]ll, [N]one, [r]ename: y\n",
      "  inflating: ngrok                   \n",
      "http://7e6991f45c9f.ngrok.io\n"
     ]
    }
   ],
   "source": [
    "!wget https://bin.equinox.io/c/4VmDzA7iaHb/ngrok-stable-linux-amd64.zip\n",
    "!unzip ngrok-stable-linux-amd64.zip\n",
    "get_ipython().system_raw('./ngrok http 4050 &')\n",
    "!curl -s http://localhost:4040/api/tunnels | python3 -c \\\n",
    "    \"import sys, json; print(json.load(sys.stdin)['tunnels'][0]['public_url'])\""
   ]
  },
  {
   "cell_type": "markdown",
   "metadata": {
    "id": "bgte5waWKrpd"
   },
   "source": [
    "Подсчитай кол-во слов в документе \"War and Peace by Leo Tolstoy (ru).txt\""
   ]
  },
  {
   "cell_type": "code",
   "execution_count": 9,
   "metadata": {
    "id": "y-7ZgdUaedeq"
   },
   "outputs": [],
   "source": [
    "from pyspark.sql import SparkSession\n",
    "import chardet\n",
    "\n",
    "ss = SparkSession(sc)"
   ]
  },
  {
   "cell_type": "code",
   "execution_count": 10,
   "metadata": {
    "id": "kj2szydiON__"
   },
   "outputs": [],
   "source": [
    "with open('War and Peace by Leo Tolstoy (ru).txt', 'rb') as f:\n",
    "    result = chardet.detect(f.read())\n",
    "\n",
    "encoding = result['encoding']"
   ]
  },
  {
   "cell_type": "code",
   "execution_count": 11,
   "metadata": {
    "id": "F7AYXXsTKqjm"
   },
   "outputs": [],
   "source": [
    "# код\n",
    "War_and_Peace = ss.read.csv(\"War and Peace by Leo Tolstoy (ru).txt\", sep='\\n', encoding=encoding)"
   ]
  },
  {
   "cell_type": "code",
   "execution_count": 12,
   "metadata": {
    "id": "Zvty_qxbYyuw"
   },
   "outputs": [],
   "source": [
    "pattern_punct = '[\\d!@\"“’«»#$%&\\'()*+,.—\\–/:;<=>?^_`{|}~\\[\\]]'\n",
    "War_and_Peace = War_and_Peace.withColumn('cleaned', regexp_replace('_c0', pattern_punct, ''))"
   ]
  },
  {
   "cell_type": "code",
   "execution_count": 13,
   "metadata": {
    "colab": {
     "base_uri": "https://localhost:8080/"
    },
    "id": "-Gpm_15_Yyz6",
    "outputId": "3a7d3233-7198-434b-b356-d9e441af7b46"
   },
   "outputs": [
    {
     "name": "stdout",
     "output_type": "stream",
     "text": [
      "+--------------------+--------------------+\n",
      "|                 _c0|             cleaned|\n",
      "+--------------------+--------------------+\n",
      "|Война и мир. Книга 1|  Война и мир Книга |\n",
      "|Лев Николаевич То...|Лев Николаевич То...|\n",
      "|      Война и мир #1|        Война и мир |\n",
      "|В книгу вошли пер...|В книгу вошли пер...|\n",
      "|          Том первый|          Том первый|\n",
      "|        Часть первая|        Часть первая|\n",
      "|                   I|                   I|\n",
      "|– Eh bien, mon pr...| Eh bien mon prin...|\n",
      "|Так говорила в ию...|Так говорила в ию...|\n",
      "|«Si vous n’avez r...|Si vous navez rie...|\n",
      "|– Dieu, quelle vi...| Dieu quelle viru...|\n",
      "|Он говорил на том...|Он говорил на том...|\n",
      "|– Avant tout dite...| Avant tout dites...|\n",
      "|– Как можно быть ...| Как можно быть з...|\n",
      "|– А праздник англ...| А праздник англи...|\n",
      "|– Я думала, что н...| Я думала что нын...|\n",
      "|– Ежели бы знали,...| Ежели бы знали ч...|\n",
      "|– Ne me tourmente...| Ne me tourmentez...|\n",
      "|– Как вам сказать...| Как вам сказать ...|\n",
      "|Князь Василий гов...|Князь Василий гов...|\n",
      "+--------------------+--------------------+\n",
      "only showing top 20 rows\n",
      "\n"
     ]
    }
   ],
   "source": [
    "War_and_Peace.show()"
   ]
  },
  {
   "cell_type": "code",
   "execution_count": 14,
   "metadata": {
    "id": "j_Cw8qMHYy2r"
   },
   "outputs": [],
   "source": [
    "from pyspark.ml.feature import RegexTokenizer\n",
    "regexTokenizer = RegexTokenizer(inputCol=\"cleaned\", outputCol=\"tokens\", pattern=r\"\\s+\")\n",
    "War_and_Peace = regexTokenizer.transform(War_and_Peace)"
   ]
  },
  {
   "cell_type": "code",
   "execution_count": 15,
   "metadata": {
    "colab": {
     "base_uri": "https://localhost:8080/"
    },
    "id": "O8qldHWmPWH_",
    "outputId": "7ce485ae-ca9e-461f-f6d9-2a9daf7e63c7"
   },
   "outputs": [
    {
     "name": "stdout",
     "output_type": "stream",
     "text": [
      "+--------------------+--------------------+--------------------+\n",
      "|                 _c0|             cleaned|              tokens|\n",
      "+--------------------+--------------------+--------------------+\n",
      "|Война и мир. Книга 1|  Война и мир Книга |[война, и, мир, к...|\n",
      "|Лев Николаевич То...|Лев Николаевич То...|[лев, николаевич,...|\n",
      "|      Война и мир #1|        Война и мир |     [война, и, мир]|\n",
      "|В книгу вошли пер...|В книгу вошли пер...|[в, книгу, вошли,...|\n",
      "|          Том первый|          Том первый|       [том, первый]|\n",
      "|        Часть первая|        Часть первая|     [часть, первая]|\n",
      "|                   I|                   I|                 [i]|\n",
      "|– Eh bien, mon pr...| Eh bien mon prin...|[ eh, bien, mon, ...|\n",
      "|Так говорила в ию...|Так говорила в ию...|[так, говорила, в...|\n",
      "|«Si vous n’avez r...|Si vous navez rie...|[si, vous, navez,...|\n",
      "|– Dieu, quelle vi...| Dieu quelle viru...|[ dieu, quelle, v...|\n",
      "|Он говорил на том...|Он говорил на том...|[он, говорил, на,...|\n",
      "|– Avant tout dite...| Avant tout dites...|[ avant, tout, di...|\n",
      "|– Как можно быть ...| Как можно быть з...|[ как, можно, быт...|\n",
      "|– А праздник англ...| А праздник англи...|[ а, праздник, ан...|\n",
      "|– Я думала, что н...| Я думала что нын...|[ я, думала, что,...|\n",
      "|– Ежели бы знали,...| Ежели бы знали ч...|[ ежели, бы, знал...|\n",
      "|– Ne me tourmente...| Ne me tourmentez...|[ ne, me, tourmen...|\n",
      "|– Как вам сказать...| Как вам сказать ...|[ как, вам, сказа...|\n",
      "|Князь Василий гов...|Князь Василий гов...|[князь, василий, ...|\n",
      "+--------------------+--------------------+--------------------+\n",
      "only showing top 20 rows\n",
      "\n"
     ]
    }
   ],
   "source": [
    "War_and_Peace.show()"
   ]
  },
  {
   "cell_type": "code",
   "execution_count": 16,
   "metadata": {
    "colab": {
     "base_uri": "https://localhost:8080/"
    },
    "id": "fxrxWxcdPWK7",
    "outputId": "4b1ab086-dff6-41d1-f177-ce3e79cb0a89"
   },
   "outputs": [
    {
     "name": "stdout",
     "output_type": "stream",
     "text": [
      "Количество слов документе \"War and Peace by Leo Tolstoy (ru).txt\": 472179\n"
     ]
    }
   ],
   "source": [
    "words_count = War_and_Peace.select(size(War_and_Peace.tokens).name(\"words_count\")).agg(sum(\"words_count\"))\n",
    "print(\"Количество слов документе \\\"War and Peace by Leo Tolstoy (ru).txt\\\": {}\".format(words_count.collect()[0][\"sum(words_count)\"])) "
   ]
  },
  {
   "cell_type": "code",
   "execution_count": 17,
   "metadata": {
    "id": "MJgmIgCzLJTo"
   },
   "outputs": [],
   "source": [
    "id='13yfAoONwq4rS5XrTv3IrcqcFcdgfvK9V'\n",
    "downloaded = drive.CreateFile({'id': id})\n",
    "downloaded.GetContentFile('mnist-digits-train.txt')\n",
    "\n",
    "id='1VE_9x0LQvOJpHXbXp_RMPl3Q4wRUuOok'\n",
    "downloaded = drive.CreateFile({'id': id})\n",
    "downloaded.GetContentFile('mnist-digits-test.txt')"
   ]
  },
  {
   "cell_type": "markdown",
   "metadata": {
    "id": "vSU-TTUvNaON"
   },
   "source": [
    "Необходимо обучить модель используя Spark MLlib (модель на ваш выбор, например Decision Tree) и получить accuracy.\n",
    "Подробнее тут: https://spark.apache.org/docs/latest/ml-classification-regression.html"
   ]
  },
  {
   "cell_type": "code",
   "execution_count": 18,
   "metadata": {
    "id": "saTc8AVOLiJq"
   },
   "outputs": [],
   "source": [
    "# код\n",
    "from pyspark.ml import Pipeline\n",
    "from pyspark.ml.classification import DecisionTreeClassifier\n",
    "from pyspark.ml.evaluation import MulticlassClassificationEvaluator"
   ]
  },
  {
   "cell_type": "code",
   "execution_count": 19,
   "metadata": {
    "id": "yE5HxxH-pHxu"
   },
   "outputs": [],
   "source": [
    "train_data = ss.read.format(\"libsvm\").load(\"mnist-digits-train.txt\")\n",
    "\n",
    "test_data = ss.read.format(\"libsvm\").load(\"mnist-digits-test.txt\")"
   ]
  },
  {
   "cell_type": "code",
   "execution_count": 20,
   "metadata": {
    "colab": {
     "base_uri": "https://localhost:8080/"
    },
    "id": "R-TlgHPS4uRG",
    "outputId": "c13160ca-e71a-4430-a1f9-b8c7ba973754"
   },
   "outputs": [
    {
     "name": "stdout",
     "output_type": "stream",
     "text": [
      "+-----+--------------------+\n",
      "|label|            features|\n",
      "+-----+--------------------+\n",
      "|  5.0|(780,[152,153,154...|\n",
      "|  0.0|(780,[127,128,129...|\n",
      "|  4.0|(780,[160,161,162...|\n",
      "|  1.0|(780,[158,159,160...|\n",
      "|  9.0|(780,[208,209,210...|\n",
      "+-----+--------------------+\n",
      "only showing top 5 rows\n",
      "\n"
     ]
    }
   ],
   "source": [
    "train_data.show(5)"
   ]
  },
  {
   "cell_type": "code",
   "execution_count": 21,
   "metadata": {
    "colab": {
     "base_uri": "https://localhost:8080/"
    },
    "id": "HKkSX6p24uTf",
    "outputId": "314248e2-6ec0-4e58-c5b9-504c6fde1193"
   },
   "outputs": [
    {
     "name": "stdout",
     "output_type": "stream",
     "text": [
      "+-----+--------------------+\n",
      "|label|            features|\n",
      "+-----+--------------------+\n",
      "|  7.0|(778,[202,203,204...|\n",
      "|  2.0|(778,[94,95,96,97...|\n",
      "|  1.0|(778,[128,129,130...|\n",
      "|  0.0|(778,[124,125,126...|\n",
      "|  4.0|(778,[150,151,159...|\n",
      "+-----+--------------------+\n",
      "only showing top 5 rows\n",
      "\n"
     ]
    }
   ],
   "source": [
    "test_data.show(5)"
   ]
  },
  {
   "cell_type": "code",
   "execution_count": 22,
   "metadata": {
    "id": "DAltYXf44ubb"
   },
   "outputs": [],
   "source": [
    "dt = DecisionTreeClassifier(labelCol=\"label\", featuresCol=\"features\")\n",
    "\n",
    "model = dt.fit(train_data)"
   ]
  },
  {
   "cell_type": "code",
   "execution_count": 23,
   "metadata": {
    "colab": {
     "base_uri": "https://localhost:8080/"
    },
    "id": "8p387plU4ugp",
    "outputId": "d376f03d-f999-4b59-d2a9-a6ef5531afa9"
   },
   "outputs": [
    {
     "name": "stdout",
     "output_type": "stream",
     "text": [
      "+-----+--------------------+--------------------+--------------------+----------+\n",
      "|label|            features|       rawPrediction|         probability|prediction|\n",
      "+-----+--------------------+--------------------+--------------------+----------+\n",
      "|  7.0|(778,[202,203,204...|[175.0,63.0,295.0...|[0.03231763619575...|       7.0|\n",
      "|  2.0|(778,[94,95,96,97...|[24.0,36.0,195.0,...|[0.04006677796327...|       6.0|\n",
      "|  1.0|(778,[128,129,130...|[4.0,5302.0,159.0...|[6.82593856655290...|       1.0|\n",
      "|  0.0|(778,[124,125,126...|[4295.0,2.0,64.0,...|[0.92724525043177...|       0.0|\n",
      "|  4.0|(778,[150,151,159...|[70.0,0.0,103.0,9...|[0.05672609400324...|       9.0|\n",
      "+-----+--------------------+--------------------+--------------------+----------+\n",
      "only showing top 5 rows\n",
      "\n"
     ]
    }
   ],
   "source": [
    "predictions = model.transform(test_data)\n",
    "predictions.show(5)"
   ]
  },
  {
   "cell_type": "code",
   "execution_count": 24,
   "metadata": {
    "colab": {
     "base_uri": "https://localhost:8080/"
    },
    "id": "_GYHwXZO4ui_",
    "outputId": "c20d3054-973f-4a8c-efe8-f6fea1bd4ef4"
   },
   "outputs": [
    {
     "name": "stdout",
     "output_type": "stream",
     "text": [
      "accuracy = 0.6737\n"
     ]
    }
   ],
   "source": [
    "evaluator = MulticlassClassificationEvaluator(labelCol=\"label\", predictionCol=\"prediction\", metricName=\"accuracy\")\n",
    "accuracy = evaluator.evaluate(predictions)\n",
    "print(\"accuracy = {}\".format(accuracy))"
   ]
  },
  {
   "cell_type": "code",
   "execution_count": 25,
   "metadata": {
    "colab": {
     "base_uri": "https://localhost:8080/"
    },
    "id": "yKMztZ2eOOrE",
    "outputId": "ba195bb4-b8a2-4af7-bb37-5a13016999e2"
   },
   "outputs": [
    {
     "name": "stdout",
     "output_type": "stream",
     "text": [
      "Archive:  data.zip\n",
      "   creating: data/\n",
      "  inflating: data/regions.csv        \n",
      "  inflating: data/departments.csv    \n",
      "  inflating: data/jobs.csv           \n",
      "  inflating: data/locations.csv      \n",
      "  inflating: data/country.csv        \n",
      "  inflating: data/employees.csv      \n",
      "  inflating: data/job_history.csv    \n"
     ]
    }
   ],
   "source": [
    "id='1kUIrskM0zNH8u71G9M1BkHjRQYxvgAvh'\n",
    "downloaded = drive.CreateFile({'id': id})\n",
    "downloaded.GetContentFile('data.zip')\n",
    "!unzip data.zip"
   ]
  },
  {
   "cell_type": "code",
   "execution_count": 26,
   "metadata": {
    "colab": {
     "base_uri": "https://localhost:8080/"
    },
    "id": "R6L-4BGkWj0R",
    "outputId": "77e41c16-fbe7-41a0-d568-fe9cd3a35bf4"
   },
   "outputs": [
    {
     "name": "stdout",
     "output_type": "stream",
     "text": [
      "+---------+--------------------+\n",
      "|REGION_ID|         REGION_NAME|\n",
      "+---------+--------------------+\n",
      "|        1|              Europe|\n",
      "|        2|            Americas|\n",
      "|        3|                Asia|\n",
      "|        4|Middle East and A...|\n",
      "+---------+--------------------+\n",
      "\n"
     ]
    }
   ],
   "source": [
    "regions = ss.read.csv(\"./data/regions.csv\", header=True, sep=\"\\t\", inferSchema=True)\n",
    "regions.createOrReplaceTempView(\"regions\")\n",
    "\n",
    "regions.show()"
   ]
  },
  {
   "cell_type": "code",
   "execution_count": 27,
   "metadata": {
    "colab": {
     "base_uri": "https://localhost:8080/"
    },
    "id": "E4DqdXugWkKK",
    "outputId": "2fd58205-dfa5-433f-e902-3c70c8f3a3c5"
   },
   "outputs": [
    {
     "name": "stdout",
     "output_type": "stream",
     "text": [
      "+-------------+--------------------+----------+-----------+\n",
      "|DEPARTMENT_ID|     DEPARTMENT_NAME|MANAGER_ID|LOCATION_ID|\n",
      "+-------------+--------------------+----------+-----------+\n",
      "|           10|      Administration|       200|       1700|\n",
      "|           20|           Marketing|       201|       1800|\n",
      "|           30|          Purchasing|       114|       1700|\n",
      "|           40|     Human Resources|       203|       2400|\n",
      "|           50|            Shipping|       121|       1500|\n",
      "|           60|                  IT|       103|       1400|\n",
      "|           70|    Public Relations|       204|       2700|\n",
      "|           80|               Sales|       145|       2500|\n",
      "|           90|           Executive|       100|       1700|\n",
      "|          100|             Finance|       108|       1700|\n",
      "|          110|          Accounting|       205|       1700|\n",
      "|          120|            Treasury|      null|       1700|\n",
      "|          130|       Corporate Tax|      null|       1700|\n",
      "|          140|  Control And Credit|      null|       1700|\n",
      "|          150|Shareholder Services|      null|       1700|\n",
      "|          160|            Benefits|      null|       1700|\n",
      "|          170|       Manufacturing|      null|       1700|\n",
      "|          180|        Construction|      null|       1700|\n",
      "|          190|         Contracting|      null|       1700|\n",
      "|          200|          Operations|      null|       1700|\n",
      "+-------------+--------------------+----------+-----------+\n",
      "only showing top 20 rows\n",
      "\n"
     ]
    }
   ],
   "source": [
    "departments = ss.read.csv(\"./data/departments.csv\", header=True, sep=\"\\t\", inferSchema=True)\n",
    "departments.createOrReplaceTempView(\"departments\")\n",
    "\n",
    "departments.show()"
   ]
  },
  {
   "cell_type": "code",
   "execution_count": 28,
   "metadata": {
    "colab": {
     "base_uri": "https://localhost:8080/"
    },
    "id": "3HQxHinRWkRk",
    "outputId": "f1a65884-5acc-4ae6-9217-ec32cd380f8d"
   },
   "outputs": [
    {
     "name": "stdout",
     "output_type": "stream",
     "text": [
      "+----------+--------------------+----------+----------+\n",
      "|    JOB_ID|           JOB_TITLE|MIN_SALARY|MAX_SALARY|\n",
      "+----------+--------------------+----------+----------+\n",
      "|   AD_PRES|           President|     20080|     40000|\n",
      "|     AD_VP|Administration Vi...|     15000|     30000|\n",
      "|   AD_ASST|Administration As...|      3000|      6000|\n",
      "|    FI_MGR|     Finance Manager|      8200|     16000|\n",
      "|FI_ACCOUNT|          Accountant|      4200|      9000|\n",
      "|    AC_MGR|  Accounting Manager|      8200|     16000|\n",
      "|AC_ACCOUNT|   Public Accountant|      4200|      9000|\n",
      "|    SA_MAN|       Sales Manager|     10000|     20080|\n",
      "|    SA_REP|Sales Representative|      6000|     12008|\n",
      "|    PU_MAN|  Purchasing Manager|      8000|     15000|\n",
      "|  PU_CLERK|    Purchasing Clerk|      2500|      5500|\n",
      "|    ST_MAN|       Stock Manager|      5500|      8500|\n",
      "|  ST_CLERK|         Stock Clerk|      2008|      5000|\n",
      "|  SH_CLERK|      Shipping Clerk|      2500|      5500|\n",
      "|   IT_PROG|          Programmer|      4000|     10000|\n",
      "|    MK_MAN|   Marketing Manager|      9000|     15000|\n",
      "|    MK_REP|Marketing Represe...|      4000|      9000|\n",
      "|    HR_REP|Human Resources R...|      4000|      9000|\n",
      "|    PR_REP|Public Relations ...|      4500|     10500|\n",
      "+----------+--------------------+----------+----------+\n",
      "\n"
     ]
    }
   ],
   "source": [
    "jobs = ss.read.csv(\"./data/jobs.csv\", header=True, sep=\"\\t\", inferSchema=True)\n",
    "jobs.createOrReplaceTempView(\"jobs\")\n",
    "\n",
    "jobs.show()"
   ]
  },
  {
   "cell_type": "code",
   "execution_count": 29,
   "metadata": {
    "colab": {
     "base_uri": "https://localhost:8080/"
    },
    "id": "mQJG8yUaWkS4",
    "outputId": "7c14fe41-6005-4961-cff3-c094e26a5008"
   },
   "outputs": [
    {
     "name": "stdout",
     "output_type": "stream",
     "text": [
      "+-----------+--------------------+-----------+-------------------+----------------+----------+\n",
      "|LOCATION_ID|      STREET_ADDRESS|POSTAL_CODE|               CITY|  STATE_PROVINCE|COUNTRY_ID|\n",
      "+-----------+--------------------+-----------+-------------------+----------------+----------+\n",
      "|       1000|1297 Via Cola di Rie|      00989|               Roma|            null|        IT|\n",
      "|       1100|93091 Calle della...|      10934|             Venice|            null|        IT|\n",
      "|       1200|    2017 Shinjuku-ku|       1689|              Tokyo|Tokyo Prefecture|        JP|\n",
      "|       1300|     9450 Kamiya-cho|       6823|          Hiroshima|            null|        JP|\n",
      "|       1400| 2014 Jabberwocky Rd|      26192|          Southlake|           Texas|        US|\n",
      "|       1500| 2011 Interiors Blvd|      99236|South San Francisco|      California|        US|\n",
      "|       1600|      2007 Zagora St|      50090|    South Brunswick|      New Jersey|        US|\n",
      "|       1700|     2004 Charade Rd|      98199|            Seattle|      Washington|        US|\n",
      "|       1800|     147 Spadina Ave|    M5V 2L7|            Toronto|         Ontario|        CA|\n",
      "|       1900|     6092 Boxwood St|    YSW 9T2|         Whitehorse|           Yukon|        CA|\n",
      "|       2000| 40-5-12 Laogianggen|     190518|            Beijing|            null|        CN|\n",
      "|       2100|  1298 Vileparle (E)|     490231|             Bombay|     Maharashtra|        IN|\n",
      "|       2200|12-98 Victoria St...|       2901|             Sydney| New South Wales|        AU|\n",
      "|       2300|  198 Clementi North|     540198|          Singapore|            null|        SG|\n",
      "|       2400|      8204 Arthur St|       null|             London|            null|        UK|\n",
      "|       2500|Magdalen Centre, ...|    OX9 9ZB|             Oxford|          Oxford|        UK|\n",
      "|       2600|   9702 Chester Road|09629850293|          Stretford|      Manchester|        UK|\n",
      "|       2700|Schwanthalerstr. ...|      80925|             Munich|         Bavaria|        DE|\n",
      "|       2800|Rua Frei Caneca 1...|  01307-002|          Sao Paulo|       Sao Paulo|        BR|\n",
      "|       2900|20 Rue des Corps-...|       1730|             Geneva|          Geneve|        CH|\n",
      "+-----------+--------------------+-----------+-------------------+----------------+----------+\n",
      "only showing top 20 rows\n",
      "\n"
     ]
    }
   ],
   "source": [
    "locations = ss.read.csv(\"./data/locations.csv\", header=True, sep=\"\\t\", inferSchema=True)\n",
    "locations.createOrReplaceTempView(\"locations\")\n",
    "\n",
    "locations.show()"
   ]
  },
  {
   "cell_type": "code",
   "execution_count": 30,
   "metadata": {
    "colab": {
     "base_uri": "https://localhost:8080/"
    },
    "id": "mK9igRWHWkWG",
    "outputId": "50a0f169-840d-4d72-c510-41c4d9d795b3"
   },
   "outputs": [
    {
     "name": "stdout",
     "output_type": "stream",
     "text": [
      "+----------+------------+---------+\n",
      "|COUNTRY_ID|COUNTRY_NAME|REGION_ID|\n",
      "+----------+------------+---------+\n",
      "|        AR|   Argentina|        2|\n",
      "|        AU|   Australia|        3|\n",
      "|        BE|     Belgium|        1|\n",
      "|        BR|      Brazil|        2|\n",
      "|        CA|      Canada|        2|\n",
      "|        CH| Switzerland|        1|\n",
      "|        CN|       China|        3|\n",
      "|        DE|     Germany|        1|\n",
      "|        DK|     Denmark|        1|\n",
      "|        EG|       Egypt|        4|\n",
      "|        FR|      France|        1|\n",
      "|        IL|      Israel|        4|\n",
      "|        IN|       India|        3|\n",
      "|        IT|       Italy|        1|\n",
      "|        JP|       Japan|        3|\n",
      "|        KW|      Kuwait|        4|\n",
      "|        ML|    Malaysia|        3|\n",
      "|        MX|      Mexico|        2|\n",
      "|        NG|     Nigeria|        4|\n",
      "|        NL| Netherlands|        1|\n",
      "+----------+------------+---------+\n",
      "only showing top 20 rows\n",
      "\n"
     ]
    }
   ],
   "source": [
    "country = ss.read.csv(\"./data/country.csv\", header=True, sep=\"\\t\", inferSchema=True)\n",
    "country.createOrReplaceTempView(\"country\")\n",
    "\n",
    "country.show()"
   ]
  },
  {
   "cell_type": "code",
   "execution_count": 31,
   "metadata": {
    "colab": {
     "base_uri": "https://localhost:8080/"
    },
    "id": "ioj02VuPWkaG",
    "outputId": "dc47ce9d-8e93-4700-c156-6d45be682439"
   },
   "outputs": [
    {
     "name": "stdout",
     "output_type": "stream",
     "text": [
      "+-----------+-----------+----------+--------+------------+---------+----------+------+--------------+----------+-------------+\n",
      "|EMPLOYEE_ID| FIRST_NAME| LAST_NAME|   EMAIL|PHONE_NUMBER|HIRE_DATE|    JOB_ID|SALARY|COMMISSION_PCT|MANAGER_ID|DEPARTMENT_ID|\n",
      "+-----------+-----------+----------+--------+------------+---------+----------+------+--------------+----------+-------------+\n",
      "|        100|     Steven|      King|   SKING|515.123.4567| 17.06.03|   AD_PRES| 24000|          null|      null|           90|\n",
      "|        101|      Neena|   Kochhar|NKOCHHAR|515.123.4568| 21.09.05|     AD_VP| 17000|          null|       100|           90|\n",
      "|        102|        Lex|   De Haan| LDEHAAN|515.123.4569| 13.01.01|     AD_VP| 17000|          null|       100|           90|\n",
      "|        103|  Alexander|    Hunold| AHUNOLD|590.423.4567| 03.01.06|   IT_PROG|  9000|          null|       102|           60|\n",
      "|        104|      Bruce|     Ernst|  BERNST|590.423.4568| 21.05.07|   IT_PROG|  6000|          null|       103|           60|\n",
      "|        105|      David|    Austin| DAUSTIN|590.423.4569| 25.06.05|   IT_PROG|  4800|          null|       103|           60|\n",
      "|        106|      Valli| Pataballa|VPATABAL|590.423.4560| 05.02.06|   IT_PROG|  4800|          null|       103|           60|\n",
      "|        107|      Diana|   Lorentz|DLORENTZ|590.423.5567| 07.02.07|   IT_PROG|  4200|          null|       103|           60|\n",
      "|        108|      Nancy| Greenberg|NGREENBE|515.124.4569| 17.08.02|    FI_MGR| 12008|          null|       101|          100|\n",
      "|        109|     Daniel|    Faviet| DFAVIET|515.124.4169| 16.08.02|FI_ACCOUNT|  9000|          null|       108|          100|\n",
      "|        110|       John|      Chen|   JCHEN|515.124.4269| 28.09.05|FI_ACCOUNT|  8200|          null|       108|          100|\n",
      "|        111|     Ismael|   Sciarra|ISCIARRA|515.124.4369| 30.09.05|FI_ACCOUNT|  7700|          null|       108|          100|\n",
      "|        112|Jose Manuel|     Urman| JMURMAN|515.124.4469| 07.03.06|FI_ACCOUNT|  7800|          null|       108|          100|\n",
      "|        113|       Luis|      Popp|   LPOPP|515.124.4567| 07.12.07|FI_ACCOUNT|  6900|          null|       108|          100|\n",
      "|        114|        Den|  Raphaely|DRAPHEAL|515.127.4561| 07.12.02|    PU_MAN| 11000|          null|       100|           30|\n",
      "|        115|  Alexander|      Khoo|   AKHOO|515.127.4562| 18.05.03|  PU_CLERK|  3100|          null|       114|           30|\n",
      "|        116|     Shelli|     Baida|  SBAIDA|515.127.4563| 24.12.05|  PU_CLERK|  2900|          null|       114|           30|\n",
      "|        117|      Sigal|    Tobias| STOBIAS|515.127.4564| 24.07.05|  PU_CLERK|  2800|          null|       114|           30|\n",
      "|        118|        Guy|    Himuro| GHIMURO|515.127.4565| 15.11.06|  PU_CLERK|  2600|          null|       114|           30|\n",
      "|        119|      Karen|Colmenares|KCOLMENA|515.127.4566| 10.08.07|  PU_CLERK|  2500|          null|       114|           30|\n",
      "+-----------+-----------+----------+--------+------------+---------+----------+------+--------------+----------+-------------+\n",
      "only showing top 20 rows\n",
      "\n"
     ]
    }
   ],
   "source": [
    "employees = ss.read.csv(\"./data/employees.csv\", header=True, sep=\"\\t\", inferSchema=True)\n",
    "employees.createOrReplaceTempView(\"employees\")\n",
    "\n",
    "employees.show()"
   ]
  },
  {
   "cell_type": "code",
   "execution_count": 32,
   "metadata": {
    "colab": {
     "base_uri": "https://localhost:8080/"
    },
    "id": "CNCzPv_kaawN",
    "outputId": "c73520ba-ff8f-4a29-ee96-f8785139dec1"
   },
   "outputs": [
    {
     "name": "stdout",
     "output_type": "stream",
     "text": [
      "+-----------+----------+--------+----------+-------------+\n",
      "|EMPLOYEE_ID|START_DATE|END_DATE|    JOB_ID|DEPARTMENT_ID|\n",
      "+-----------+----------+--------+----------+-------------+\n",
      "|        102|  13.01.01|24.07.06|   IT_PROG|           60|\n",
      "|        101|  21.09.97|27.10.01|AC_ACCOUNT|          110|\n",
      "|        101|  28.10.01|15.03.05|    AC_MGR|          110|\n",
      "|        201|  17.02.04|19.12.07|    MK_REP|           20|\n",
      "|        114|  24.03.06|31.12.07|  ST_CLERK|           50|\n",
      "|        122|  01.01.07|31.12.07|  ST_CLERK|           50|\n",
      "|        200|  17.09.95|17.06.01|   AD_ASST|           90|\n",
      "|        176|  24.03.06|31.12.06|    SA_REP|           80|\n",
      "|        176|  01.01.07|31.12.07|    SA_MAN|           80|\n",
      "|        200|  01.07.02|31.12.06|AC_ACCOUNT|           90|\n",
      "+-----------+----------+--------+----------+-------------+\n",
      "\n"
     ]
    }
   ],
   "source": [
    "job_history = ss.read.csv(\"./data/job_history.csv\", header=True, sep=\"\\t\", inferSchema=True)\n",
    "job_history.createOrReplaceTempView(\"job_history\")\n",
    "\n",
    "job_history.show()"
   ]
  },
  {
   "cell_type": "markdown",
   "metadata": {
    "id": "v43K2fDAjUYb"
   },
   "source": [
    "Кто получает больше всего? Кто меньше всего?"
   ]
  },
  {
   "cell_type": "code",
   "execution_count": 33,
   "metadata": {
    "colab": {
     "base_uri": "https://localhost:8080/"
    },
    "id": "Zm15EW8znWDo",
    "outputId": "a9ab268d-35e8-4522-8669-88bc27012176"
   },
   "outputs": [
    {
     "name": "stdout",
     "output_type": "stream",
     "text": [
      "Больше всех получает: \n",
      "+----------+---------+------+\n",
      "|FIRST_NAME|LAST_NAME|SALARY|\n",
      "+----------+---------+------+\n",
      "|    Steven|     King| 24000|\n",
      "+----------+---------+------+\n",
      "\n"
     ]
    }
   ],
   "source": [
    "# код\n",
    "request1 = '''\n",
    "SELECT FIRST_NAME, LAST_NAME, SALARY FROM employees\n",
    "WHERE SALARY = (SELECT MAX(SALARY) FROM employees)\n",
    "'''\n",
    "\n",
    "print(\"Больше всех получает: \")\n",
    "ss.sql(request1).show()"
   ]
  },
  {
   "cell_type": "code",
   "execution_count": 34,
   "metadata": {
    "colab": {
     "base_uri": "https://localhost:8080/"
    },
    "id": "dGRRIVdctqg5",
    "outputId": "2504c57a-fd61-471c-88f6-17627f2f4795"
   },
   "outputs": [
    {
     "name": "stdout",
     "output_type": "stream",
     "text": [
      "Меньше всех получает: \n",
      "+----------+---------+------+\n",
      "|FIRST_NAME|LAST_NAME|SALARY|\n",
      "+----------+---------+------+\n",
      "|        TJ|    Olson|  2100|\n",
      "+----------+---------+------+\n",
      "\n"
     ]
    }
   ],
   "source": [
    "request2 = '''\n",
    "SELECT FIRST_NAME, LAST_NAME, SALARY FROM employees\n",
    "WHERE SALARY = (SELECT MIN(SALARY) FROM employees)\n",
    "'''\n",
    "\n",
    "print(\"Меньше всех получает: \")\n",
    "ss.sql(request2).show()"
   ]
  },
  {
   "cell_type": "markdown",
   "metadata": {
    "id": "zg8-rkFlkMqm"
   },
   "source": [
    "Выведете топ 5 по зарплате."
   ]
  },
  {
   "cell_type": "code",
   "execution_count": 35,
   "metadata": {
    "colab": {
     "base_uri": "https://localhost:8080/"
    },
    "id": "SMzJ_tJhnWuV",
    "outputId": "f4ac21a1-0832-429d-a257-cbc30be843d6"
   },
   "outputs": [
    {
     "name": "stdout",
     "output_type": "stream",
     "text": [
      "+-----------+----------+---------+--------+------------------+------+\n",
      "|EMPLOYEE_ID|FIRST_NAME|LAST_NAME|   EMAIL|      PHONE_NUMBER|SALARY|\n",
      "+-----------+----------+---------+--------+------------------+------+\n",
      "|        100|    Steven|     King|   SKING|      515.123.4567| 24000|\n",
      "|        101|     Neena|  Kochhar|NKOCHHAR|      515.123.4568| 17000|\n",
      "|        102|       Lex|  De Haan| LDEHAAN|      515.123.4569| 17000|\n",
      "|        145|      John|  Russell| JRUSSEL|011.44.1344.429268| 14000|\n",
      "|        146|     Karen| Partners|KPARTNER|011.44.1344.467268| 13500|\n",
      "+-----------+----------+---------+--------+------------------+------+\n",
      "\n"
     ]
    }
   ],
   "source": [
    "# код\n",
    "request3 = '''\n",
    "SELECT EMPLOYEE_ID, FIRST_NAME, LAST_NAME, EMAIL, PHONE_NUMBER, SALARY FROM employees\n",
    "ORDER BY SALARY DESC\n",
    "LIMIT 5\n",
    "'''\n",
    "\n",
    "ss.sql(request3).show()"
   ]
  },
  {
   "cell_type": "markdown",
   "metadata": {
    "id": "JfBpDVYwkM7K"
   },
   "source": [
    "Сколько всего регионов? Сколько работников в каждом регионе?"
   ]
  },
  {
   "cell_type": "code",
   "execution_count": 36,
   "metadata": {
    "colab": {
     "base_uri": "https://localhost:8080/"
    },
    "id": "w2d2AiBknYSo",
    "outputId": "e993a3e7-dfda-4acd-f271-ae903b46a7ed"
   },
   "outputs": [
    {
     "name": "stdout",
     "output_type": "stream",
     "text": [
      "Всего регионов: 4\n"
     ]
    }
   ],
   "source": [
    "# код\n",
    "print(\"Всего регионов: {}\".format(ss.sql(\"SELECT COUNT(*) FROM regions\").collect()[0][\"count(1)\"]))"
   ]
  },
  {
   "cell_type": "code",
   "execution_count": 37,
   "metadata": {
    "colab": {
     "base_uri": "https://localhost:8080/"
    },
    "id": "Ed3NTMrdX8w0",
    "outputId": "10054e9d-275c-420d-f4fe-8f1438266b3c"
   },
   "outputs": [
    {
     "name": "stdout",
     "output_type": "stream",
     "text": [
      "+-----------+-----+\n",
      "|REGION_NAME|count|\n",
      "+-----------+-----+\n",
      "|     Europe|   36|\n",
      "|   Americas|   70|\n",
      "+-----------+-----+\n",
      "\n"
     ]
    }
   ],
   "source": [
    "request4 = '''\n",
    "SELECT REGION_NAME, COUNT(EMPLOYEE_ID) as count FROM employees\n",
    "JOIN departments ON employees.DEPARTMENT_ID = departments.DEPARTMENT_ID\n",
    "JOIN locations ON departments.LOCATION_ID = locations.LOCATION_ID\n",
    "JOIN country ON locations.COUNTRY_ID = country.COUNTRY_ID\n",
    "JOIN regions ON country.REGION_ID = regions.REGION_ID\n",
    "GROUP BY REGION_NAME\n",
    "'''\n",
    "ss.sql(request4).show()"
   ]
  },
  {
   "cell_type": "markdown",
   "metadata": {
    "id": "OOY2unJ8kNXz"
   },
   "source": [
    "Выведете всех работников из Китая."
   ]
  },
  {
   "cell_type": "code",
   "execution_count": 38,
   "metadata": {
    "colab": {
     "base_uri": "https://localhost:8080/"
    },
    "id": "5Lhj9GAwnZgK",
    "outputId": "e6bced69-8b95-457c-992c-95483d833407"
   },
   "outputs": [
    {
     "name": "stdout",
     "output_type": "stream",
     "text": [
      "+-----------+----------+---------+\n",
      "|EMPLOYEE_ID|FIRST_NAME|LAST_NAME|\n",
      "+-----------+----------+---------+\n",
      "+-----------+----------+---------+\n",
      "\n"
     ]
    }
   ],
   "source": [
    "# код\n",
    "request5 = '''\n",
    "SELECT EMPLOYEE_ID, FIRST_NAME, LAST_NAME FROM employees\n",
    "JOIN departments ON employees.DEPARTMENT_ID = departments.DEPARTMENT_ID\n",
    "JOIN locations ON departments.LOCATION_ID = locations.LOCATION_ID\n",
    "JOIN country ON locations.COUNTRY_ID = country.COUNTRY_ID\n",
    "WHERE country.COUNTRY_NAME = 'China'\n",
    "'''\n",
    "\n",
    "ss.sql(request5).show()"
   ]
  },
  {
   "cell_type": "markdown",
   "metadata": {
    "id": "s1Nc8F-6kNR7"
   },
   "source": [
    "Укажите самую высокооплачиваемою должность."
   ]
  },
  {
   "cell_type": "code",
   "execution_count": 39,
   "metadata": {
    "colab": {
     "base_uri": "https://localhost:8080/"
    },
    "id": "-ZNAohM-naSr",
    "outputId": "89bcff0d-b073-474f-8273-ff699bb92afe"
   },
   "outputs": [
    {
     "name": "stdout",
     "output_type": "stream",
     "text": [
      "+---------+----------+\n",
      "|JOB_TITLE|MAX_SALARY|\n",
      "+---------+----------+\n",
      "|President|     40000|\n",
      "+---------+----------+\n",
      "\n"
     ]
    }
   ],
   "source": [
    "# код\n",
    "request6 = '''\n",
    "SELECT JOB_TITLE, MAX_SALARY FROM jobs\n",
    "WHERE MAX_SALARY = (SELECT MAX(MAX_SALARY) FROM jobs)\n",
    "'''\n",
    "\n",
    "ss.sql(request6).show()"
   ]
  },
  {
   "cell_type": "markdown",
   "metadata": {
    "id": "dzenJwUnkNL8"
   },
   "source": [
    "Выведете всех работников связанных с ИТ. Выведете их менеджеров. "
   ]
  },
  {
   "cell_type": "code",
   "execution_count": 40,
   "metadata": {
    "colab": {
     "base_uri": "https://localhost:8080/"
    },
    "id": "eogYiLjXna3h",
    "outputId": "9ac43fd0-96d9-448a-bad9-87ddcade3197"
   },
   "outputs": [
    {
     "name": "stdout",
     "output_type": "stream",
     "text": [
      "+-----------+----------+---------+------------------+-----------------+\n",
      "|EMPLOYEE_ID|FIRST_NAME|LAST_NAME|MANAGER_FIRST_NAME|MANAGER_LAST_NAME|\n",
      "+-----------+----------+---------+------------------+-----------------+\n",
      "|        103| Alexander|   Hunold|               Lex|          De Haan|\n",
      "|        104|     Bruce|    Ernst|         Alexander|           Hunold|\n",
      "|        105|     David|   Austin|         Alexander|           Hunold|\n",
      "|        106|     Valli|Pataballa|         Alexander|           Hunold|\n",
      "|        107|     Diana|  Lorentz|         Alexander|           Hunold|\n",
      "+-----------+----------+---------+------------------+-----------------+\n",
      "\n"
     ]
    }
   ],
   "source": [
    "# код\n",
    "request7 = '''\n",
    "SELECT e1.EMPLOYEE_ID, e1.FIRST_NAME, e1.LAST_NAME, \n",
    "e2.FIRST_NAME AS MANAGER_FIRST_NAME, e2.LAST_NAME AS MANAGER_LAST_NAME FROM employees AS e1\n",
    "LEFT JOIN employees AS e2 ON e1.MANAGER_ID = e2.EMPLOYEE_ID\n",
    "WHERE e1.JOB_ID = 'IT_PROG'\n",
    "'''\n",
    "ss.sql(request7).show()"
   ]
  },
  {
   "cell_type": "markdown",
   "metadata": {
    "id": "tvpCoeYPmLTW"
   },
   "source": [
    "Выведете имя и фамилию работника, его текущую и предыдущую должности и сколько полных недель и дней прошло с момент изменения. \n",
    "\n"
   ]
  },
  {
   "cell_type": "code",
   "execution_count": 41,
   "metadata": {
    "colab": {
     "base_uri": "https://localhost:8080/"
    },
    "id": "SkCvyzkVnbo6",
    "outputId": "0924a7fb-afc3-48de-fcc9-1292b57736d8"
   },
   "outputs": [
    {
     "name": "stdout",
     "output_type": "stream",
     "text": [
      "+-----------+----------+-----------+-------------+\n",
      "| FIRST_NAME| LAST_NAME|PRESENT_JOB|PREVIOUS_WORK|\n",
      "+-----------+----------+-----------+-------------+\n",
      "|     Steven|      King|    AD_PRES|         null|\n",
      "|      Neena|   Kochhar|      AD_VP|         null|\n",
      "|        Lex|   De Haan|      AD_VP|         null|\n",
      "|  Alexander|    Hunold|    IT_PROG|         null|\n",
      "|      Bruce|     Ernst|    IT_PROG|         null|\n",
      "|      David|    Austin|    IT_PROG|         null|\n",
      "|      Valli| Pataballa|    IT_PROG|         null|\n",
      "|      Diana|   Lorentz|    IT_PROG|         null|\n",
      "|      Nancy| Greenberg|     FI_MGR|         null|\n",
      "|     Daniel|    Faviet| FI_ACCOUNT|         null|\n",
      "|       John|      Chen| FI_ACCOUNT|         null|\n",
      "|     Ismael|   Sciarra| FI_ACCOUNT|         null|\n",
      "|Jose Manuel|     Urman| FI_ACCOUNT|         null|\n",
      "|       Luis|      Popp| FI_ACCOUNT|         null|\n",
      "|        Den|  Raphaely|     PU_MAN|     ST_CLERK|\n",
      "|  Alexander|      Khoo|   PU_CLERK|         null|\n",
      "|     Shelli|     Baida|   PU_CLERK|         null|\n",
      "|      Sigal|    Tobias|   PU_CLERK|         null|\n",
      "|        Guy|    Himuro|   PU_CLERK|         null|\n",
      "|      Karen|Colmenares|   PU_CLERK|         null|\n",
      "+-----------+----------+-----------+-------------+\n",
      "only showing top 20 rows\n",
      "\n"
     ]
    }
   ],
   "source": [
    "# код\n",
    "#не удалось вывести сколько полных недель и дней прошло с момент изменения.\n",
    "request8 = '''\n",
    "select FIRST_NAME,LAST_NAME, e.JOB_ID AS PRESENT_JOB, jh.JOB_ID AS PREVIOUS_WORK from employees e\n",
    "left join (select EMPLOYEE_ID, JOB_ID, END_DATE from job_history order by END_DATE desc limit 1) jh on jh.EMPLOYEE_ID = e.EMPLOYEE_ID;\n",
    "'''\n",
    "ss.sql(request8).show()"
   ]
  },
  {
   "cell_type": "markdown",
   "metadata": {
    "id": "sOBhGAaanC0e"
   },
   "source": [
    "Выведете уникальные телефонные номера"
   ]
  },
  {
   "cell_type": "code",
   "execution_count": 42,
   "metadata": {
    "colab": {
     "base_uri": "https://localhost:8080/"
    },
    "id": "05BrXyrsncKf",
    "outputId": "cac0ea8f-56e0-4317-c877-2dd20849aed7"
   },
   "outputs": [
    {
     "name": "stdout",
     "output_type": "stream",
     "text": [
      "+------------------+\n",
      "|      PHONE_NUMBER|\n",
      "+------------------+\n",
      "|011.44.1344.429018|\n",
      "|      515.127.4566|\n",
      "|      515.127.4564|\n",
      "|011.44.1344.429278|\n",
      "|      515.123.4569|\n",
      "|      650.124.1434|\n",
      "|      650.123.2234|\n",
      "|011.44.1344.498718|\n",
      "|      650.127.1634|\n",
      "|      515.127.4561|\n",
      "|011.44.1345.629268|\n",
      "|      515.127.4562|\n",
      "|011.44.1644.429264|\n",
      "|011.44.1644.429262|\n",
      "|      650.501.1876|\n",
      "|      650.127.1834|\n",
      "|011.44.1343.529268|\n",
      "|011.44.1644.429265|\n",
      "|      515.123.8181|\n",
      "|      650.507.9833|\n",
      "+------------------+\n",
      "only showing top 20 rows\n",
      "\n"
     ]
    }
   ],
   "source": [
    "# код\n",
    "ss.sql(\"SELECT DISTINCT PHONE_NUMBER FROM employees\").show()"
   ]
  },
  {
   "cell_type": "markdown",
   "metadata": {
    "id": "qdf1VBv3nMR-"
   },
   "source": [
    "Есть ли сотрудники с одинаковыми фамилиями и сколько их."
   ]
  },
  {
   "cell_type": "code",
   "execution_count": 43,
   "metadata": {
    "colab": {
     "base_uri": "https://localhost:8080/"
    },
    "id": "apTLX1o6jy6K",
    "outputId": "18a5f0e3-7fce-429b-8229-80e2a66bf9ca"
   },
   "outputs": [
    {
     "name": "stdout",
     "output_type": "stream",
     "text": [
      "+---------+-----+\n",
      "|LAST_NAME|count|\n",
      "+---------+-----+\n",
      "|    Smith|    2|\n",
      "|     King|    2|\n",
      "|Cambrault|    2|\n",
      "|   Taylor|    2|\n",
      "+---------+-----+\n",
      "\n"
     ]
    }
   ],
   "source": [
    "# код\n",
    "ss.sql(\"select LAST_NAME, count(*) as count from employees e group by LAST_NAME having count > 1\").show()"
   ]
  }
 ],
 "metadata": {
  "colab": {
   "collapsed_sections": [],
   "name": "HW6_DE.ipynb",
   "provenance": []
  },
  "kernelspec": {
   "display_name": "Python 3",
   "language": "python",
   "name": "python3"
  },
  "language_info": {
   "codemirror_mode": {
    "name": "ipython",
    "version": 3
   },
   "file_extension": ".py",
   "mimetype": "text/x-python",
   "name": "python",
   "nbconvert_exporter": "python",
   "pygments_lexer": "ipython3",
   "version": "3.7.7"
  }
 },
 "nbformat": 4,
 "nbformat_minor": 1
}
