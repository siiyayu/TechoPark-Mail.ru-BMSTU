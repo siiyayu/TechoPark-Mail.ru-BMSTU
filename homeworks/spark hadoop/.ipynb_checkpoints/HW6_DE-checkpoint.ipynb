{
 "cells": [
  {
   "cell_type": "code",
   "execution_count": null,
   "metadata": {
    "id": "RumFnRay9oEM"
   },
   "outputs": [],
   "source": [
    "!pip install pyspark\n",
    "!pip install -U -q PyDrive\n",
    "!apt install openjdk-8-jdk-headless -qq\n",
    "import os\n",
    "os.environ[\"JAVA_HOME\"] = \"/usr/lib/jvm/java-8-openjdk-amd64\""
   ]
  },
  {
   "cell_type": "code",
   "execution_count": null,
   "metadata": {
    "id": "68_AeFo49pEU"
   },
   "outputs": [],
   "source": [
    "from pydrive.auth import GoogleAuth\n",
    "from pydrive.drive import GoogleDrive\n",
    "from google.colab import auth\n",
    "from oauth2client.client import GoogleCredentials\n",
    "\n",
    "auth.authenticate_user()\n",
    "gauth = GoogleAuth()\n",
    "gauth.credentials = GoogleCredentials.get_application_default()\n",
    "drive = GoogleDrive(gauth)"
   ]
  },
  {
   "cell_type": "code",
   "execution_count": null,
   "metadata": {
    "id": "ftRUvQn89-yC"
   },
   "outputs": [],
   "source": [
    "id='1f_9EbnywCj35EBUA32sueigxBjBJwALr'\n",
    "downloaded = drive.CreateFile({'id': id})\n",
    "downloaded.GetContentFile('War and Peace by Leo Tolstoy (ru).txt')"
   ]
  },
  {
   "cell_type": "code",
   "execution_count": null,
   "metadata": {
    "id": "LpR8DQxm-IRN"
   },
   "outputs": [],
   "source": [
    "import pandas as pd\n",
    "\n",
    "import pyspark\n",
    "from pyspark.sql import *\n",
    "from pyspark.sql.functions import *\n",
    "from pyspark import SparkContext, SparkConf"
   ]
  },
  {
   "cell_type": "code",
   "execution_count": null,
   "metadata": {
    "id": "w6qPAe12-Q19"
   },
   "outputs": [],
   "source": [
    "conf = SparkConf().set(\"spark.ui.port\", \"4050\")\n",
    "\n",
    "sc = pyspark.SparkContext(conf=conf)\n",
    "spark = SparkSession.builder.getOrCreate()"
   ]
  },
  {
   "cell_type": "code",
   "execution_count": null,
   "metadata": {
    "id": "2E-RdW9y-U1o"
   },
   "outputs": [],
   "source": [
    "spark"
   ]
  },
  {
   "cell_type": "code",
   "execution_count": null,
   "metadata": {
    "id": "T6LU3RGy-Yag"
   },
   "outputs": [],
   "source": [
    "!wget https://bin.equinox.io/c/4VmDzA7iaHb/ngrok-stable-linux-amd64.zip\n",
    "!unzip ngrok-stable-linux-amd64.zip\n",
    "get_ipython().system_raw('./ngrok http 4050 &')\n",
    "!curl -s http://localhost:4040/api/tunnels | python3 -c \\\n",
    "    \"import sys, json; print(json.load(sys.stdin)['tunnels'][0]['public_url'])\""
   ]
  },
  {
   "cell_type": "markdown",
   "metadata": {
    "id": "bgte5waWKrpd"
   },
   "source": [
    "Подсчитай кол-во слов в документе \"War and Peace by Leo Tolstoy (ru).txt\""
   ]
  },
  {
   "cell_type": "code",
   "execution_count": null,
   "metadata": {
    "id": "F7AYXXsTKqjm"
   },
   "outputs": [],
   "source": [
    "# код"
   ]
  },
  {
   "cell_type": "code",
   "execution_count": null,
   "metadata": {
    "id": "MJgmIgCzLJTo"
   },
   "outputs": [],
   "source": [
    "id='13yfAoONwq4rS5XrTv3IrcqcFcdgfvK9V'\n",
    "downloaded = drive.CreateFile({'id': id})\n",
    "downloaded.GetContentFile('mnist-digits-train.txt')\n",
    "\n",
    "id='1VE_9x0LQvOJpHXbXp_RMPl3Q4wRUuOok'\n",
    "downloaded = drive.CreateFile({'id': id})\n",
    "downloaded.GetContentFile('mnist-digits-test.txt')"
   ]
  },
  {
   "cell_type": "markdown",
   "metadata": {
    "id": "vSU-TTUvNaON"
   },
   "source": [
    "Необходимо обучить модель используя Spark MLlib (модель на ваш выбор, например Decision Tree) и получить accuracy.\n",
    "Подробнее тут: https://spark.apache.org/docs/latest/ml-classification-regression.html"
   ]
  },
  {
   "cell_type": "code",
   "execution_count": null,
   "metadata": {
    "id": "saTc8AVOLiJq"
   },
   "outputs": [],
   "source": [
    "# код"
   ]
  },
  {
   "cell_type": "code",
   "execution_count": null,
   "metadata": {
    "id": "yKMztZ2eOOrE"
   },
   "outputs": [],
   "source": [
    "id='1kUIrskM0zNH8u71G9M1BkHjRQYxvgAvh'\n",
    "downloaded = drive.CreateFile({'id': id})\n",
    "downloaded.GetContentFile('data.zip')\n",
    "!unzip data.zip"
   ]
  },
  {
   "cell_type": "markdown",
   "metadata": {
    "id": "v43K2fDAjUYb"
   },
   "source": [
    "Кто получает больше всего? Кто меньше всего?"
   ]
  },
  {
   "cell_type": "code",
   "execution_count": null,
   "metadata": {
    "id": "Zm15EW8znWDo"
   },
   "outputs": [],
   "source": [
    "# код"
   ]
  },
  {
   "cell_type": "markdown",
   "metadata": {
    "id": "zg8-rkFlkMqm"
   },
   "source": [
    "Выведете топ 5 по зарплате."
   ]
  },
  {
   "cell_type": "code",
   "execution_count": null,
   "metadata": {
    "id": "SMzJ_tJhnWuV"
   },
   "outputs": [],
   "source": [
    "# код"
   ]
  },
  {
   "cell_type": "markdown",
   "metadata": {
    "id": "JfBpDVYwkM7K"
   },
   "source": [
    "Сколько всего регионов? Сколько работников в каждом регионе?"
   ]
  },
  {
   "cell_type": "code",
   "execution_count": null,
   "metadata": {
    "id": "w2d2AiBknYSo"
   },
   "outputs": [],
   "source": [
    "# код"
   ]
  },
  {
   "cell_type": "markdown",
   "metadata": {
    "id": "OOY2unJ8kNXz"
   },
   "source": [
    "Выведете всех работников из Китая."
   ]
  },
  {
   "cell_type": "code",
   "execution_count": null,
   "metadata": {
    "id": "5Lhj9GAwnZgK"
   },
   "outputs": [],
   "source": [
    "# код"
   ]
  },
  {
   "cell_type": "markdown",
   "metadata": {
    "id": "s1Nc8F-6kNR7"
   },
   "source": [
    "Укажите самую высокооплачиваемою должность."
   ]
  },
  {
   "cell_type": "code",
   "execution_count": null,
   "metadata": {
    "id": "-ZNAohM-naSr"
   },
   "outputs": [],
   "source": [
    "# код"
   ]
  },
  {
   "cell_type": "markdown",
   "metadata": {
    "id": "dzenJwUnkNL8"
   },
   "source": [
    "Выведете всех работников связанных с ИТ. Выведете их менеджеров. "
   ]
  },
  {
   "cell_type": "code",
   "execution_count": null,
   "metadata": {
    "id": "eogYiLjXna3h"
   },
   "outputs": [],
   "source": [
    "# код"
   ]
  },
  {
   "cell_type": "markdown",
   "metadata": {
    "id": "tvpCoeYPmLTW"
   },
   "source": [
    "Выведете имя и фамилию работника, его текущую и предыдущую должности и сколько полных недель и дней прошло с момент изменения. \n",
    "\n"
   ]
  },
  {
   "cell_type": "code",
   "execution_count": null,
   "metadata": {
    "id": "SkCvyzkVnbo6"
   },
   "outputs": [],
   "source": [
    "# код"
   ]
  },
  {
   "cell_type": "markdown",
   "metadata": {
    "id": "sOBhGAaanC0e"
   },
   "source": [
    "Выведете уникальные телефонные номера"
   ]
  },
  {
   "cell_type": "code",
   "execution_count": null,
   "metadata": {
    "id": "05BrXyrsncKf"
   },
   "outputs": [],
   "source": [
    "# код"
   ]
  },
  {
   "cell_type": "markdown",
   "metadata": {
    "id": "qdf1VBv3nMR-"
   },
   "source": [
    "Есть ли сотрудники с одинаковыми фамилиями и сколько их."
   ]
  },
  {
   "cell_type": "code",
   "execution_count": null,
   "metadata": {
    "id": "apTLX1o6jy6K"
   },
   "outputs": [],
   "source": [
    "# код"
   ]
  }
 ],
 "metadata": {
  "colab": {
   "collapsed_sections": [],
   "name": "HW6_DE",
   "provenance": []
  },
  "kernelspec": {
   "display_name": "Python 3",
   "language": "python",
   "name": "python3"
  },
  "language_info": {
   "codemirror_mode": {
    "name": "ipython",
    "version": 3
   },
   "file_extension": ".py",
   "mimetype": "text/x-python",
   "name": "python",
   "nbconvert_exporter": "python",
   "pygments_lexer": "ipython3",
   "version": "3.7.7"
  }
 },
 "nbformat": 4,
 "nbformat_minor": 1
}
