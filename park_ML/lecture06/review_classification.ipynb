{
 "cells": [
  {
   "cell_type": "markdown",
   "metadata": {
    "toc": true
   },
   "source": [
    "<h1>Table of Contents<span class=\"tocSkip\"></span></h1>\n",
    "<div class=\"toc\"><ul class=\"toc-item\"><li><span><a href=\"#Где-брать-данные?\" data-toc-modified-id=\"Где-брать-данные?-1\"><span class=\"toc-item-num\">1&nbsp;&nbsp;</span>Где брать данные?</a></span></li><li><span><a href=\"#Exploratory-Data-Analysis\" data-toc-modified-id=\"Exploratory-Data-Analysis-2\"><span class=\"toc-item-num\">2&nbsp;&nbsp;</span>Exploratory Data Analysis</a></span><ul class=\"toc-item\"><li><ul class=\"toc-item\"><li><span><a href=\"#Какие-бывают-значения-рейтинга?\" data-toc-modified-id=\"Какие-бывают-значения-рейтинга?-2.0.1\"><span class=\"toc-item-num\">2.0.1&nbsp;&nbsp;</span>Какие бывают значения рейтинга?</a></span></li><li><span><a href=\"#Добавьте-целевую-переменную\" data-toc-modified-id=\"Добавьте-целевую-переменную-2.0.2\"><span class=\"toc-item-num\">2.0.2&nbsp;&nbsp;</span>Добавьте целевую переменную</a></span></li><li><span><a href=\"#Худший-и-лучший-банк\" data-toc-modified-id=\"Худший-и-лучший-банк-2.0.3\"><span class=\"toc-item-num\">2.0.3&nbsp;&nbsp;</span>Худший и лучший банк</a></span></li><li><span><a href=\"#Отличается-ли-длина-у-хороших-и-плохих-отзывов?\" data-toc-modified-id=\"Отличается-ли-длина-у-хороших-и-плохих-отзывов?-2.0.4\"><span class=\"toc-item-num\">2.0.4&nbsp;&nbsp;</span>Отличается ли длина у хороших и плохих отзывов?</a></span></li><li><span><a href=\"#Отличается-ли-распределение-количества-восклицательных-знаков?\" data-toc-modified-id=\"Отличается-ли-распределение-количества-восклицательных-знаков?-2.0.5\"><span class=\"toc-item-num\">2.0.5&nbsp;&nbsp;</span>Отличается ли распределение количества восклицательных знаков?</a></span></li></ul></li></ul></li><li><span><a href=\"#Бейзлайн-модель-классификации\" data-toc-modified-id=\"Бейзлайн-модель-классификации-3\"><span class=\"toc-item-num\">3&nbsp;&nbsp;</span>Бейзлайн модель классификации</a></span></li><li><span><a href=\"#Обработка-текста\" data-toc-modified-id=\"Обработка-текста-4\"><span class=\"toc-item-num\">4&nbsp;&nbsp;</span>Обработка текста</a></span><ul class=\"toc-item\"><li><span><a href=\"#Модель-на-словах.-CountVectorizer\" data-toc-modified-id=\"Модель-на-словах.-CountVectorizer-4.1\"><span class=\"toc-item-num\">4.1&nbsp;&nbsp;</span>Модель на словах. CountVectorizer</a></span></li><li><span><a href=\"#Модель-на-n-gram'ах-символов.-TfidfVectorizer\" data-toc-modified-id=\"Модель-на-n-gram'ах-символов.-TfidfVectorizer-4.2\"><span class=\"toc-item-num\">4.2&nbsp;&nbsp;</span>Модель на n-gram'ах символов. TfidfVectorizer</a></span></li><li><span><a href=\"#Подбор-параметров-с-помощью-кросс-валидации\" data-toc-modified-id=\"Подбор-параметров-с-помощью-кросс-валидации-4.3\"><span class=\"toc-item-num\">4.3&nbsp;&nbsp;</span>Подбор параметров с помощью кросс-валидации</a></span></li><li><span><a href=\"#Объединение-признаков\" data-toc-modified-id=\"Объединение-признаков-4.4\"><span class=\"toc-item-num\">4.4&nbsp;&nbsp;</span>Объединение признаков</a></span></li><li><span><a href=\"#Визуализация-отзывов\" data-toc-modified-id=\"Визуализация-отзывов-4.5\"><span class=\"toc-item-num\">4.5&nbsp;&nbsp;</span>Визуализация отзывов</a></span></li></ul></li><li><span><a href=\"#Проблемы-анализа-тональности\" data-toc-modified-id=\"Проблемы-анализа-тональности-5\"><span class=\"toc-item-num\">5&nbsp;&nbsp;</span>Проблемы анализа тональности</a></span></li></ul></div>"
   ]
  },
  {
   "cell_type": "code",
   "execution_count": null,
   "metadata": {
    "ExecuteTime": {
     "end_time": "2020-11-03T11:04:55.023170Z",
     "start_time": "2020-11-03T11:04:51.178186Z"
    }
   },
   "outputs": [],
   "source": [
    "import json\n",
    "import re\n",
    "import requests\n",
    "\n",
    "import nltk\n",
    "nltk.download('stopwords')\n",
    "import pandas as pd\n",
    "import numpy as np\n",
    "import matplotlib.pyplot as plt\n",
    "plt.style.use('ggplot')\n",
    "from bs4 import BeautifulSoup\n",
    "from sklearn.model_selection import train_test_split, GridSearchCV\n",
    "from sklearn.preprocessing  import StandardScaler\n",
    "from sklearn.feature_extraction.text import TfidfVectorizer, CountVectorizer\n",
    "from sklearn.linear_model import LogisticRegression, SGDClassifier\n",
    "from sklearn.tree import DecisionTreeClassifier, plot_tree\n",
    "from sklearn.pipeline import Pipeline, FeatureUnion\n",
    "from sklearn.metrics import f1_score\n",
    "from IPython.core.display import HTML, display"
   ]
  },
  {
   "cell_type": "code",
   "execution_count": null,
   "metadata": {
    "ExecuteTime": {
     "end_time": "2020-11-02T22:11:59.526663Z",
     "start_time": "2020-11-02T22:11:59.524022Z"
    }
   },
   "outputs": [],
   "source": [
    "SEED = 42\n",
    "\n",
    "DATA_PATH = './data/parsed_reviews.csv.gz'"
   ]
  },
  {
   "cell_type": "code",
   "execution_count": null,
   "metadata": {},
   "outputs": [],
   "source": [
    "# Uncomment if you are using colab\n",
    "# !mkdir ./data\n",
    "# !wget https://raw.githubusercontent.com/vadim0912/park_ML/master/lecture06/data/parsed_reviews.csv.gz -O $DATA_PATH"
   ]
  },
  {
   "cell_type": "markdown",
   "metadata": {},
   "source": [
    "# Где брать данные?"
   ]
  },
  {
   "cell_type": "code",
   "execution_count": null,
   "metadata": {
    "ExecuteTime": {
     "end_time": "2020-11-02T22:02:45.240716Z",
     "start_time": "2020-11-02T22:02:45.236052Z"
    }
   },
   "outputs": [],
   "source": [
    "base_url = 'https://www.banki.ru/services/responses/list/?page={page}'\n",
    "\n",
    "print(base_url.format(page=1))"
   ]
  },
  {
   "cell_type": "code",
   "execution_count": null,
   "metadata": {
    "ExecuteTime": {
     "end_time": "2020-11-02T22:02:46.382677Z",
     "start_time": "2020-11-02T22:02:45.820614Z"
    }
   },
   "outputs": [],
   "source": [
    "response = requests.get(base_url.format(page=1))"
   ]
  },
  {
   "cell_type": "code",
   "execution_count": null,
   "metadata": {
    "ExecuteTime": {
     "end_time": "2020-11-02T22:02:46.460964Z",
     "start_time": "2020-11-02T22:02:46.385597Z"
    }
   },
   "outputs": [],
   "source": [
    "soup = BeautifulSoup(response.content, \"lxml\")\n",
    "\n",
    "results = soup.find_all('script', {\"type\": \"application/ld+json\"})"
   ]
  },
  {
   "cell_type": "markdown",
   "metadata": {
    "ExecuteTime": {
     "end_time": "2020-10-30T21:16:23.760727Z",
     "start_time": "2020-10-30T21:16:23.698135Z"
    }
   },
   "source": [
    "# Exploratory Data Analysis"
   ]
  },
  {
   "cell_type": "code",
   "execution_count": null,
   "metadata": {
    "ExecuteTime": {
     "end_time": "2020-11-02T13:32:46.346883Z",
     "start_time": "2020-11-02T13:32:46.140215Z"
    }
   },
   "outputs": [],
   "source": [
    "!ls -lah $DATA_PATH"
   ]
  },
  {
   "cell_type": "code",
   "execution_count": null,
   "metadata": {
    "ExecuteTime": {
     "end_time": "2020-11-02T13:32:50.577836Z",
     "start_time": "2020-11-02T13:32:49.045479Z"
    }
   },
   "outputs": [],
   "source": [
    "!gunzip -c $DATA_PATH | wc -l"
   ]
  },
  {
   "cell_type": "code",
   "execution_count": null,
   "metadata": {
    "ExecuteTime": {
     "end_time": "2020-11-02T13:29:57.763773Z",
     "start_time": "2020-11-02T13:29:57.636450Z"
    }
   },
   "outputs": [],
   "source": [
    "head_df = pd.read_csv(DATA_PATH, nrows=10)\n",
    "\n",
    "head_df"
   ]
  },
  {
   "cell_type": "code",
   "execution_count": null,
   "metadata": {
    "ExecuteTime": {
     "end_time": "2020-11-02T22:12:07.186634Z",
     "start_time": "2020-11-02T22:12:03.958464Z"
    }
   },
   "outputs": [],
   "source": [
    "df = pd.read_csv(DATA_PATH, nrows=100_000)"
   ]
  },
  {
   "cell_type": "markdown",
   "metadata": {},
   "source": [
    "### Какие бывают значения рейтинга?"
   ]
  },
  {
   "cell_type": "code",
   "execution_count": null,
   "metadata": {},
   "outputs": [],
   "source": []
  },
  {
   "cell_type": "markdown",
   "metadata": {},
   "source": [
    "### Добавьте целевую переменную\n",
    "* $y = 1$, если рейтинг высокий\n",
    "* $y = 0$, если рейтинг низкий"
   ]
  },
  {
   "cell_type": "code",
   "execution_count": null,
   "metadata": {
    "ExecuteTime": {
     "end_time": "2020-11-02T22:12:07.219725Z",
     "start_time": "2020-11-02T22:12:07.189244Z"
    }
   },
   "outputs": [],
   "source": [
    "df = df[df.rating != 3].reset_index(drop=True)"
   ]
  },
  {
   "cell_type": "code",
   "execution_count": null,
   "metadata": {
    "ExecuteTime": {
     "end_time": "2020-11-02T22:12:07.272991Z",
     "start_time": "2020-11-02T22:12:07.221942Z"
    }
   },
   "outputs": [],
   "source": [
    "df['y'] = df.rating.apply(lambda x: int(x > 3)).values"
   ]
  },
  {
   "cell_type": "code",
   "execution_count": null,
   "metadata": {
    "ExecuteTime": {
     "end_time": "2020-11-02T12:51:16.913980Z",
     "start_time": "2020-11-02T12:51:16.902735Z"
    }
   },
   "outputs": [],
   "source": [
    "df.head()"
   ]
  },
  {
   "cell_type": "markdown",
   "metadata": {},
   "source": [
    "какой баланс классов?"
   ]
  },
  {
   "cell_type": "code",
   "execution_count": null,
   "metadata": {},
   "outputs": [],
   "source": []
  },
  {
   "cell_type": "markdown",
   "metadata": {},
   "source": [
    "### Худший и лучший банк"
   ]
  },
  {
   "cell_type": "code",
   "execution_count": null,
   "metadata": {
    "ExecuteTime": {
     "end_time": "2020-11-02T12:51:18.633325Z",
     "start_time": "2020-11-02T12:51:18.590801Z"
    }
   },
   "outputs": [],
   "source": [
    "stat = (\n",
    "    df[['bank_name',  'date', 'rating']]\n",
    "    .groupby('bank_name', as_index=False)\n",
    "    .agg({'date': 'count', 'rating': 'mean'})\n",
    "    .rename({'date': 'review_count', 'rating': 'mean_rating'}, axis=1)\n",
    ")"
   ]
  },
  {
   "cell_type": "code",
   "execution_count": null,
   "metadata": {
    "ExecuteTime": {
     "end_time": "2020-11-02T12:51:18.987078Z",
     "start_time": "2020-11-02T12:51:18.973954Z"
    }
   },
   "outputs": [],
   "source": [
    "(\n",
    "    stat[stat['review_count'] > 3_000]\n",
    "    .sort_values('mean_rating', ascending=False)\n",
    ")"
   ]
  },
  {
   "cell_type": "markdown",
   "metadata": {},
   "source": [
    "### Отличается ли длина у хороших и плохих отзывов?\n",
    "\n",
    "посчитайте длины хороших и плохих отзывов"
   ]
  },
  {
   "cell_type": "code",
   "execution_count": null,
   "metadata": {
    "ExecuteTime": {
     "end_time": "2020-11-02T12:51:20.390878Z",
     "start_time": "2020-11-02T12:51:20.297911Z"
    }
   },
   "outputs": [],
   "source": [
    "body_len_0 = \n",
    "body_len_1 = "
   ]
  },
  {
   "cell_type": "markdown",
   "metadata": {},
   "source": [
    "постройте гистограммы для для хороших и плохих отзывов (ограничьте максимальную длину `max_body_length`)"
   ]
  },
  {
   "cell_type": "code",
   "execution_count": null,
   "metadata": {
    "ExecuteTime": {
     "end_time": "2020-11-02T12:58:07.587387Z",
     "start_time": "2020-11-02T12:58:07.544702Z"
    }
   },
   "outputs": [],
   "source": [
    "max_body_length = 5_000\n",
    "\n",
    "bins=100\n",
    "alpha=0.5\n",
    "\n"
   ]
  },
  {
   "cell_type": "markdown",
   "metadata": {},
   "source": [
    "отличаются ли медианы распределений?"
   ]
  },
  {
   "cell_type": "code",
   "execution_count": null,
   "metadata": {},
   "outputs": [],
   "source": []
  },
  {
   "cell_type": "markdown",
   "metadata": {},
   "source": [
    "### Отличается ли распределение количества восклицательных знаков?"
   ]
  },
  {
   "cell_type": "code",
   "execution_count": null,
   "metadata": {
    "ExecuteTime": {
     "end_time": "2020-11-02T12:51:52.173572Z",
     "start_time": "2020-11-02T12:51:51.861156Z"
    }
   },
   "outputs": [],
   "source": [
    "body_exclamation_0 = df[df.y == 0].body.str.count('!')\n",
    "body_exclamation_1 = df[df.y == 1].body.str.count('!')\n",
    "\n",
    "title_exclamation_0 = df[df.y == 0].title.str.count('!')\n",
    "title_exclamation_1 = df[df.y == 1].title.str.count('!')"
   ]
  },
  {
   "cell_type": "code",
   "execution_count": null,
   "metadata": {
    "ExecuteTime": {
     "end_time": "2020-11-02T12:51:52.758430Z",
     "start_time": "2020-11-02T12:51:52.380976Z"
    }
   },
   "outputs": [],
   "source": [
    "max_symbols = 25\n",
    "title_max_symbols = 10\n",
    "\n",
    "plt.hist(\n",
    "    body_exclamation_1[body_exclamation_1 <= max_symbols],\n",
    "    label=r'$y = 1$', bins=max_symbols, alpha=alpha\n",
    ")\n",
    "plt.hist(\n",
    "    body_exclamation_0[body_exclamation_0 <= max_symbols],\n",
    "    label=r'$y = 0$', bins=max_symbols, alpha=alpha\n",
    ")\n",
    "plt.legend()\n",
    "plt.show()\n",
    "\n",
    "plt.hist(\n",
    "    title_exclamation_1[title_exclamation_1 <= title_max_symbols],\n",
    "    label=r'$y = 1$', bins=title_max_symbols, alpha=alpha\n",
    ")\n",
    "plt.hist(\n",
    "    title_exclamation_0[title_exclamation_0 <= title_max_symbols],\n",
    "    label=r'$y = 0$', bins=title_max_symbols, alpha=alpha\n",
    ")\n",
    "plt.legend()\n",
    "plt.show()"
   ]
  },
  {
   "cell_type": "code",
   "execution_count": null,
   "metadata": {
    "ExecuteTime": {
     "end_time": "2020-11-02T12:51:53.320618Z",
     "start_time": "2020-11-02T12:51:53.315275Z"
    }
   },
   "outputs": [],
   "source": [
    "np.median(body_exclamation_0), np.median(body_exclamation_1)"
   ]
  },
  {
   "cell_type": "markdown",
   "metadata": {},
   "source": [
    "# Бейзлайн модель классификации"
   ]
  },
  {
   "cell_type": "code",
   "execution_count": null,
   "metadata": {
    "ExecuteTime": {
     "end_time": "2020-11-02T22:12:12.970047Z",
     "start_time": "2020-11-02T22:12:12.587706Z"
    }
   },
   "outputs": [],
   "source": [
    "df['body_len'] = df.body.str.len()\n",
    "df['title_len'] = df.title.str.len()\n",
    "df['body_!'] = df.body.str.count('!')\n",
    "df['title_!'] = df.title.str.count('!')\n",
    "\n",
    "baseline_features = ['body_len', 'title_len', 'body_!', 'title_!']"
   ]
  },
  {
   "cell_type": "code",
   "execution_count": null,
   "metadata": {
    "ExecuteTime": {
     "end_time": "2020-11-02T22:12:13.292480Z",
     "start_time": "2020-11-02T22:12:13.239044Z"
    }
   },
   "outputs": [],
   "source": [
    "df_train, df_test = train_test_split(df, test_size=0.2, random_state=SEED)\n",
    "df_train, df_val = train_test_split(df_train, test_size=0.2, random_state=SEED)"
   ]
  },
  {
   "cell_type": "code",
   "execution_count": null,
   "metadata": {
    "ExecuteTime": {
     "end_time": "2020-11-02T22:12:13.496307Z",
     "start_time": "2020-11-02T22:12:13.489323Z"
    }
   },
   "outputs": [],
   "source": [
    "x_train = df_train[baseline_features].values\n",
    "y_train = df_train.y.values\n",
    "\n",
    "x_val = df_val[baseline_features].values\n",
    "y_val = df_val.y.values"
   ]
  },
  {
   "cell_type": "code",
   "execution_count": null,
   "metadata": {
    "ExecuteTime": {
     "end_time": "2020-11-02T12:51:57.778765Z",
     "start_time": "2020-11-02T12:51:57.692723Z"
    }
   },
   "outputs": [],
   "source": [
    "baseline = Pipeline([\n",
    "    ('scaler', StandardScaler()),\n",
    "    ('clf', LogisticRegression(random_state=SEED, solver='lbfgs', class_weight='balanced'))\n",
    "]).fit(x_train, y_train)"
   ]
  },
  {
   "cell_type": "code",
   "execution_count": null,
   "metadata": {
    "ExecuteTime": {
     "end_time": "2020-11-02T12:51:58.297021Z",
     "start_time": "2020-11-02T12:51:58.259758Z"
    }
   },
   "outputs": [],
   "source": [
    "y_train_pred = baseline.predict(x_train)\n",
    "f1_score(y_train, y_train_pred)"
   ]
  },
  {
   "cell_type": "code",
   "execution_count": null,
   "metadata": {
    "ExecuteTime": {
     "end_time": "2020-11-02T12:51:58.894423Z",
     "start_time": "2020-11-02T12:51:58.881151Z"
    }
   },
   "outputs": [],
   "source": [
    "y_val_pred = baseline.predict(x_val)\n",
    "f1_score(y_val, y_val_pred)"
   ]
  },
  {
   "cell_type": "markdown",
   "metadata": {},
   "source": [
    "оцените важность признаков. проинтерпретируйте полученный результат"
   ]
  },
  {
   "cell_type": "code",
   "execution_count": null,
   "metadata": {},
   "outputs": [],
   "source": []
  },
  {
   "cell_type": "markdown",
   "metadata": {},
   "source": [
    "# Обработка текста"
   ]
  },
  {
   "cell_type": "markdown",
   "metadata": {},
   "source": [
    "## Модель на словах. CountVectorizer"
   ]
  },
  {
   "cell_type": "code",
   "execution_count": null,
   "metadata": {
    "ExecuteTime": {
     "end_time": "2020-11-02T22:12:19.964342Z",
     "start_time": "2020-11-02T22:12:19.958893Z"
    }
   },
   "outputs": [],
   "source": [
    "stop_words = nltk.corpus.stopwords.words('russian')"
   ]
  },
  {
   "cell_type": "code",
   "execution_count": null,
   "metadata": {
    "ExecuteTime": {
     "end_time": "2020-11-02T22:12:20.245464Z",
     "start_time": "2020-11-02T22:12:20.241178Z"
    }
   },
   "outputs": [],
   "source": [
    "count_model = Pipeline([\n",
    "    (\n",
    "        'vectorizer',\n",
    "        CountVectorizer(\n",
    "            lowercase=True, ngram_range=(1, 1), token_pattern=\"[а-яё]+\",\n",
    "            stop_words=stop_words, min_df=3, max_df=0.8\n",
    "        )\n",
    "    ),\n",
    "    ('clf', SGDClassifier(random_state=SEED, loss='log', class_weight='balanced'))\n",
    "])"
   ]
  },
  {
   "cell_type": "code",
   "execution_count": null,
   "metadata": {
    "ExecuteTime": {
     "end_time": "2020-11-02T22:12:21.428842Z",
     "start_time": "2020-11-02T22:12:21.426050Z"
    }
   },
   "outputs": [],
   "source": [
    "x_train = df_train['body'].values\n",
    "x_val = df_val['body'].values"
   ]
  },
  {
   "cell_type": "code",
   "execution_count": null,
   "metadata": {
    "ExecuteTime": {
     "end_time": "2020-11-02T22:12:30.455836Z",
     "start_time": "2020-11-02T22:12:22.217057Z"
    }
   },
   "outputs": [],
   "source": [
    "count_model.fit(x_train, y_train)"
   ]
  },
  {
   "cell_type": "code",
   "execution_count": null,
   "metadata": {
    "ExecuteTime": {
     "end_time": "2020-11-02T22:04:30.950329Z",
     "start_time": "2020-11-02T22:04:30.947942Z"
    }
   },
   "outputs": [],
   "source": [
    "vectorizer = count_model.steps[0][1]"
   ]
  },
  {
   "cell_type": "code",
   "execution_count": null,
   "metadata": {
    "ExecuteTime": {
     "end_time": "2020-11-02T22:04:31.889174Z",
     "start_time": "2020-11-02T22:04:31.829572Z"
    }
   },
   "outputs": [],
   "source": [
    "features = vectorizer.get_feature_names()\n",
    "\n",
    "len(features)"
   ]
  },
  {
   "cell_type": "code",
   "execution_count": null,
   "metadata": {
    "ExecuteTime": {
     "start_time": "2020-11-02T22:10:36.360Z"
    }
   },
   "outputs": [],
   "source": []
  },
  {
   "cell_type": "code",
   "execution_count": null,
   "metadata": {
    "ExecuteTime": {
     "end_time": "2020-11-02T22:04:48.747458Z",
     "start_time": "2020-11-02T22:04:41.365090Z"
    }
   },
   "outputs": [],
   "source": [
    "f1_score(y_train, count_model.predict(x_train))"
   ]
  },
  {
   "cell_type": "code",
   "execution_count": null,
   "metadata": {
    "ExecuteTime": {
     "end_time": "2020-11-01T20:04:32.422044Z",
     "start_time": "2020-11-01T20:04:30.290109Z"
    }
   },
   "outputs": [],
   "source": [
    "f1_score(y_val, count_model.predict(x_val))"
   ]
  },
  {
   "cell_type": "code",
   "execution_count": null,
   "metadata": {
    "ExecuteTime": {
     "end_time": "2020-11-01T20:04:37.407138Z",
     "start_time": "2020-11-01T20:04:37.393008Z"
    }
   },
   "outputs": [],
   "source": [
    "tree_model = Pipeline([\n",
    "    (\n",
    "        'vectorizer',\n",
    "        CountVectorizer(\n",
    "            lowercase=True, ngram_range=(1, 1), token_pattern=\"[а-яё]+\",\n",
    "            stop_words=stop_words, min_df=3, max_df=0.8\n",
    "        )\n",
    "    ),\n",
    "    ('clf', DecisionTreeClassifier(random_state=SEED, criterion='entropy', max_depth=100))\n",
    "])"
   ]
  },
  {
   "cell_type": "markdown",
   "metadata": {},
   "source": [
    "обучите деревянную модель. сравните качество на тренировочном и валидационном наборах"
   ]
  },
  {
   "cell_type": "code",
   "execution_count": null,
   "metadata": {},
   "outputs": [],
   "source": []
  },
  {
   "cell_type": "code",
   "execution_count": null,
   "metadata": {
    "ExecuteTime": {
     "end_time": "2020-11-01T20:07:02.253705Z",
     "start_time": "2020-11-01T20:07:02.251088Z"
    }
   },
   "outputs": [],
   "source": [
    "clf = tree_model.steps[1][1]"
   ]
  },
  {
   "cell_type": "code",
   "execution_count": null,
   "metadata": {
    "ExecuteTime": {
     "end_time": "2020-11-01T20:07:04.327294Z",
     "start_time": "2020-11-01T20:07:03.253512Z"
    }
   },
   "outputs": [],
   "source": [
    "plt.style.use('default')\n",
    "plt.figure(figsize=(28,12))\n",
    "plot_tree(\n",
    "    clf, max_depth=3, fontsize=14, filled=True, precision=0, label='root',\n",
    "    impurity=False, feature_names=tree_model.steps[0][1].get_feature_names()\n",
    ");"
   ]
  },
  {
   "cell_type": "code",
   "execution_count": null,
   "metadata": {},
   "outputs": [],
   "source": [
    "plt.style.use('ggplot')"
   ]
  },
  {
   "cell_type": "markdown",
   "metadata": {},
   "source": [
    "## Модель на n-gram'ах символов. TfidfVectorizer"
   ]
  },
  {
   "cell_type": "code",
   "execution_count": null,
   "metadata": {
    "ExecuteTime": {
     "end_time": "2020-11-01T20:07:51.887020Z",
     "start_time": "2020-11-01T20:07:51.882890Z"
    }
   },
   "outputs": [],
   "source": [
    "def preprocessor(text):\n",
    "    whitespaced_text = re.sub(\"[^а-яё!:)(]\", ' ', text.lower())\n",
    "    return re.sub(' +', ' ',  whitespaced_text)"
   ]
  },
  {
   "cell_type": "code",
   "execution_count": null,
   "metadata": {
    "ExecuteTime": {
     "end_time": "2020-11-01T20:07:52.128415Z",
     "start_time": "2020-11-01T20:07:52.122482Z"
    }
   },
   "outputs": [],
   "source": [
    "char_tfidf_model = Pipeline([\n",
    "    (\n",
    "        'vectorizer',\n",
    "        TfidfVectorizer(\n",
    "            lowercase=True, ngram_range=(2, 4), analyzer='char',\n",
    "            preprocessor=preprocessor, min_df=5, max_df=0.8\n",
    "        )\n",
    "    ),\n",
    "    ('clf', SGDClassifier(random_state=SEED, loss='log', class_weight='balanced'))\n",
    "])"
   ]
  },
  {
   "cell_type": "code",
   "execution_count": null,
   "metadata": {
    "ExecuteTime": {
     "end_time": "2020-11-01T20:10:16.452367Z",
     "start_time": "2020-11-01T20:07:52.522053Z"
    }
   },
   "outputs": [],
   "source": [
    "char_tfidf_model.fit(x_train, y_train)"
   ]
  },
  {
   "cell_type": "code",
   "execution_count": null,
   "metadata": {
    "ExecuteTime": {
     "end_time": "2020-11-01T20:10:31.807228Z",
     "start_time": "2020-11-01T20:10:31.640215Z"
    }
   },
   "outputs": [],
   "source": [
    "len(char_tfidf_model.steps[0][1].get_feature_names())"
   ]
  },
  {
   "cell_type": "code",
   "execution_count": null,
   "metadata": {
    "ExecuteTime": {
     "end_time": "2020-11-01T20:10:33.102891Z",
     "start_time": "2020-11-01T20:10:33.097687Z"
    }
   },
   "outputs": [],
   "source": [
    "weights = char_tfidf_model.steps[1][1].coef_[0]"
   ]
  },
  {
   "cell_type": "code",
   "execution_count": null,
   "metadata": {
    "ExecuteTime": {
     "end_time": "2020-11-01T20:10:33.796350Z",
     "start_time": "2020-11-01T20:10:33.672734Z"
    }
   },
   "outputs": [],
   "source": [
    "feature_names = np.array(\n",
    "    char_tfidf_model.steps[0][1].get_feature_names()\n",
    ")"
   ]
  },
  {
   "cell_type": "code",
   "execution_count": null,
   "metadata": {
    "ExecuteTime": {
     "end_time": "2020-11-01T20:10:35.046449Z",
     "start_time": "2020-11-01T20:10:35.034295Z"
    }
   },
   "outputs": [],
   "source": [
    "order = weights.argsort()"
   ]
  },
  {
   "cell_type": "code",
   "execution_count": null,
   "metadata": {
    "ExecuteTime": {
     "end_time": "2020-11-01T20:10:35.973069Z",
     "start_time": "2020-11-01T20:10:35.951983Z"
    }
   },
   "outputs": [],
   "source": [
    "feature_names[order][-20:]"
   ]
  },
  {
   "cell_type": "code",
   "execution_count": null,
   "metadata": {
    "ExecuteTime": {
     "end_time": "2020-11-01T20:14:34.606956Z",
     "start_time": "2020-11-01T20:12:16.283939Z"
    }
   },
   "outputs": [],
   "source": [
    "f1_score(y_train, char_tfidf_model.predict(x_train))"
   ]
  },
  {
   "cell_type": "code",
   "execution_count": null,
   "metadata": {
    "ExecuteTime": {
     "end_time": "2020-11-01T20:11:56.922926Z",
     "start_time": "2020-11-01T20:11:23.379226Z"
    }
   },
   "outputs": [],
   "source": [
    "f1_score(y_val, char_tfidf_model.predict(x_val))"
   ]
  },
  {
   "cell_type": "markdown",
   "metadata": {},
   "source": [
    "## Подбор параметров с помощью кросс-валидации"
   ]
  },
  {
   "cell_type": "code",
   "execution_count": null,
   "metadata": {
    "ExecuteTime": {
     "end_time": "2020-11-01T15:41:39.005128Z",
     "start_time": "2020-11-01T15:41:38.995053Z"
    }
   },
   "outputs": [],
   "source": [
    "parameters = {\n",
    "    'vectorizer__max_df': (0.5, 0.75),\n",
    "    'vectorizer__min_df': (3, 5, 7),\n",
    "    'clf__alpha': (0.0001, 0.001, 0.01),\n",
    "}"
   ]
  },
  {
   "cell_type": "code",
   "execution_count": null,
   "metadata": {
    "ExecuteTime": {
     "end_time": "2020-11-01T15:41:41.976036Z",
     "start_time": "2020-11-01T15:41:41.970666Z"
    }
   },
   "outputs": [],
   "source": [
    "grid_search = GridSearchCV(count_model, parameters, cv=3, n_jobs=-1, scoring='f1', verbose=1)"
   ]
  },
  {
   "cell_type": "code",
   "execution_count": null,
   "metadata": {
    "ExecuteTime": {
     "end_time": "2020-11-01T15:52:16.227190Z",
     "start_time": "2020-11-01T15:41:43.308381Z"
    }
   },
   "outputs": [],
   "source": [
    "grid_search.fit(x_train, y_train)"
   ]
  },
  {
   "cell_type": "code",
   "execution_count": null,
   "metadata": {
    "ExecuteTime": {
     "end_time": "2020-11-01T15:52:27.454641Z",
     "start_time": "2020-11-01T15:52:27.396825Z"
    }
   },
   "outputs": [],
   "source": [
    "best_parameters = grid_search.best_estimator_.get_params()"
   ]
  },
  {
   "cell_type": "code",
   "execution_count": null,
   "metadata": {
    "ExecuteTime": {
     "end_time": "2020-11-01T15:53:29.417542Z",
     "start_time": "2020-11-01T15:53:29.293627Z"
    }
   },
   "outputs": [],
   "source": [
    "for param_name in sorted(parameters.keys()):\n",
    "    print(\"\\t%s: %r\" % (param_name, best_parameters[param_name]))"
   ]
  },
  {
   "cell_type": "code",
   "execution_count": null,
   "metadata": {
    "ExecuteTime": {
     "end_time": "2020-11-01T15:56:56.485233Z",
     "start_time": "2020-11-01T15:56:55.730493Z"
    }
   },
   "outputs": [],
   "source": [
    "mean_score = grid_search.cv_results_['mean_test_score']\n",
    "std_score = grid_search.cv_results_['std_test_score']\n",
    "x = np.arange(0, mean_score.size)\n",
    "\n",
    "plt.errorbar(x, mean_score, yerr=std_score);"
   ]
  },
  {
   "cell_type": "code",
   "execution_count": null,
   "metadata": {
    "ExecuteTime": {
     "end_time": "2020-11-01T15:58:42.301196Z",
     "start_time": "2020-11-01T15:58:42.281711Z"
    }
   },
   "outputs": [],
   "source": [
    "grid_search.cv_results_"
   ]
  },
  {
   "cell_type": "code",
   "execution_count": null,
   "metadata": {
    "ExecuteTime": {
     "end_time": "2020-11-01T19:45:25.402941Z",
     "start_time": "2020-11-01T19:45:25.391081Z"
    }
   },
   "outputs": [],
   "source": [
    "cv_tuned_pipeline = grid_search.best_estimator_"
   ]
  },
  {
   "cell_type": "code",
   "execution_count": null,
   "metadata": {
    "ExecuteTime": {
     "end_time": "2020-11-01T19:45:39.570898Z",
     "start_time": "2020-11-01T19:45:29.597898Z"
    }
   },
   "outputs": [],
   "source": [
    "f1_score(\n",
    "    y_train,\n",
    "    cv_tuned_pipeline.predict(x_train)\n",
    ")"
   ]
  },
  {
   "cell_type": "code",
   "execution_count": null,
   "metadata": {
    "ExecuteTime": {
     "end_time": "2020-11-01T19:45:41.618182Z",
     "start_time": "2020-11-01T19:45:39.573347Z"
    }
   },
   "outputs": [],
   "source": [
    "f1_score(\n",
    "    y_val,\n",
    "    cv_tuned_pipeline.predict(x_val)\n",
    ")"
   ]
  },
  {
   "cell_type": "markdown",
   "metadata": {},
   "source": [
    "## Объединение признаков"
   ]
  },
  {
   "cell_type": "code",
   "execution_count": null,
   "metadata": {
    "ExecuteTime": {
     "end_time": "2020-11-01T16:06:47.978510Z",
     "start_time": "2020-11-01T16:06:47.971874Z"
    }
   },
   "outputs": [],
   "source": [
    "from sklearn.base import TransformerMixin\n",
    "\n",
    "\n",
    "class ColumnExtractor(TransformerMixin):\n",
    "    \n",
    "    def __init__(self, column_name):\n",
    "        self.column_name = column_name\n",
    "    \n",
    "    def fit(self, X, y=None):\n",
    "        return self\n",
    "    \n",
    "    def transform(self, X, y=None):\n",
    "        return X[self.column_name].values"
   ]
  },
  {
   "cell_type": "code",
   "execution_count": null,
   "metadata": {
    "ExecuteTime": {
     "end_time": "2020-11-01T16:06:48.336926Z",
     "start_time": "2020-11-01T16:06:48.334133Z"
    }
   },
   "outputs": [],
   "source": [
    "title_extractor = ColumnExtractor(column_name='title')"
   ]
  },
  {
   "cell_type": "code",
   "execution_count": null,
   "metadata": {
    "ExecuteTime": {
     "end_time": "2020-11-01T19:44:23.433907Z",
     "start_time": "2020-11-01T19:44:23.424595Z"
    }
   },
   "outputs": [],
   "source": [
    "title_extractor.fit(df_train)"
   ]
  },
  {
   "cell_type": "code",
   "execution_count": null,
   "metadata": {
    "ExecuteTime": {
     "end_time": "2020-11-01T16:06:48.822114Z",
     "start_time": "2020-11-01T16:06:48.722880Z"
    }
   },
   "outputs": [],
   "source": [
    "title_extractor.transform(df_train)"
   ]
  },
  {
   "cell_type": "code",
   "execution_count": null,
   "metadata": {
    "ExecuteTime": {
     "end_time": "2020-11-01T16:18:12.108749Z",
     "start_time": "2020-11-01T16:18:12.044049Z"
    }
   },
   "outputs": [],
   "source": [
    "pipeline = Pipeline([\n",
    "    (\n",
    "        'features', \n",
    "        FeatureUnion([\n",
    "            (\n",
    "                'title', \n",
    "                Pipeline([\n",
    "                    ('extractor', ColumnExtractor('title')),\n",
    "                    (\n",
    "                        'vectorizer', \n",
    "                        TfidfVectorizer(\n",
    "                            lowercase=True, ngram_range=(1, 2), token_pattern=\"[а-яё]+\",\n",
    "                            stop_words=stop_words, min_df=5, max_df=0.75\n",
    "                        )\n",
    "                    )\n",
    "                ])\n",
    "            ),\n",
    "            (\n",
    "                'body',\n",
    "                Pipeline([\n",
    "                    ('extractor', ColumnExtractor('body')),\n",
    "                    (\n",
    "                        'vectorizer', \n",
    "                        CountVectorizer(\n",
    "                            lowercase=True, ngram_range=(1, 1), token_pattern=\"[а-яё]+\",\n",
    "                            stop_words=stop_words, min_df=3, max_df=0.75\n",
    "                        )\n",
    "                    )\n",
    "                ])\n",
    "            )\n",
    "        ])\n",
    "    ),\n",
    "    ('clf', SGDClassifier(random_state=SEED, alpha=0.001, class_weight='balanced'))\n",
    "])"
   ]
  },
  {
   "cell_type": "code",
   "execution_count": null,
   "metadata": {
    "ExecuteTime": {
     "end_time": "2020-11-01T16:18:43.130985Z",
     "start_time": "2020-11-01T16:18:29.014578Z"
    }
   },
   "outputs": [],
   "source": [
    "pipeline.fit(df_train, y_train)"
   ]
  },
  {
   "cell_type": "code",
   "execution_count": null,
   "metadata": {
    "ExecuteTime": {
     "end_time": "2020-11-01T16:20:29.718496Z",
     "start_time": "2020-11-01T16:20:21.296289Z"
    }
   },
   "outputs": [],
   "source": [
    "f1_score(\n",
    "    y_train,\n",
    "    pipeline.predict(df_train)\n",
    ")"
   ]
  },
  {
   "cell_type": "code",
   "execution_count": null,
   "metadata": {
    "ExecuteTime": {
     "end_time": "2020-11-01T16:20:42.746206Z",
     "start_time": "2020-11-01T16:20:40.707499Z"
    }
   },
   "outputs": [],
   "source": [
    "f1_score(\n",
    "    y_val,\n",
    "    pipeline.predict(df_val)\n",
    ")"
   ]
  },
  {
   "cell_type": "markdown",
   "metadata": {},
   "source": [
    "получите признаки из векторизатора. посмотрите на добавленные биграммы"
   ]
  },
  {
   "cell_type": "code",
   "execution_count": null,
   "metadata": {},
   "outputs": [],
   "source": []
  },
  {
   "cell_type": "markdown",
   "metadata": {},
   "source": [
    "## Визуализация отзывов"
   ]
  },
  {
   "cell_type": "markdown",
   "metadata": {
    "ExecuteTime": {
     "end_time": "2020-11-01T21:14:31.607959Z",
     "start_time": "2020-11-01T21:14:31.540967Z"
    }
   },
   "source": [
    "Мы обучали модель классификации с помощью бинарной кросс-энтропии (log_loss):\n",
    "$$\n",
    "L = - y \\log\\left(\\hat{y}\\right) - (1 - y) \\log\\left(1 - \\hat{y}\\right)\n",
    "$$\n",
    "\n",
    "первое слагаемое в функции потерь отвечает за ложно-положительные срабатывания, второе — за ложно-отрицательные\n",
    "\n",
    "посмотрим, на каких примерах полученная модель сильнее всего ошибается в одну и другую сторону"
   ]
  },
  {
   "cell_type": "code",
   "execution_count": null,
   "metadata": {
    "ExecuteTime": {
     "end_time": "2020-11-01T20:45:58.698666Z",
     "start_time": "2020-11-01T20:45:56.261945Z"
    }
   },
   "outputs": [],
   "source": [
    "y_val_proba = count_model.predict_proba(x_val)[:, 1]\n",
    "\n",
    "y_val_rating = df_val.reset_index().rating.values"
   ]
  },
  {
   "cell_type": "code",
   "execution_count": null,
   "metadata": {
    "ExecuteTime": {
     "end_time": "2020-11-01T21:17:40.016058Z",
     "start_time": "2020-11-01T21:17:39.833568Z"
    }
   },
   "outputs": [],
   "source": [
    "def false_positive(y, y_proba, eps=1e-15):\n",
    "    if y:\n",
    "        return (-y) * np.log(y_proba + eps)\n",
    "    else:\n",
    "        return 0.0\n",
    "\n",
    "def false_negative(y, y_proba, eps=1e-15):\n",
    "    if y:\n",
    "        return 0.0\n",
    "    else:\n",
    "        return (y - 1) * np.log(1 - y_proba + eps)\n",
    "\n",
    "\n",
    "review_count = 5\n",
    "\n",
    "\n",
    "positive_error = np.array([false_positive(y, y_proba) for (y, y_proba) in zip(y_val, y_val_proba)])\n",
    "\n",
    "negative_error = np.array([false_negative(y, y_proba) for (y, y_proba) in zip(y_val, y_val_proba)])\n",
    "\n",
    "max_loss_ids = np.concatenate((\n",
    "    positive_error.argsort()[::-1][:review_count],\n",
    "    negative_error.argsort()[::-1][:review_count]\n",
    "))"
   ]
  },
  {
   "cell_type": "code",
   "execution_count": null,
   "metadata": {
    "ExecuteTime": {
     "end_time": "2020-11-01T21:17:42.023579Z",
     "start_time": "2020-11-01T21:17:41.790748Z"
    }
   },
   "outputs": [],
   "source": [
    "vectorizer = count_model.steps[0][1]\n",
    "\n",
    "token2id = {token: i for i, token in enumerate(vectorizer.get_feature_names())}\n",
    "\n",
    "importance = count_model.steps[1][1].coef_[0]\n",
    "\n",
    "min_importance = importance.min()\n",
    "max_importance = importance.max()"
   ]
  },
  {
   "cell_type": "code",
   "execution_count": null,
   "metadata": {
    "ExecuteTime": {
     "end_time": "2020-11-01T21:17:43.375843Z",
     "start_time": "2020-11-01T21:17:43.305939Z"
    },
    "scrolled": false
   },
   "outputs": [],
   "source": [
    "for i in max_loss_ids:\n",
    "    review_body = x_val[i]\n",
    "    \n",
    "    print(f'rating: {y_val_rating[i]}')\n",
    "    print(f'predicted proba: {y_val_proba[i]}')\n",
    "    \n",
    "    review_tokens = re.findall(\"[а-яё]+\", review_body.lower())\n",
    "    \n",
    "    html_string = '''\n",
    "    <p style=\"font-size:16px; color:#000000; border: 2px solid #000; text-align: justify; background-color:#ffffff; border-radius: 25px; padding: 20px;\">\n",
    "    '''\n",
    "\n",
    "    for token in review_tokens:\n",
    "        if token in token2id:\n",
    "            weight = importance[token2id[token]]\n",
    "            if weight < 0:\n",
    "                component = hex(int(255 - 255 * weight / min_importance))[2:]\n",
    "                color = f'{component}{component}ff'\n",
    "            else:\n",
    "                component = hex(int(255 - 255 * weight / max_importance))[2:]\n",
    "                color = f'ff{component}{component}'\n",
    "        else:\n",
    "            weight = 0.0\n",
    "            color = 'ffffff'\n",
    "        html_string += f'<span style=\"background-color: #{color}\"; title=\"{weight:.2f}\">{token}</span> '\n",
    "\n",
    "    html_string += '</p>'\n",
    "\n",
    "    display(HTML(html_string))"
   ]
  },
  {
   "cell_type": "markdown",
   "metadata": {},
   "source": [
    "если присмотреться, то ошибки модели связаны с ошибками в разметке"
   ]
  },
  {
   "cell_type": "markdown",
   "metadata": {
    "ExecuteTime": {
     "end_time": "2020-11-01T20:52:06.817264Z",
     "start_time": "2020-11-01T20:52:06.810876Z"
    }
   },
   "source": [
    "# Проблемы анализа тональности\n",
    "\n",
    "это двойные отрицания и сарказм"
   ]
  },
  {
   "cell_type": "code",
   "execution_count": null,
   "metadata": {
    "ExecuteTime": {
     "end_time": "2020-11-01T20:55:36.015480Z",
     "start_time": "2020-11-01T20:55:36.009679Z"
    }
   },
   "outputs": [],
   "source": [
    "count_model.predict_proba(['ну да, блин, отношение к клиентам супер, спасибо вам...'])"
   ]
  },
  {
   "cell_type": "code",
   "execution_count": null,
   "metadata": {
    "ExecuteTime": {
     "end_time": "2020-11-01T21:10:54.211562Z",
     "start_time": "2020-11-01T21:10:54.204495Z"
    }
   },
   "outputs": [],
   "source": [
    "count_model.predict_proba(['такой клиентоориентированности я еще не видел, сказочные ...'])"
   ]
  },
  {
   "cell_type": "code",
   "execution_count": null,
   "metadata": {
    "ExecuteTime": {
     "end_time": "2020-11-01T21:20:29.429880Z",
     "start_time": "2020-11-01T21:20:29.420810Z"
    }
   },
   "outputs": [],
   "source": [
    "count_model.predict_proba(['выражаю огромную благодарность банку, третий раз пытаюсь оформить доставку карты, но воз и ныне там'])"
   ]
  },
  {
   "cell_type": "code",
   "execution_count": null,
   "metadata": {
    "ExecuteTime": {
     "end_time": "2020-11-01T20:54:36.533472Z",
     "start_time": "2020-11-01T20:54:36.527930Z"
    }
   },
   "outputs": [],
   "source": [
    "count_model.predict_proba(['я думал, что банк окажется хуже некуда, но обошлось'])"
   ]
  },
  {
   "cell_type": "code",
   "execution_count": null,
   "metadata": {
    "ExecuteTime": {
     "end_time": "2020-11-01T21:09:54.953425Z",
     "start_time": "2020-11-01T21:09:54.945994Z"
    }
   },
   "outputs": [],
   "source": [
    "count_model.predict_proba(['раньше ненавидел сбербанк, а теперь всем советую'])"
   ]
  },
  {
   "cell_type": "code",
   "execution_count": null,
   "metadata": {},
   "outputs": [],
   "source": []
  }
 ],
 "metadata": {
  "kernelspec": {
   "display_name": "Python 3",
   "language": "python",
   "name": "python3"
  },
  "language_info": {
   "codemirror_mode": {
    "name": "ipython",
    "version": 3
   },
   "file_extension": ".py",
   "mimetype": "text/x-python",
   "name": "python",
   "nbconvert_exporter": "python",
   "pygments_lexer": "ipython3",
   "version": "3.6.8"
  },
  "toc": {
   "base_numbering": 1,
   "nav_menu": {},
   "number_sections": true,
   "sideBar": true,
   "skip_h1_title": false,
   "title_cell": "Table of Contents",
   "title_sidebar": "Contents",
   "toc_cell": true,
   "toc_position": {},
   "toc_section_display": true,
   "toc_window_display": false
  }
 },
 "nbformat": 4,
 "nbformat_minor": 2
}
